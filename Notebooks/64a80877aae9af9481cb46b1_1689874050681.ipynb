{
  "nbformat": 4,
  "nbformat_minor": 0,
  "metadata": {
    "colab": {
      "provenance": []
    },
    "kernelspec": {
      "name": "python3",
      "display_name": "Python 3"
    },
    "language_info": {
      "name": "python"
    }
  },
  "cells": [
    {
      "cell_type": "code",
      "source": [
        "!pip install antigranular"
      ],
      "metadata": {
        "id": "cWvpn2_ZSt6c",
        "colab": {
          "base_uri": "https://localhost:8080/"
        },
        "outputId": "59303162-a1d8-40fc-9402-049359075ce2"
      },
      "execution_count": 4,
      "outputs": [
        {
          "output_type": "stream",
          "name": "stdout",
          "text": [
            "Requirement already satisfied: antigranular in /usr/local/lib/python3.10/dist-packages (0.2.4)\n",
            "Requirement already satisfied: diffprivlib<0.7.0,>=0.6.2 in /usr/local/lib/python3.10/dist-packages (from antigranular) (0.6.3)\n",
            "Requirement already satisfied: ipython<8.0.0,>=7.34.0 in /usr/local/lib/python3.10/dist-packages (from antigranular) (7.34.0)\n",
            "Requirement already satisfied: oblv-client<0.2.0,>=0.1.15 in /usr/local/lib/python3.10/dist-packages (from antigranular) (0.1.15)\n",
            "Requirement already satisfied: pandas<2.0.0,>=1.5.3 in /usr/local/lib/python3.10/dist-packages (from antigranular) (1.5.3)\n",
            "Requirement already satisfied: pydantic<2.0.0,>=1.10.7 in /usr/local/lib/python3.10/dist-packages (from antigranular) (1.10.11)\n",
            "Requirement already satisfied: requests==2.27.1 in /usr/local/lib/python3.10/dist-packages (from antigranular) (2.27.1)\n",
            "Requirement already satisfied: urllib3<1.27,>=1.21.1 in /usr/local/lib/python3.10/dist-packages (from requests==2.27.1->antigranular) (1.26.16)\n",
            "Requirement already satisfied: certifi>=2017.4.17 in /usr/local/lib/python3.10/dist-packages (from requests==2.27.1->antigranular) (2023.5.7)\n",
            "Requirement already satisfied: charset-normalizer~=2.0.0 in /usr/local/lib/python3.10/dist-packages (from requests==2.27.1->antigranular) (2.0.12)\n",
            "Requirement already satisfied: idna<4,>=2.5 in /usr/local/lib/python3.10/dist-packages (from requests==2.27.1->antigranular) (3.4)\n",
            "Requirement already satisfied: numpy>=1.21.6 in /usr/local/lib/python3.10/dist-packages (from diffprivlib<0.7.0,>=0.6.2->antigranular) (1.22.4)\n",
            "Requirement already satisfied: scikit-learn>=0.24.2 in /usr/local/lib/python3.10/dist-packages (from diffprivlib<0.7.0,>=0.6.2->antigranular) (1.2.2)\n",
            "Requirement already satisfied: scipy>=1.7.3 in /usr/local/lib/python3.10/dist-packages (from diffprivlib<0.7.0,>=0.6.2->antigranular) (1.10.1)\n",
            "Requirement already satisfied: joblib>=0.16.0 in /usr/local/lib/python3.10/dist-packages (from diffprivlib<0.7.0,>=0.6.2->antigranular) (1.3.1)\n",
            "Requirement already satisfied: setuptools>=49.0.0 in /usr/local/lib/python3.10/dist-packages (from diffprivlib<0.7.0,>=0.6.2->antigranular) (67.7.2)\n",
            "Requirement already satisfied: jedi>=0.16 in /usr/local/lib/python3.10/dist-packages (from ipython<8.0.0,>=7.34.0->antigranular) (0.18.2)\n",
            "Requirement already satisfied: decorator in /usr/local/lib/python3.10/dist-packages (from ipython<8.0.0,>=7.34.0->antigranular) (4.4.2)\n",
            "Requirement already satisfied: pickleshare in /usr/local/lib/python3.10/dist-packages (from ipython<8.0.0,>=7.34.0->antigranular) (0.7.5)\n",
            "Requirement already satisfied: traitlets>=4.2 in /usr/local/lib/python3.10/dist-packages (from ipython<8.0.0,>=7.34.0->antigranular) (5.7.1)\n",
            "Requirement already satisfied: prompt-toolkit!=3.0.0,!=3.0.1,<3.1.0,>=2.0.0 in /usr/local/lib/python3.10/dist-packages (from ipython<8.0.0,>=7.34.0->antigranular) (3.0.39)\n",
            "Requirement already satisfied: pygments in /usr/local/lib/python3.10/dist-packages (from ipython<8.0.0,>=7.34.0->antigranular) (2.14.0)\n",
            "Requirement already satisfied: backcall in /usr/local/lib/python3.10/dist-packages (from ipython<8.0.0,>=7.34.0->antigranular) (0.2.0)\n",
            "Requirement already satisfied: matplotlib-inline in /usr/local/lib/python3.10/dist-packages (from ipython<8.0.0,>=7.34.0->antigranular) (0.1.6)\n",
            "Requirement already satisfied: pexpect>4.3 in /usr/local/lib/python3.10/dist-packages (from ipython<8.0.0,>=7.34.0->antigranular) (4.8.0)\n",
            "Requirement already satisfied: python-dateutil>=2.8.1 in /usr/local/lib/python3.10/dist-packages (from pandas<2.0.0,>=1.5.3->antigranular) (2.8.2)\n",
            "Requirement already satisfied: pytz>=2020.1 in /usr/local/lib/python3.10/dist-packages (from pandas<2.0.0,>=1.5.3->antigranular) (2022.7.1)\n",
            "Requirement already satisfied: typing-extensions>=4.2.0 in /usr/local/lib/python3.10/dist-packages (from pydantic<2.0.0,>=1.10.7->antigranular) (4.7.1)\n",
            "Requirement already satisfied: parso<0.9.0,>=0.8.0 in /usr/local/lib/python3.10/dist-packages (from jedi>=0.16->ipython<8.0.0,>=7.34.0->antigranular) (0.8.3)\n",
            "Requirement already satisfied: ptyprocess>=0.5 in /usr/local/lib/python3.10/dist-packages (from pexpect>4.3->ipython<8.0.0,>=7.34.0->antigranular) (0.7.0)\n",
            "Requirement already satisfied: wcwidth in /usr/local/lib/python3.10/dist-packages (from prompt-toolkit!=3.0.0,!=3.0.1,<3.1.0,>=2.0.0->ipython<8.0.0,>=7.34.0->antigranular) (0.2.6)\n",
            "Requirement already satisfied: six>=1.5 in /usr/local/lib/python3.10/dist-packages (from python-dateutil>=2.8.1->pandas<2.0.0,>=1.5.3->antigranular) (1.16.0)\n",
            "Requirement already satisfied: threadpoolctl>=2.0.0 in /usr/local/lib/python3.10/dist-packages (from scikit-learn>=0.24.2->diffprivlib<0.7.0,>=0.6.2->antigranular) (3.1.0)\n"
          ]
        }
      ]
    },
    {
      "cell_type": "code",
      "source": [
        "import antigranular as ag\n",
        "session = ag.login(<client_id>,<client_secret>, dataset = \"Iris Dataset\")"
      ],
      "metadata": {
        "colab": {
          "base_uri": "https://localhost:8080/"
        },
        "id": "nRYH5nhQaFOd",
        "outputId": "50702de8-ac95-4432-a85a-5b5c2d2a338c"
      },
      "execution_count": 1,
      "outputs": [
        {
          "output_type": "stream",
          "name": "stdout",
          "text": [
            "Connected to Antigranular server session id: 0d7690fd-bbb8-4197-a46f-3c04b5443888\n",
            "Cell magic '%%ag' registered successfully, use `%%ag` in a notebook cell to execute your python code on Antigranular private python server\n"
          ]
        }
      ]
    },
    {
      "cell_type": "code",
      "source": [
        "%%ag\n",
        "from op_pandas import PrivateDataFrame , PrivateSeries\n",
        "from ag_utils import load_dataset, export\n",
        "\n",
        "response = load_dataset(\"Iris Dataset\")\n",
        "\n",
        "train_x = response[\"train_x\"]\n",
        "train_y = response[\"train_y\"]\n",
        "test_x = response[\"test_x\"]"
      ],
      "metadata": {
        "id": "wXVRuECnaetF"
      },
      "execution_count": 2,
      "outputs": []
    },
    {
      "cell_type": "markdown",
      "source": [
        "### How the columns look like"
      ],
      "metadata": {
        "id": "5D1U8MkQs9RE"
      }
    },
    {
      "cell_type": "code",
      "source": [
        "%%ag\n",
        "export(train_x.columns, \"columns\")"
      ],
      "metadata": {
        "colab": {
          "base_uri": "https://localhost:8080/"
        },
        "id": "OwhJh4TxrVu9",
        "outputId": "806bd55e-95e3-49fe-d70a-3c8a1b0918c7"
      },
      "execution_count": 3,
      "outputs": [
        {
          "output_type": "stream",
          "name": "stdout",
          "text": [
            "Setting up exported variable in local environment: columns\n"
          ]
        }
      ]
    },
    {
      "cell_type": "code",
      "source": [
        "columns"
      ],
      "metadata": {
        "colab": {
          "base_uri": "https://localhost:8080/"
        },
        "id": "YYAZVlQprbpc",
        "outputId": "b87b035f-e6b5-436f-b7c9-cf32ac0b2d12"
      },
      "execution_count": 4,
      "outputs": [
        {
          "output_type": "execute_result",
          "data": {
            "text/plain": [
              "Index(['sepal_length', 'sepal_width', 'petal_length', 'petal_width'], dtype='object')"
            ]
          },
          "metadata": {},
          "execution_count": 4
        }
      ]
    },
    {
      "cell_type": "code",
      "source": [
        "%%ag\n",
        "hist2d = train_x.hist2d(1, 'sepal_length', 'sepal_width')\n",
        "export(hist2d, 'hist2d')"
      ],
      "metadata": {
        "colab": {
          "base_uri": "https://localhost:8080/"
        },
        "id": "ND5j7tUl4I5c",
        "outputId": "535cc19f-410b-471e-e6b7-8b8fc46992c4"
      },
      "execution_count": 5,
      "outputs": [
        {
          "output_type": "stream",
          "name": "stdout",
          "text": [
            "Setting up exported variable in local environment: hist2d\n"
          ]
        }
      ]
    },
    {
      "cell_type": "code",
      "source": [
        "import matplotlib.pyplot as plt\n",
        "plt.hist(hist2d[0], bins = 10)\n",
        "plt.show()"
      ],
      "metadata": {
        "colab": {
          "base_uri": "https://localhost:8080/",
          "height": 430
        },
        "id": "YRZCaz474I_4",
        "outputId": "62e67b88-edca-459d-ea0a-668fd2e25137"
      },
      "execution_count": 6,
      "outputs": [
        {
          "output_type": "display_data",
          "data": {
            "text/plain": [
              "<Figure size 640x480 with 1 Axes>"
            ],
            "image/png": "[encoded data removed]"
          },
          "metadata": {}
        }
      ]
    },
    {
      "cell_type": "code",
      "source": [
        "%%ag\n",
        "hist2d = train_x.hist2d(1, 'petal_length', 'petal_width')\n",
        "export(hist2d, 'hist2d_petal')"
      ],
      "metadata": {
        "colab": {
          "base_uri": "https://localhost:8080/"
        },
        "id": "G0KoDDIW5Hky",
        "outputId": "f325547c-5dea-4f5c-fd18-71a322b7cbb6"
      },
      "execution_count": 7,
      "outputs": [
        {
          "output_type": "stream",
          "name": "stdout",
          "text": [
            "Setting up exported variable in local environment: hist2d_petal\n"
          ]
        }
      ]
    },
    {
      "cell_type": "code",
      "source": [
        "plt.hist(hist2d_petal[0], bins = 10)\n",
        "plt.show()"
      ],
      "metadata": {
        "colab": {
          "base_uri": "https://localhost:8080/",
          "height": 430
        },
        "id": "Vqgrxmv_5Ntv",
        "outputId": "a319420c-2a85-476b-e857-baa3eb0c2886"
      },
      "execution_count": 8,
      "outputs": [
        {
          "output_type": "display_data",
          "data": {
            "text/plain": [
              "<Figure size 640x480 with 1 Axes>"
            ],
            "image/png": "[encoded data removed]"
          },
          "metadata": {}
        }
      ]
    },
    {
      "cell_type": "code",
      "source": [
        "%%ag\n",
        "export(train_x.describe(eps = 1), \"describe\")"
      ],
      "metadata": {
        "colab": {
          "base_uri": "https://localhost:8080/"
        },
        "id": "8dLdHeYrp8M1",
        "outputId": "2a14338d-0e85-4d9c-a575-94709484a310"
      },
      "execution_count": 9,
      "outputs": [
        {
          "output_type": "stream",
          "name": "stdout",
          "text": [
            "Total epsilon spent = 1.0000\n",
            "\n",
            "Setting up exported variable in local environment: describe\n"
          ]
        }
      ]
    },
    {
      "cell_type": "code",
      "source": [
        "describe"
      ],
      "metadata": {
        "colab": {
          "base_uri": "https://localhost:8080/",
          "height": 300
        },
        "id": "Elz7F4fpqIrc",
        "outputId": "67e50803-1e98-4efb-c77d-39ba15ed98e5"
      },
      "execution_count": 10,
      "outputs": [
        {
          "output_type": "execute_result",
          "data": {
            "text/plain": [
              "       sepal_length  sepal_width  petal_length  petal_width\n",
              "count    120.000000   120.000000    120.000000   120.000000\n",
              "mean       4.396807     3.303162      4.808699     1.687493\n",
              "std        1.882110     0.240265      2.463199     1.082676\n",
              "min        2.997692     2.468865      6.622230     0.552579\n",
              "25%        2.318751     3.169770      5.731680     1.480161\n",
              "50%        2.537892     4.935818      5.634048     1.465698\n",
              "75%        6.495940     4.742367      6.901411     1.246552\n",
              "max        5.669340     4.713373      5.923092     3.319368"
            ],
            "text/html": [
              "\n",
              "\n",
              "  <div id=\"df-5eb7af95-fc11-452d-87b2-1bdbbb1cabbb\">\n",
              "    <div class=\"colab-df-container\">\n",
              "      <div>\n",
              "<style scoped>\n",
              "    .dataframe tbody tr th:only-of-type {\n",
              "        vertical-align: middle;\n",
              "    }\n",
              "\n",
              "    .dataframe tbody tr th {\n",
              "        vertical-align: top;\n",
              "    }\n",
              "\n",
              "    .dataframe thead th {\n",
              "        text-align: right;\n",
              "    }\n",
              "</style>\n",
              "<table border=\"1\" class=\"dataframe\">\n",
              "  <thead>\n",
              "    <tr style=\"text-align: right;\">\n",
              "      <th></th>\n",
              "      <th>sepal_length</th>\n",
              "      <th>sepal_width</th>\n",
              "      <th>petal_length</th>\n",
              "      <th>petal_width</th>\n",
              "    </tr>\n",
              "  </thead>\n",
              "  <tbody>\n",
              "    <tr>\n",
              "      <th>count</th>\n",
              "      <td>120.000000</td>\n",
              "      <td>120.000000</td>\n",
              "      <td>120.000000</td>\n",
              "      <td>120.000000</td>\n",
              "    </tr>\n",
              "    <tr>\n",
              "      <th>mean</th>\n",
              "      <td>4.396807</td>\n",
              "      <td>3.303162</td>\n",
              "      <td>4.808699</td>\n",
              "      <td>1.687493</td>\n",
              "    </tr>\n",
              "    <tr>\n",
              "      <th>std</th>\n",
              "      <td>1.882110</td>\n",
              "      <td>0.240265</td>\n",
              "      <td>2.463199</td>\n",
              "      <td>1.082676</td>\n",
              "    </tr>\n",
              "    <tr>\n",
              "      <th>min</th>\n",
              "      <td>2.997692</td>\n",
              "      <td>2.468865</td>\n",
              "      <td>6.622230</td>\n",
              "      <td>0.552579</td>\n",
              "    </tr>\n",
              "    <tr>\n",
              "      <th>25%</th>\n",
              "      <td>2.318751</td>\n",
              "      <td>3.169770</td>\n",
              "      <td>5.731680</td>\n",
              "      <td>1.480161</td>\n",
              "    </tr>\n",
              "    <tr>\n",
              "      <th>50%</th>\n",
              "      <td>2.537892</td>\n",
              "      <td>4.935818</td>\n",
              "      <td>5.634048</td>\n",
              "      <td>1.465698</td>\n",
              "    </tr>\n",
              "    <tr>\n",
              "      <th>75%</th>\n",
              "      <td>6.495940</td>\n",
              "      <td>4.742367</td>\n",
              "      <td>6.901411</td>\n",
              "      <td>1.246552</td>\n",
              "    </tr>\n",
              "    <tr>\n",
              "      <th>max</th>\n",
              "      <td>5.669340</td>\n",
              "      <td>4.713373</td>\n",
              "      <td>5.923092</td>\n",
              "      <td>3.319368</td>\n",
              "    </tr>\n",
              "  </tbody>\n",
              "</table>\n",
              "</div>\n",
              "      <button class=\"colab-df-convert\" onclick=\"convertToInteractive('df-5eb7af95-fc11-452d-87b2-1bdbbb1cabbb')\"\n",
              "              title=\"Convert this dataframe to an interactive table.\"\n",
              "              style=\"display:none;\">\n",
              "\n",
              "  <svg xmlns=\"http://www.w3.org/2000/svg\" height=\"24px\"viewBox=\"0 0 24 24\"\n",
              "       width=\"24px\">\n",
              "    <path d=\"M0 0h24v24H0V0z\" fill=\"none\"/>\n",
              "    <path d=\"M18.56 5.44l.94 2.06.94-2.06 2.06-.94-2.06-.94-.94-2.06-.94 2.06-2.06.94zm-11 1L8.5 8.5l.94-2.06 2.06-.94-2.06-.94L8.5 2.5l-.94 2.06-2.06.94zm10 10l.94 2.06.94-2.06 2.06-.94-2.06-.94-.94-2.06-.94 2.06-2.06.94z\"/><path d=\"M17.41 7.96l-1.37-1.37c-.4-.4-.92-.59-1.43-.59-.52 0-1.04.2-1.43.59L10.3 9.45l-7.72 7.72c-.78.78-.78 2.05 0 2.83L4 21.41c.39.39.9.59 1.41.59.51 0 1.02-.2 1.41-.59l7.78-7.78 2.81-2.81c.8-.78.8-2.07 0-2.86zM5.41 20L4 18.59l7.72-7.72 1.47 1.35L5.41 20z\"/>\n",
              "  </svg>\n",
              "      </button>\n",
              "\n",
              "\n",
              "\n",
              "    <div id=\"df-0af36e37-d4da-4eba-a9d8-54dabc1b476c\">\n",
              "      <button class=\"colab-df-quickchart\" onclick=\"quickchart('df-0af36e37-d4da-4eba-a9d8-54dabc1b476c')\"\n",
              "              title=\"Suggest charts.\"\n",
              "              style=\"display:none;\">\n",
              "\n",
              "<svg xmlns=\"http://www.w3.org/2000/svg\" height=\"24px\"viewBox=\"0 0 24 24\"\n",
              "     width=\"24px\">\n",
              "    <g>\n",
              "        <path d=\"M19 3H5c-1.1 0-2 .9-2 2v14c0 1.1.9 2 2 2h14c1.1 0 2-.9 2-2V5c0-1.1-.9-2-2-2zM9 17H7v-7h2v7zm4 0h-2V7h2v10zm4 0h-2v-4h2v4z\"/>\n",
              "    </g>\n",
              "</svg>\n",
              "      </button>\n",
              "    </div>\n",
              "\n",
              "<style>\n",
              "  .colab-df-quickchart {\n",
              "    background-color: #E8F0FE;\n",
              "    border: none;\n",
              "    border-radius: 50%;\n",
              "    cursor: pointer;\n",
              "    display: none;\n",
              "    fill: #1967D2;\n",
              "    height: 32px;\n",
              "    padding: 0 0 0 0;\n",
              "    width: 32px;\n",
              "  }\n",
              "\n",
              "  .colab-df-quickchart:hover {\n",
              "    background-color: #E2EBFA;\n",
              "    box-shadow: 0px 1px 2px rgba(60, 64, 67, 0.3), 0px 1px 3px 1px rgba(60, 64, 67, 0.15);\n",
              "    fill: #174EA6;\n",
              "  }\n",
              "\n",
              "  [theme=dark] .colab-df-quickchart {\n",
              "    background-color: #3B4455;\n",
              "    fill: #D2E3FC;\n",
              "  }\n",
              "\n",
              "  [theme=dark] .colab-df-quickchart:hover {\n",
              "    background-color: #434B5C;\n",
              "    box-shadow: 0px 1px 3px 1px rgba(0, 0, 0, 0.15);\n",
              "    filter: drop-shadow(0px 1px 2px rgba(0, 0, 0, 0.3));\n",
              "    fill: #FFFFFF;\n",
              "  }\n",
              "</style>\n",
              "\n",
              "    <script>\n",
              "      async function quickchart(key) {\n",
              "        const containerElement = document.querySelector('#' + key);\n",
              "        const charts = await google.colab.kernel.invokeFunction(\n",
              "            'suggestCharts', [key], {});\n",
              "      }\n",
              "    </script>\n",
              "\n",
              "      <script>\n",
              "\n",
              "function displayQuickchartButton(domScope) {\n",
              "  let quickchartButtonEl =\n",
              "    domScope.querySelector('#df-0af36e37-d4da-4eba-a9d8-54dabc1b476c button.colab-df-quickchart');\n",
              "  quickchartButtonEl.style.display =\n",
              "    google.colab.kernel.accessAllowed ? 'block' : 'none';\n",
              "}\n",
              "\n",
              "        displayQuickchartButton(document);\n",
              "      </script>\n",
              "      <style>\n",
              "    .colab-df-container {\n",
              "      display:flex;\n",
              "      flex-wrap:wrap;\n",
              "      gap: 12px;\n",
              "    }\n",
              "\n",
              "    .colab-df-convert {\n",
              "      background-color: #E8F0FE;\n",
              "      border: none;\n",
              "      border-radius: 50%;\n",
              "      cursor: pointer;\n",
              "      display: none;\n",
              "      fill: #1967D2;\n",
              "      height: 32px;\n",
              "      padding: 0 0 0 0;\n",
              "      width: 32px;\n",
              "    }\n",
              "\n",
              "    .colab-df-convert:hover {\n",
              "      background-color: #E2EBFA;\n",
              "      box-shadow: 0px 1px 2px rgba(60, 64, 67, 0.3), 0px 1px 3px 1px rgba(60, 64, 67, 0.15);\n",
              "      fill: #174EA6;\n",
              "    }\n",
              "\n",
              "    [theme=dark] .colab-df-convert {\n",
              "      background-color: #3B4455;\n",
              "      fill: #D2E3FC;\n",
              "    }\n",
              "\n",
              "    [theme=dark] .colab-df-convert:hover {\n",
              "      background-color: #434B5C;\n",
              "      box-shadow: 0px 1px 3px 1px rgba(0, 0, 0, 0.15);\n",
              "      filter: drop-shadow(0px 1px 2px rgba(0, 0, 0, 0.3));\n",
              "      fill: #FFFFFF;\n",
              "    }\n",
              "  </style>\n",
              "\n",
              "      <script>\n",
              "        const buttonEl =\n",
              "          document.querySelector('#df-5eb7af95-fc11-452d-87b2-1bdbbb1cabbb button.colab-df-convert');\n",
              "        buttonEl.style.display =\n",
              "          google.colab.kernel.accessAllowed ? 'block' : 'none';\n",
              "\n",
              "        async function convertToInteractive(key) {\n",
              "          const element = document.querySelector('#df-5eb7af95-fc11-452d-87b2-1bdbbb1cabbb');\n",
              "          const dataTable =\n",
              "            await google.colab.kernel.invokeFunction('convertToInteractive',\n",
              "                                                     [key], {});\n",
              "          if (!dataTable) return;\n",
              "\n",
              "          const docLinkHtml = 'Like what you see? Visit the ' +\n",
              "            '<a target=\"_blank\" href=https://colab.research.google.com/notebooks/data_table.ipynb>data table notebook</a>'\n",
              "            + ' to learn more about interactive tables.';\n",
              "          element.innerHTML = '';\n",
              "          dataTable['output_type'] = 'display_data';\n",
              "          await google.colab.output.renderOutput(dataTable, element);\n",
              "          const docLink = document.createElement('div');\n",
              "          docLink.innerHTML = docLinkHtml;\n",
              "          element.appendChild(docLink);\n",
              "        }\n",
              "      </script>\n",
              "    </div>\n",
              "  </div>\n"
            ]
          },
          "metadata": {},
          "execution_count": 10
        }
      ]
    },
    {
      "cell_type": "markdown",
      "source": [
        "### Encoding train_y"
      ],
      "metadata": {
        "id": "Fk1zSOrVyPvl"
      }
    },
    {
      "cell_type": "code",
      "source": [
        "%%ag\n",
        "from typing import Any\n",
        "# encoding categoricals\n",
        "def func_(x:str)-> int:\n",
        "  if x == 'Iris-setosa':\n",
        "    return 0\n",
        "  elif x == 'Iris-versicolor':\n",
        "    return 1\n",
        "  else: # Iris-virginica\n",
        "    return 2\n",
        "\n",
        "train_y_encoded = train_y.applymap(func_ , output_bounds={'species':(0,2)})"
      ],
      "metadata": {
        "id": "tL34yAc2yPcg"
      },
      "execution_count": 11,
      "outputs": []
    },
    {
      "cell_type": "markdown",
      "source": [
        "## Logistic Regression\n",
        "\n",
        "\n"
      ],
      "metadata": {
        "id": "Hj7aaUrutGMW"
      }
    },
    {
      "cell_type": "code",
      "source": [
        "%%ag\n",
        "from op_diffprivlib.models import LogisticRegression"
      ],
      "metadata": {
        "id": "uYhLorzCu-Hv"
      },
      "execution_count": 12,
      "outputs": []
    },
    {
      "cell_type": "code",
      "source": [
        "%%ag\n",
        "train_x_2 = train_x ** 2\n",
        "l_2_norm = train_x_2.sum(axis = 1) ** 0.5\n",
        "l_2_norm = l_2_norm.quantile(1, eps=1)    # dp_max(sum(x**2, 1)**0.5)"
      ],
      "metadata": {
        "id": "3Vkak1JkwIKk"
      },
      "execution_count": 13,
      "outputs": []
    },
    {
      "cell_type": "code",
      "source": [
        "%%ag\n",
        "logr = LogisticRegression(epsilon = 3, data_norm = l_2_norm)\n",
        "logr.fit(train_x, train_y_encoded)\n",
        "test_y = logr.predict(test_x)"
      ],
      "metadata": {
        "colab": {
          "base_uri": "https://localhost:8080/"
        },
        "id": "KcAmGpci0HJ9",
        "outputId": "91512f94-e0a5-40af-f0de-beab9d0ac020"
      },
      "execution_count": 14,
      "outputs": [
        {
          "output_type": "stream",
          "name": "stderr",
          "text": [
            "/usr/local/lib/python3.10/site-packages/sklearn/utils/validation.py:1184: DataConversionWarning: A column-vector y was passed when a 1d array was expected. Please change the shape of y to (n_samples, ), for example using ravel().\n",
            "  y = column_or_1d(y, warn=True)\n",
            "\n"
          ]
        }
      ]
    },
    {
      "cell_type": "code",
      "source": [
        "%%ag\n",
        "export(test_y, \"test_y\")"
      ],
      "metadata": {
        "colab": {
          "base_uri": "https://localhost:8080/"
        },
        "id": "g26FhP7I0Xy1",
        "outputId": "9ecb4e77-e152-43df-f3ca-c43bc4b066e5"
      },
      "execution_count": 15,
      "outputs": [
        {
          "output_type": "stream",
          "name": "stdout",
          "text": [
            "Setting up exported variable in local environment: test_y\n"
          ]
        }
      ]
    },
    {
      "cell_type": "code",
      "source": [
        "test_y"
      ],
      "metadata": {
        "colab": {
          "base_uri": "https://localhost:8080/"
        },
        "id": "6mDVw0IC3Qg8",
        "outputId": "7d2a35dd-3af9-4dca-c491-e064d5725eb5"
      },
      "execution_count": 16,
      "outputs": [
        {
          "output_type": "execute_result",
          "data": {
            "text/plain": [
              "array([0, 2, 0, 1, 1, 2, 2, 2, 2, 1, 1, 2, 2, 2, 2, 1, 0, 1, 0, 0, 2, 1,\n",
              "       2, 0, 1, 2, 0, 0, 2, 2])"
            ]
          },
          "metadata": {},
          "execution_count": 16
        }
      ]
    },
    {
      "cell_type": "code",
      "source": [
        "def func_(x: int)-> str:\n",
        "  if x == 0:\n",
        "    return 'Iris-setosa'\n",
        "  elif x == 1:\n",
        "    return 'Iris-versicolor'\n",
        "  else:\n",
        "    return 'Iris-virginica'\n",
        "\n",
        "test_y = [func_(x) for x in test_y]"
      ],
      "metadata": {
        "id": "E1nnK4zQ3UVm"
      },
      "execution_count": 17,
      "outputs": []
    },
    {
      "cell_type": "code",
      "source": [
        "test_y"
      ],
      "metadata": {
        "colab": {
          "base_uri": "https://localhost:8080/"
        },
        "id": "SxcTvVu77ihb",
        "outputId": "ed1f800b-0308-47a7-a997-ecdec07456bd"
      },
      "execution_count": 18,
      "outputs": [
        {
          "output_type": "execute_result",
          "data": {
            "text/plain": [
              "['Iris-setosa',\n",
              " 'Iris-virginica',\n",
              " 'Iris-setosa',\n",
              " 'Iris-versicolor',\n",
              " 'Iris-versicolor',\n",
              " 'Iris-virginica',\n",
              " 'Iris-virginica',\n",
              " 'Iris-virginica',\n",
              " 'Iris-virginica',\n",
              " 'Iris-versicolor',\n",
              " 'Iris-versicolor',\n",
              " 'Iris-virginica',\n",
              " 'Iris-virginica',\n",
              " 'Iris-virginica',\n",
              " 'Iris-virginica',\n",
              " 'Iris-versicolor',\n",
              " 'Iris-setosa',\n",
              " 'Iris-versicolor',\n",
              " 'Iris-setosa',\n",
              " 'Iris-setosa',\n",
              " 'Iris-virginica',\n",
              " 'Iris-versicolor',\n",
              " 'Iris-virginica',\n",
              " 'Iris-setosa',\n",
              " 'Iris-versicolor',\n",
              " 'Iris-virginica',\n",
              " 'Iris-setosa',\n",
              " 'Iris-setosa',\n",
              " 'Iris-virginica',\n",
              " 'Iris-virginica']"
            ]
          },
          "metadata": {},
          "execution_count": 18
        }
      ]
    },
    {
      "cell_type": "code",
      "source": [
        "import pandas as pd\n",
        "y_df = pd.DataFrame(test_y)\n",
        "result = session.submit_predictions(y_df)\n",
        "print(result) ## output will be different during a competition"
      ],
      "metadata": {
        "colab": {
          "base_uri": "https://localhost:8080/"
        },
        "id": "nML4lag3UIJ1",
        "outputId": "5ec28155-3e48-4642-abec-c6d598a36070"
      },
      "execution_count": 19,
      "outputs": [
        {
          "output_type": "stream",
          "name": "stdout",
          "text": [
            "{'detail': 'Internal wrror while submitting predictions.'}\n"
          ]
        }
      ]
    }
  ]
}