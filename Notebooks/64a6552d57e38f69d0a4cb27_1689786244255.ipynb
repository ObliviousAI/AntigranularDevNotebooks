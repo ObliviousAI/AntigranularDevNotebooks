{
 "cells": [
  {
   "cell_type": "code",
   "execution_count": 1,
   "metadata": {},
   "outputs": [
    {
     "name": "stdout",
     "output_type": "stream",
     "text": [
      "Connected to Antigranular server session id: 95bcdd9e-f604-451f-ba6c-70101ee37357\n",
      "Cell magic '%%ag' registered successfully, use `%%ag` in a notebook cell to execute your python code on Antigranular private python server\n"
     ]
    }
   ],
   "source": [
    "import antigranular as ag\n",
    "session = ag.login(<client_id>,<client_secret>, dataset = \"Iris Dataset\")"
   ]
  },
  {
   "cell_type": "code",
   "execution_count": 2,
   "metadata": {},
   "outputs": [],
   "source": [
    "%%ag\n",
    "from ag_utils import load_dataset, export\n",
    "dataset = load_dataset(\"Iris Dataset\")\n",
    "train_x = dataset[\"train_x\"]\n",
    "train_y = dataset[\"train_y\"]\n",
    "test_x = dataset[\"test_x\"]"
   ]
  },
  {
   "cell_type": "code",
   "execution_count": 9,
   "metadata": {},
   "outputs": [
    {
     "name": "stdout",
     "output_type": "stream",
     "text": [
      "Setting up exported variable in local environment: test_x\n",
      "Total epsilon spent = 1.0000\n",
      "\n"
     ]
    }
   ],
   "source": [
    "%%ag\n",
    "export(test_x.describe(eps=1),\"test_x\")"
   ]
  },
  {
   "cell_type": "code",
   "execution_count": 8,
   "metadata": {},
   "outputs": [],
   "source": [
    "%%ag\n",
    "import op_snsql\n",
    "privacy = op_snsql.Privacy(epsilon=1, delta=0.1)\n",
    "# df_x = op_snsql.from_df(train_x,privacy,metadata=None)\n",
    "df_y = op_snsql.from_df(train_y,privacy=privacy,metadata={\n",
    "        \"df_y\": {\n",
    "            \"df_y\": {\n",
    "                \"rows\": 120,\n",
    "                \"species\": {\n",
    "                    \"type\": \"string\"\n",
    "                }\n",
    "            }\n",
    "        }\n",
    "})"
   ]
  },
  {
   "cell_type": "code",
   "execution_count": 7,
   "metadata": {},
   "outputs": [
    {
     "name": "stdout",
     "output_type": "stream",
     "text": [
      "\u001b[0;31m---------------------------------------------------------------------------\u001b[0m\u001b[0;31mValueError\u001b[0m                                Traceback (most recent call last)Cell \u001b[0;32mIn[6], line 1\u001b[0m\n",
      "\u001b[0;32m----> 1\u001b[0m result \u001b[38;5;241m=\u001b[39m df_y\u001b[38;5;241m.\u001b[39mexecute(\u001b[38;5;124m'\u001b[39m\u001b[38;5;124mSELECT species, COUNT(species) FROM df_y GROUP BY species\u001b[39m\u001b[38;5;124m'\u001b[39m)\n",
      "File \u001b[0;32m/code/dependencies/op_smartnoise/op_snsql/__init__.py:19\u001b[0m, in \u001b[0;36m_PrivateReader.execute\u001b[0;34m(self, query_string, accuracy, pre_aggregated, postprocess, *ignore)\u001b[0m\n",
      "\u001b[1;32m     11\u001b[0m \u001b[38;5;28;01mdef\u001b[39;00m \u001b[38;5;21mexecute\u001b[39m(\n",
      "\u001b[1;32m     12\u001b[0m     \u001b[38;5;28mself\u001b[39m,\n",
      "\u001b[1;32m     13\u001b[0m     query_string,\n",
      "\u001b[0;32m   (...)\u001b[0m\n",
      "\u001b[1;32m     17\u001b[0m     postprocess: \u001b[38;5;28mbool\u001b[39m \u001b[38;5;241m=\u001b[39m \u001b[38;5;28;01mTrue\u001b[39;00m\n",
      "\u001b[1;32m     18\u001b[0m ):\n",
      "\u001b[0;32m---> 19\u001b[0m     result \u001b[38;5;241m=\u001b[39m \u001b[38;5;28;43mself\u001b[39;49m\u001b[38;5;241;43m.\u001b[39;49m\u001b[43mengine\u001b[49m\u001b[38;5;241;43m.\u001b[39;49m\u001b[43mexecute\u001b[49m\u001b[43m(\u001b[49m\n",
      "\u001b[1;32m     20\u001b[0m \u001b[43m        \u001b[49m\u001b[43mquery_string\u001b[49m\u001b[43m,\u001b[49m\u001b[43m \u001b[49m\u001b[43maccuracy\u001b[49m\u001b[43m,\u001b[49m\u001b[43m \u001b[49m\u001b[38;5;241;43m*\u001b[39;49m\u001b[43mignore\u001b[49m\u001b[43m,\u001b[49m\u001b[43m \u001b[49m\u001b[43mpre_aggregated\u001b[49m\u001b[43m,\u001b[49m\u001b[43m \u001b[49m\u001b[43mpostprocess\u001b[49m\n",
      "\u001b[1;32m     21\u001b[0m \u001b[43m    \u001b[49m\u001b[43m)\u001b[49m\n",
      "\u001b[1;32m     22\u001b[0m     eps, del_ \u001b[38;5;241m=\u001b[39m \u001b[38;5;28mself\u001b[39m\u001b[38;5;241m.\u001b[39mengine\u001b[38;5;241m.\u001b[39modometer\u001b[38;5;241m.\u001b[39mspent\n",
      "\u001b[1;32m     24\u001b[0m     \u001b[38;5;28;01mtry\u001b[39;00m:\n",
      "File \u001b[0;32m/usr/local/lib/python3.10/site-packages/snsql/sql/private_reader.py:486\u001b[0m, in \u001b[0;36mPrivateReader.execute\u001b[0;34m(self, query_string, accuracy, pre_aggregated, postprocess, *ignore)\u001b[0m\n",
      "\u001b[1;32m    467\u001b[0m \u001b[38;5;28;01mdef\u001b[39;00m \u001b[38;5;21mexecute\u001b[39m(\u001b[38;5;28mself\u001b[39m, query_string, accuracy:\u001b[38;5;28mbool\u001b[39m\u001b[38;5;241m=\u001b[39m\u001b[38;5;28;01mFalse\u001b[39;00m, \u001b[38;5;241m*\u001b[39mignore, pre_aggregated\u001b[38;5;241m=\u001b[39m\u001b[38;5;28;01mNone\u001b[39;00m, postprocess:\u001b[38;5;28mbool\u001b[39m\u001b[38;5;241m=\u001b[39m\u001b[38;5;28;01mTrue\u001b[39;00m):\n",
      "\u001b[1;32m    468\u001b[0m \u001b[38;5;250m    \u001b[39m\u001b[38;5;124;03m\"\"\"Executes a query and returns a recordset that is differentially private.\u001b[39;00m\n",
      "\u001b[1;32m    469\u001b[0m \n",
      "\u001b[1;32m    470\u001b[0m \u001b[38;5;124;03m    Follows ODBC and DB_API convention of consuming query as a string and returning\u001b[39;00m\n",
      "\u001b[0;32m   (...)\u001b[0m\n",
      "\u001b[1;32m    484\u001b[0m \n",
      "\u001b[1;32m    485\u001b[0m \u001b[38;5;124;03m    \"\"\"\u001b[39;00m\n",
      "\u001b[0;32m--> 486\u001b[0m     query \u001b[38;5;241m=\u001b[39m \u001b[38;5;28;43mself\u001b[39;49m\u001b[38;5;241;43m.\u001b[39;49m\u001b[43mparse_query_string\u001b[49m\u001b[43m(\u001b[49m\u001b[43mquery_string\u001b[49m\u001b[43m)\u001b[49m\n",
      "\u001b[1;32m    487\u001b[0m     \u001b[38;5;28;01mreturn\u001b[39;00m \u001b[38;5;28mself\u001b[39m\u001b[38;5;241m.\u001b[39m_execute_ast(\n",
      "\u001b[1;32m    488\u001b[0m         query, \n",
      "\u001b[1;32m    489\u001b[0m         accuracy\u001b[38;5;241m=\u001b[39maccuracy, \n",
      "\u001b[1;32m    490\u001b[0m         pre_aggregated\u001b[38;5;241m=\u001b[39mpre_aggregated, \n",
      "\u001b[1;32m    491\u001b[0m         postprocess\u001b[38;5;241m=\u001b[39mpostprocess\n",
      "\u001b[1;32m    492\u001b[0m     )\n",
      "File \u001b[0;32m/usr/local/lib/python3.10/site-packages/snsql/sql/private_reader.py:267\u001b[0m, in \u001b[0;36mPrivateReader.parse_query_string\u001b[0;34m(self, query_string)\u001b[0m\n",
      "\u001b[1;32m    254\u001b[0m \u001b[38;5;28;01mdef\u001b[39;00m \u001b[38;5;21mparse_query_string\u001b[39m(\u001b[38;5;28mself\u001b[39m, query_string) \u001b[38;5;241m-\u001b[39m\u001b[38;5;241m>\u001b[39m Query:\n",
      "\u001b[1;32m    255\u001b[0m \u001b[38;5;250m    \u001b[39m\u001b[38;5;124;03m\"\"\"Parse a query string, returning an AST `Query` object.\u001b[39;00m\n",
      "\u001b[1;32m    256\u001b[0m \n",
      "\u001b[1;32m    257\u001b[0m \u001b[38;5;124;03m    .. code-block:: python\u001b[39;00m\n",
      "\u001b[0;32m   (...)\u001b[0m\n",
      "\u001b[1;32m    265\u001b[0m \n",
      "\u001b[1;32m    266\u001b[0m \u001b[38;5;124;03m    \"\"\"\u001b[39;00m\n",
      "\u001b[0;32m--> 267\u001b[0m     queries \u001b[38;5;241m=\u001b[39m \u001b[43mQueryParser\u001b[49m\u001b[43m(\u001b[49m\u001b[38;5;28;43mself\u001b[39;49m\u001b[38;5;241;43m.\u001b[39;49m\u001b[43mmetadata\u001b[49m\u001b[43m)\u001b[49m\u001b[38;5;241;43m.\u001b[39;49m\u001b[43mqueries\u001b[49m\u001b[43m(\u001b[49m\u001b[43mquery_string\u001b[49m\u001b[43m)\u001b[49m\n",
      "\u001b[1;32m    268\u001b[0m     \u001b[38;5;28;01mif\u001b[39;00m \u001b[38;5;28mlen\u001b[39m(queries) \u001b[38;5;241m>\u001b[39m \u001b[38;5;241m1\u001b[39m:\n",
      "\u001b[1;32m    269\u001b[0m         \u001b[38;5;28;01mraise\u001b[39;00m \u001b[38;5;167;01mValueError\u001b[39;00m(\u001b[38;5;124m\"\u001b[39m\u001b[38;5;124mToo many queries provided.  We can only execute one query at a time.\u001b[39m\u001b[38;5;124m\"\u001b[39m)\n",
      "File \u001b[0;32m/usr/local/lib/python3.10/site-packages/snsql/sql/parse.py:44\u001b[0m, in \u001b[0;36mQueryParser.queries\u001b[0;34m(self, query_string, metadata)\u001b[0m\n",
      "\u001b[1;32m     42\u001b[0m \u001b[38;5;28;01mif\u001b[39;00m metadata \u001b[38;5;129;01mis\u001b[39;00m \u001b[38;5;129;01mnot\u001b[39;00m \u001b[38;5;28;01mNone\u001b[39;00m:\n",
      "\u001b[1;32m     43\u001b[0m     \u001b[38;5;28;01mfor\u001b[39;00m q \u001b[38;5;129;01min\u001b[39;00m queries:\n",
      "\u001b[0;32m---> 44\u001b[0m         \u001b[43mq\u001b[49m\u001b[38;5;241;43m.\u001b[39;49m\u001b[43mload_symbols\u001b[49m\u001b[43m(\u001b[49m\u001b[43mmetadata\u001b[49m\u001b[43m)\u001b[49m\n",
      "\u001b[1;32m     45\u001b[0m \u001b[38;5;28;01mreturn\u001b[39;00m queries\n",
      "File \u001b[0;32m/usr/local/lib/python3.10/site-packages/snsql/_ast/ast.py:50\u001b[0m, in \u001b[0;36mQuery.load_symbols\u001b[0;34m(self, metadata, privacy)\u001b[0m\n",
      "\u001b[1;32m     48\u001b[0m relations \u001b[38;5;241m=\u001b[39m \u001b[38;5;28mself\u001b[39m\u001b[38;5;241m.\u001b[39msource\u001b[38;5;241m.\u001b[39mrelations\n",
      "\u001b[1;32m     49\u001b[0m \u001b[38;5;28;01mfor\u001b[39;00m r \u001b[38;5;129;01min\u001b[39;00m relations:\n",
      "\u001b[0;32m---> 50\u001b[0m     \u001b[43mr\u001b[49m\u001b[38;5;241;43m.\u001b[39;49m\u001b[43mload_symbols\u001b[49m\u001b[43m(\u001b[49m\u001b[43mmetadata\u001b[49m\u001b[43m,\u001b[49m\u001b[43m \u001b[49m\u001b[43mprivacy\u001b[49m\u001b[38;5;241;43m=\u001b[39;49m\u001b[43mprivacy\u001b[49m\u001b[43m)\u001b[49m\n",
      "\u001b[1;32m     51\u001b[0m \u001b[38;5;28;01mif\u001b[39;00m \u001b[38;5;129;01mnot\u001b[39;00m \u001b[38;5;28mall\u001b[39m([r\u001b[38;5;241m.\u001b[39mhas_symbols() \u001b[38;5;28;01mfor\u001b[39;00m r \u001b[38;5;129;01min\u001b[39;00m relations]):\n",
      "\u001b[1;32m     52\u001b[0m     \u001b[38;5;28;01mreturn\u001b[39;00m  \u001b[38;5;66;03m# unable to load symbols\u001b[39;00m\n",
      "File \u001b[0;32m/usr/local/lib/python3.10/site-packages/snsql/_ast/ast.py:323\u001b[0m, in \u001b[0;36mRelation.load_symbols\u001b[0;34m(self, metadata, privacy)\u001b[0m\n",
      "\u001b[1;32m    321\u001b[0m relations \u001b[38;5;241m=\u001b[39m [\u001b[38;5;28mself\u001b[39m\u001b[38;5;241m.\u001b[39mprimary] \u001b[38;5;241m+\u001b[39m [j \u001b[38;5;28;01mfor\u001b[39;00m j \u001b[38;5;129;01min\u001b[39;00m \u001b[38;5;28mself\u001b[39m\u001b[38;5;241m.\u001b[39mjoins]\n",
      "\u001b[1;32m    322\u001b[0m \u001b[38;5;28;01mfor\u001b[39;00m r \u001b[38;5;129;01min\u001b[39;00m relations:\n",
      "\u001b[0;32m--> 323\u001b[0m     \u001b[43mr\u001b[49m\u001b[38;5;241;43m.\u001b[39;49m\u001b[43mload_symbols\u001b[49m\u001b[43m(\u001b[49m\u001b[43mmetadata\u001b[49m\u001b[43m,\u001b[49m\u001b[43m \u001b[49m\u001b[43mprivacy\u001b[49m\u001b[43m)\u001b[49m\n",
      "\u001b[1;32m    324\u001b[0m \u001b[38;5;66;03m# check the join keys\u001b[39;00m\n",
      "\u001b[1;32m    325\u001b[0m \u001b[38;5;28;01mif\u001b[39;00m \u001b[38;5;28mlen\u001b[39m(\u001b[38;5;28mself\u001b[39m\u001b[38;5;241m.\u001b[39mjoins) \u001b[38;5;241m>\u001b[39m \u001b[38;5;241m0\u001b[39m:\n",
      "File \u001b[0;32m/usr/local/lib/python3.10/site-packages/snsql/_ast/ast.py:429\u001b[0m, in \u001b[0;36mTable.load_symbols\u001b[0;34m(self, metadata, privacy)\u001b[0m\n",
      "\u001b[1;32m    427\u001b[0m table \u001b[38;5;241m=\u001b[39m metadata[\u001b[38;5;28mstr\u001b[39m(\u001b[38;5;28mself\u001b[39m\u001b[38;5;241m.\u001b[39mname)]\n",
      "\u001b[1;32m    428\u001b[0m \u001b[38;5;28;01mif\u001b[39;00m table \u001b[38;5;129;01mis\u001b[39;00m \u001b[38;5;28;01mNone\u001b[39;00m:\n",
      "\u001b[0;32m--> 429\u001b[0m     \u001b[38;5;28;01mraise\u001b[39;00m \u001b[38;5;167;01mValueError\u001b[39;00m(\u001b[38;5;124m\"\u001b[39m\u001b[38;5;124mNo metadata available for \u001b[39m\u001b[38;5;124m\"\u001b[39m \u001b[38;5;241m+\u001b[39m \u001b[38;5;28mstr\u001b[39m(\u001b[38;5;28mself\u001b[39m\u001b[38;5;241m.\u001b[39mname))\n",
      "\u001b[1;32m    430\u001b[0m tc \u001b[38;5;241m=\u001b[39m table\u001b[38;5;241m.\u001b[39mm_columns\n",
      "\u001b[1;32m    431\u001b[0m \u001b[38;5;28;01mdef\u001b[39;00m \u001b[38;5;21mget_table_expr\u001b[39m(name):\n",
      "\u001b[0;31mValueError\u001b[0m: No metadata available for df_y\n"
     ]
    }
   ],
   "source": [
    "%%ag\n",
    "\n",
    "result = df_y.execute('SELECT species, COUNT(species) FROM df_y GROUP BY species')"
   ]
  },
  {
   "cell_type": "code",
   "execution_count": 10,
   "metadata": {},
   "outputs": [],
   "source": [
    "%%ag\n",
    "import numpy as np\n",
    "train_X_sepal_length = train_x[['sepal_length']]"
   ]
  },
  {
   "cell_type": "code",
   "execution_count": 6,
   "metadata": {},
   "outputs": [
    {
     "name": "stderr",
     "output_type": "stream",
     "text": [
      "/usr/local/lib/python3.10/site-packages/sklearn/utils/validation.py:1184: DataConversionWarning: A column-vector y was passed when a 1d array was expected. Please change the shape of y to (n_samples, ), for example using ravel().\n",
      "  y = column_or_1d(y, warn=True)\n",
      "\n"
     ]
    }
   ],
   "source": [
    "%%ag\n",
    "from op_diffprivlib.models import RandomForestClassifier\n",
    "classifier = RandomForestClassifier(epsilon=0.1, bounds=(2,7),classes=[\"Iris-setosa\", \"Iris-versicolor\", \"Iris-virginica\"])\n",
    "# ,classes=[])\n",
    "classifier.fit(train_x,train_y)"
   ]
  },
  {
   "cell_type": "code",
   "execution_count": null,
   "metadata": {},
   "outputs": [],
   "source": [
    "%%ag\n",
    "import numpy as np\n",
    "test_X_sepal_length = test_x[['sepal_length']]"
   ]
  },
  {
   "cell_type": "code",
   "execution_count": 7,
   "metadata": {},
   "outputs": [
    {
     "name": "stderr",
     "output_type": "stream",
     "text": [
      "UsageError: mypy strict mode failed with error code: 1 error: <string>:13: \u001b[1m\u001b[31merror:\u001b[m Name \u001b[m\u001b[1m\"test_X_sepal_length\"\u001b[m is not defined  \u001b[m\u001b[33m[name-defined]\u001b[m\n",
      "\u001b[1m\u001b[31mFound 1 error in 1 file (checked 1 source file)\u001b[m\n",
      "\n",
      ": from ag_utils import load_dataset, export\n",
      "dataset = load_dataset('Iris Dataset')\n",
      "train_x = dataset['train_x']\n",
      "train_y = dataset['train_y']\n",
      "test_x = dataset['test_x']\n",
      "export(test_x.describe(eps=1), 'test_x')\n",
      "export(test_x.describe(eps=1), 'test_x')\n",
      "from op_diffprivlib.models import RandomForestClassifier\n",
      "classifier = RandomForestClassifier(epsilon=0.1, bounds=(2, 7), classes=['Iris-setosa', 'Iris-versicolor', 'Iris-virginica'])\n",
      "from op_diffprivlib.models import RandomForestClassifier\n",
      "classifier = RandomForestClassifier(epsilon=0.1, bounds=(2, 7), classes=['Iris-setosa', 'Iris-versicolor', 'Iris-virginica'])\n",
      "classifier.fit(train_x, train_y)\n",
      "prediction = classifier.predict(test_X_sepal_length)\n",
      "\n"
     ]
    }
   ],
   "source": [
    "%%ag\n",
    "# test_x = test_x.preprocess()\n",
    "prediction = classifier.predict(test_x)\n",
    "export(prediction,\"prediction\")"
   ]
  },
  {
   "cell_type": "code",
   "execution_count": null,
   "metadata": {},
   "outputs": [],
   "source": [
    "print(len(prediction))"
   ]
  }
 ],
 "metadata": {
  "kernelspec": {
   "display_name": "env",
   "language": "python",
   "name": "python3"
  },
  "language_info": {
   "codemirror_mode": {
    "name": "ipython",
    "version": 3
   },
   "file_extension": ".py",
   "mimetype": "text/x-python",
   "name": "python",
   "nbconvert_exporter": "python",
   "pygments_lexer": "ipython3",
   "version": "3.9.7"
  },
  "orig_nbformat": 4
 },
 "nbformat": 4,
 "nbformat_minor": 2
}
