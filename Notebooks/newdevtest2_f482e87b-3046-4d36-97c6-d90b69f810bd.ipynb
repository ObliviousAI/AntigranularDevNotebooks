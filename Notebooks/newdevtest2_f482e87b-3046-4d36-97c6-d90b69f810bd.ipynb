{
 "cells": [
  {
   "cell_type": "code",
   "execution_count": 1,
   "metadata": {},
   "outputs": [
    {
     "data": {
      "text/html": [],
      "text/plain": [
       "<IPython.core.display.HTML object>"
      ]
     },
     "metadata": {},
     "output_type": "display_data"
    },
    {
     "name": "stderr",
     "output_type": "stream",
     "text": [
      "C:\\Users\\bages\\Repos\\AntigranularClientNew\\AntigranularClient\\antigranular\\client.py:160: UserWarning: Antigranular client version 1.0.1 not in supported clients list shared by the server, please update antigranular client to the latest version.\n",
      "  warnings.warn(\n"
     ]
    },
    {
     "name": "stdout",
     "output_type": "stream",
     "text": [
      "Dataset \"Test for chunks\" loaded to the kernel as \u001b[92mtest_for_chunks\u001b[0m\n",
      "Key Name                       Value Type     \n",
      "---------------------------------------------\n",
      "cvd_e5291a10-4c47-44bf-99cf-763b12d551d1_67a5eecd42e6b29a7bf594f9 PrivateDataFrame\n",
      "cvd_e5291a10-4c47-44bf-99cf-763b12d551d1 PrivateDataFrame\n",
      "cvd                            PrivateDataFrame\n",
      "\n",
      "Connected to Antigranular server session id: f482e87b-3046-4d36-97c6-d90b69f810bd, the session will time out if idle for 26 minutes\n",
      "Cell magic '%%ag' registered successfully, use `%%ag` in a notebook cell to execute your python code on Antigranular private python server\n",
      "🚀 Everything's set up and ready to roll!\n"
     ]
    }
   ],
   "source": [
    "import antigranular as ag\n",
    "session = ag.login(<client_id>,<client_secret>, dataset = \"Test for chunks\")"
   ]
  },
  {
   "cell_type": "code",
   "execution_count": 2,
   "metadata": {},
   "outputs": [
    {
     "data": {
      "text/plain": [
       "{'status': 'ok'}"
      ]
     },
     "execution_count": 2,
     "metadata": {},
     "output_type": "execute_result"
    }
   ],
   "source": [
    "session.terminate_session()"
   ]
  },
  {
   "cell_type": "code",
   "execution_count": null,
   "metadata": {},
   "outputs": [],
   "source": []
  }
 ],
 "metadata": {
  "kernelspec": {
   "display_name": "client_venv",
   "language": "python",
   "name": "python3"
  },
  "language_info": {
   "codemirror_mode": {
    "name": "ipython",
    "version": 3
   },
   "file_extension": ".py",
   "mimetype": "text/x-python",
   "name": "python",
   "nbconvert_exporter": "python",
   "pygments_lexer": "ipython3",
   "version": "3.10.11"
  }
 },
 "nbformat": 4,
 "nbformat_minor": 2
}
