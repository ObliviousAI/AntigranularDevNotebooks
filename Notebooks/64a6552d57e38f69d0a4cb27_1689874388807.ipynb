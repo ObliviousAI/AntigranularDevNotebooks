{
 "cells": [
  {
   "cell_type": "code",
   "execution_count": 1,
   "metadata": {},
   "outputs": [
    {
     "name": "stdout",
     "output_type": "stream",
     "text": [
      "Connected to Antigranular server session id: 36a35f44-f09f-43b6-9973-7f469a0afb23\n",
      "Cell magic '%%ag' registered successfully, use `%%ag` in a notebook cell to execute your python code on Antigranular private python server\n"
     ]
    }
   ],
   "source": [
    "import antigranular as ag\n",
    "session = ag.login(<client_id>,<client_secret>, competition = \"Competition\")"
   ]
  },
  {
   "cell_type": "code",
   "execution_count": 2,
   "metadata": {},
   "outputs": [],
   "source": [
    "%%ag\n",
    "from ag_utils import load_dataset, export\n",
    "dataset = load_dataset(\"Iris Dataset\")\n",
    "train_x = dataset[\"train_x\"]\n",
    "train_y = dataset[\"train_y\"]\n",
    "test_x = dataset[\"test_x\"]"
   ]
  },
  {
   "cell_type": "code",
   "execution_count": 4,
   "metadata": {},
   "outputs": [
    {
     "name": "stdout",
     "output_type": "stream",
     "text": [
      "Setting up exported variable in local environment: train_x\n",
      "Total epsilon spent = 1.0000\n",
      "\n"
     ]
    }
   ],
   "source": [
    "%%ag\n",
    "export(train_x.describe(eps=1),\"train_x\")"
   ]
  },
  {
   "cell_type": "code",
   "execution_count": 3,
   "metadata": {},
   "outputs": [
    {
     "name": "stderr",
     "output_type": "stream",
     "text": [
      "/usr/local/lib/python3.10/site-packages/sklearn/utils/validation.py:1184: DataConversionWarning: A column-vector y was passed when a 1d array was expected. Please change the shape of y to (n_samples, ), for example using ravel().\n",
      "  y = column_or_1d(y, warn=True)\n",
      "\n"
     ]
    }
   ],
   "source": [
    "%%ag\n",
    "from op_diffprivlib.models import RandomForestClassifier\n",
    "classifier = RandomForestClassifier(epsilon=1, bounds=(2,7),classes=[\"Iris-setosa\", \"Iris-versicolor\", \"Iris-virginica\"])\n",
    "# ,classes=[])\n",
    "classifier.fit(train_x,train_y)"
   ]
  },
  {
   "cell_type": "code",
   "execution_count": 4,
   "metadata": {},
   "outputs": [
    {
     "name": "stdout",
     "output_type": "stream",
     "text": [
      "Setting up exported variable in local environment: prediction\n"
     ]
    }
   ],
   "source": [
    "%%ag\n",
    "# test_x = test_x.preprocess()\n",
    "prediction = classifier.predict(test_x)\n",
    "export(prediction,\"prediction\")"
   ]
  },
  {
   "cell_type": "code",
   "execution_count": 22,
   "metadata": {},
   "outputs": [
    {
     "name": "stdout",
     "output_type": "stream",
     "text": [
      "['Iris-virginica' 'Iris-virginica' 'Iris-virginica' 'Iris-virginica'\n",
      " 'Iris-virginica' 'Iris-virginica' 'Iris-virginica' 'Iris-setosa'\n",
      " 'Iris-versicolor' 'Iris-virginica' 'Iris-setosa' 'Iris-virginica'\n",
      " 'Iris-virginica' 'Iris-virginica' 'Iris-virginica' 'Iris-virginica'\n",
      " 'Iris-virginica' 'Iris-virginica' 'Iris-virginica' 'Iris-virginica'\n",
      " 'Iris-virginica' 'Iris-virginica' 'Iris-virginica' 'Iris-virginica'\n",
      " 'Iris-setosa' 'Iris-setosa' 'Iris-virginica' 'Iris-virginica'\n",
      " 'Iris-virginica' 'Iris-virginica']\n"
     ]
    }
   ],
   "source": [
    "print(prediction )"
   ]
  },
  {
   "cell_type": "code",
   "execution_count": 5,
   "metadata": {},
   "outputs": [],
   "source": [
    "%%ag\n",
    "from ag_utils import submit_predictions"
   ]
  },
  {
   "cell_type": "code",
   "execution_count": 7,
   "metadata": {},
   "outputs": [
    {
     "name": "stdout",
     "output_type": "stream",
     "text": [
      "score: {'leaderboard': 1.0, 'logs': {'BIN_ACC': 1.0, 'LIN_EPS': -0.0}}\n",
      "\n"
     ]
    }
   ],
   "source": [
    "%%ag\n",
    "from pandas import DataFrame, read_json\n",
    "submit_predictions(DataFrame(prediction, columns=[\"species\"]))\n",
    "# submit_predictions(read_json('{\"species\":{\"0\":\"Iris-versicolor\",\"1\":\"Iris-setosa\",\"2\":\"Iris-virginica\",\"3\":\"Iris-versicolor\",\"4\":\"Iris-versicolor\",\"5\":\"Iris-setosa\",\"6\":\"Iris-versicolor\",\"7\":\"Iris-virginica\",\"8\":\"Iris-versicolor\",\"9\":\"Iris-versicolor\",\"10\":\"Iris-virginica\",\"11\":\"Iris-setosa\",\"12\":\"Iris-setosa\",\"13\":\"Iris-setosa\",\"14\":\"Iris-setosa\",\"15\":\"Iris-versicolor\",\"16\":\"Iris-virginica\",\"17\":\"Iris-versicolor\",\"18\":\"Iris-versicolor\",\"19\":\"Iris-virginica\",\"20\":\"Iris-setosa\",\"21\":\"Iris-virginica\",\"22\":\"Iris-setosa\",\"23\":\"Iris-virginica\",\"24\":\"Iris-virginica\",\"25\":\"Iris-virginica\",\"26\":\"Iris-virginica\",\"27\":\"Iris-virginica\",\"28\":\"Iris-setosa\",\"29\":\"Iris-setosa\"}}'))"
   ]
  },
  {
   "cell_type": "code",
   "execution_count": 8,
   "metadata": {},
   "outputs": [
    {
     "data": {
      "text/plain": [
       "{'total_epsilon_used': 0.0, 'total_delta_used': 0.0}"
      ]
     },
     "execution_count": 8,
     "metadata": {},
     "output_type": "execute_result"
    },
    {
     "ename": "",
     "evalue": "",
     "output_type": "error",
     "traceback": [
      "\u001b[1;31mThe Kernel crashed while executing code in the the current cell or a previous cell. Please review the code in the cell(s) to identify a possible cause of the failure. Click <a href='https://aka.ms/vscodeJupyterKernelCrash'>here</a> for more info. View Jupyter <a href='command:jupyter.viewOutput'>log</a> for further details."
     ]
    }
   ],
   "source": [
    "session.privacy_odometer()"
   ]
  },
  {
   "cell_type": "code",
   "execution_count": 27,
   "metadata": {},
   "outputs": [
    {
     "name": "stdout",
     "output_type": "stream",
     "text": [
      "            species\n",
      "0    Iris-virginica\n",
      "1    Iris-virginica\n",
      "2    Iris-virginica\n",
      "3    Iris-virginica\n",
      "4    Iris-virginica\n",
      "5    Iris-virginica\n",
      "6    Iris-virginica\n",
      "7       Iris-setosa\n",
      "8   Iris-versicolor\n",
      "9    Iris-virginica\n",
      "10      Iris-setosa\n",
      "11   Iris-virginica\n",
      "12   Iris-virginica\n",
      "13   Iris-virginica\n",
      "14   Iris-virginica\n",
      "15   Iris-virginica\n",
      "16   Iris-virginica\n",
      "17   Iris-virginica\n",
      "18   Iris-virginica\n",
      "19   Iris-virginica\n",
      "20   Iris-virginica\n",
      "21   Iris-virginica\n",
      "22   Iris-virginica\n",
      "23   Iris-virginica\n",
      "24      Iris-setosa\n",
      "25      Iris-setosa\n",
      "26   Iris-virginica\n",
      "27   Iris-virginica\n",
      "28   Iris-virginica\n",
      "29   Iris-virginica\n"
     ]
    }
   ],
   "source": [
    "from pandas import DataFrame\n",
    "print(DataFrame({'species': prediction}))"
   ]
  }
 ],
 "metadata": {
  "kernelspec": {
   "display_name": "env",
   "language": "python",
   "name": "python3"
  },
  "language_info": {
   "codemirror_mode": {
    "name": "ipython",
    "version": 3
   },
   "file_extension": ".py",
   "mimetype": "text/x-python",
   "name": "python",
   "nbconvert_exporter": "python",
   "pygments_lexer": "ipython3",
   "version": "3.9.7"
  },
  "orig_nbformat": 4
 },
 "nbformat": 4,
 "nbformat_minor": 2
}
