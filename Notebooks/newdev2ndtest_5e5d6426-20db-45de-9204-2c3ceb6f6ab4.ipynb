{
 "cells": [
  {
   "cell_type": "code",
   "execution_count": 1,
   "metadata": {},
   "outputs": [
    {
     "data": {
      "text/html": [],
      "text/plain": [
       "<IPython.core.display.HTML object>"
      ]
     },
     "metadata": {},
     "output_type": "display_data"
    },
    {
     "name": "stderr",
     "output_type": "stream",
     "text": [
      "C:\\Users\\bages\\Repos\\AntigranularClientNew\\AntigranularClient\\antigranular\\client.py:160: UserWarning: Antigranular client version 1.0.1 not in supported clients list shared by the server, please update antigranular client to the latest version.\n",
      "  warnings.warn(\n"
     ]
    },
    {
     "name": "stdout",
     "output_type": "stream",
     "text": [
      "Dataset \"Diamonds Dataset\" loaded to the kernel as \u001b[92mdiamonds_dataset\u001b[0m\n",
      "Key Name                       Value Type     \n",
      "---------------------------------------------\n",
      "train_x                        PrivateDataFrame\n",
      "train_y                        PrivateDataFrame\n",
      "test_x                         DataFrame      \n",
      "\n",
      "Connected to Antigranular server session id: 5e5d6426-20db-45de-9204-2c3ceb6f6ab4, the session will time out if idle for 26 minutes\n",
      "Cell magic '%%ag' registered successfully, use `%%ag` in a notebook cell to execute your python code on Antigranular private python server\n",
      "🚀 Everything's set up and ready to roll!\n"
     ]
    }
   ],
   "source": [
    "import antigranular as ag\n",
    "session = ag.login(<client_id>,<client_secret>, dataset = \"Diamonds Dataset\")"
   ]
  },
  {
   "cell_type": "code",
   "execution_count": 2,
   "metadata": {},
   "outputs": [
    {
     "name": "stdout",
     "output_type": "stream",
     "text": [
      "+----+----------+-------------+---------------+---------+--------------+\n",
      "|    | Column   | numerical   | categorical   | dtype   | bounds       |\n",
      "|----+----------+-------------+---------------+---------+--------------|\n",
      "|  0 | carat    | True        | False         | float64 | (0.2, 5.01)  |\n",
      "|  1 | cut      | False       | False         | object  | None         |\n",
      "|  2 | color    | False       | False         | object  | None         |\n",
      "|  3 | clarity  | False       | False         | object  | None         |\n",
      "|  4 | depth    | True        | False         | float64 | (43.0, 79.0) |\n",
      "|  5 | table    | True        | False         | float64 | (43.0, 95.0) |\n",
      "|  6 | x        | True        | False         | float64 | (0.0, 10.74) |\n",
      "|  7 | y        | True        | False         | float64 | (0.0, 58.9)  |\n",
      "|  8 | z        | True        | False         | float64 | (0.0, 31.8)  |\n",
      "+----+----------+-------------+---------------+---------+--------------+\n",
      "\n"
     ]
    }
   ],
   "source": [
    "%%ag\n",
    "diamonds_dataset['train_x'].info()"
   ]
  },
  {
   "cell_type": "code",
   "execution_count": 3,
   "metadata": {},
   "outputs": [
    {
     "name": "stdout",
     "output_type": "stream",
     "text": [
      "          carat      depth      table          x             y              z\n",
      "count  0.000000   0.000000   0.000000   0.000000  1.631934e+06  882551.000000\n",
      "mean   0.200000  79.000000  43.000000  10.740000  5.890000e+01       0.000000\n",
      "std    1.948100  11.482996  21.648095   3.665289  1.352431e+01      11.428814\n",
      "min    0.200000  43.000000  43.000000   0.000000  0.000000e+00       0.000000\n",
      "25%    1.317873  56.201851  50.538010   0.670897  5.088777e+01      10.177049\n",
      "50%    4.827876  52.205487  79.044840   9.298966  4.067457e+01      17.991854\n",
      "75%    1.304386  75.862747  64.852613   2.848834  5.588743e+01      30.405749\n",
      "max    0.464153  68.226289  68.214136   6.295531  2.229467e+01       6.584161\n",
      "\n"
     ]
    }
   ],
   "source": [
    "%%ag\n",
    "ag_print(diamonds_dataset['train_x'].describe(eps=0.00001))"
   ]
  },
  {
   "cell_type": "code",
   "execution_count": 4,
   "metadata": {},
   "outputs": [
    {
     "data": {
      "text/plain": [
       "{'status': 'ok'}"
      ]
     },
     "execution_count": 4,
     "metadata": {},
     "output_type": "execute_result"
    }
   ],
   "source": [
    "session.terminate_session()"
   ]
  }
 ],
 "metadata": {
  "kernelspec": {
   "display_name": "client_venv",
   "language": "python",
   "name": "python3"
  },
  "language_info": {
   "codemirror_mode": {
    "name": "ipython",
    "version": 3
   },
   "file_extension": ".py",
   "mimetype": "text/x-python",
   "name": "python",
   "nbconvert_exporter": "python",
   "pygments_lexer": "ipython3",
   "version": "3.10.11"
  }
 },
 "nbformat": 4,
 "nbformat_minor": 2
}
