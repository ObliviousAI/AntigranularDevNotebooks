{
  "cells": [
    {
      "cell_type": "code",
      "execution_count": 5,
      "metadata": {
        "colab": {
          "base_uri": "https://localhost:8080/",
          "height": 104
        },
        "execution": {
          "iopub.execute_input": "2023-10-13T16:31:53.258120Z",
          "iopub.status.busy": "2023-10-13T16:31:53.258120Z",
          "iopub.status.idle": "2023-10-13T16:32:16.118275Z",
          "shell.execute_reply": "2023-10-13T16:32:16.118275Z"
        },
        "id": "dX5rjWB2tNr1",
        "outputId": "cb8b3306-1cb3-4b41-ce8e-db2c725a6a7e"
      },
      "outputs": [
        {
          "data": {
            "text/html": [],
            "text/plain": [
              "<IPython.core.display.HTML object>"
            ]
          },
          "metadata": {},
          "output_type": "display_data"
        },
        {
          "name": "stdout",
          "output_type": "stream",
          "text": [
            "Dataset \"Car Evaluation\" loaded to the kernel as \u001b[92mcar_evaluation\u001b[0m\n",
            "Key Name                       Value Type     \n",
            "---------------------------------------------\n",
            "train_x                        PrivateDataFrame\n",
            "train_y                        PrivateDataFrame\n",
            "test_x                         DataFrame      \n",
            "\n",
            "Connected to Antigranular server session id: 715b8352-b6ba-4786-ba24-4750f010efe9, the session will time out if idle for 26 minutes\n",
            "Cell magic '%%ag' registered successfully, use `%%ag` in a notebook cell to execute your python code on Antigranular private python server\n",
            "🚀 Everything's set up and ready to roll!\n"
          ]
        }
      ],
      "source": [
        "import antigranular as ag\n",
        "session = ag.login(<client_id>,<client_secret>, dataset = \"Car Evaluation\")"
      ]
    },
    {
      "cell_type": "code",
      "execution_count": 6,
      "metadata": {},
      "outputs": [
        {
          "data": {
            "text/plain": [
              "{'status': 'ok'}"
            ]
          },
          "execution_count": 6,
          "metadata": {},
          "output_type": "execute_result"
        }
      ],
      "source": [
        "session.terminate_session()"
      ]
    },
    {
      "cell_type": "code",
      "execution_count": null,
      "metadata": {
        "execution": {
          "iopub.execute_input": "2023-10-13T16:32:16.118275Z",
          "iopub.status.busy": "2023-10-13T16:32:16.118275Z",
          "iopub.status.idle": "2023-10-13T16:32:18.730370Z",
          "shell.execute_reply": "2023-10-13T16:32:18.730370Z"
        },
        "id": "gX3vF5rMJE3s"
      },
      "outputs": [],
      "source": [
        "%%ag\n",
        "import pandas as pd"
      ]
    },
    {
      "cell_type": "code",
      "execution_count": null,
      "metadata": {
        "colab": {
          "base_uri": "https://localhost:8080/"
        },
        "execution": {
          "iopub.execute_input": "2023-10-13T16:32:18.730370Z",
          "iopub.status.busy": "2023-10-13T16:32:18.730370Z",
          "iopub.status.idle": "2023-10-13T16:32:23.755657Z",
          "shell.execute_reply": "2023-10-13T16:32:23.755657Z"
        },
        "id": "9IWy8sUeh_Bq",
        "outputId": "d2153f31-acb6-4b72-9bf0-062be12464c1"
      },
      "outputs": [
        {
          "name": "stdout",
          "output_type": "stream",
          "text": [
            "['buying', 'maint', 'doors', 'persons', 'lug_boot', 'safety']\n",
            "['class']\n",
            "\n"
          ]
        }
      ],
      "source": [
        "%%ag\n",
        "train_x = car_evaluation[\"train_x\"]\n",
        "train_y = car_evaluation[\"train_y\"]\n",
        "test_x = car_evaluation[\"test_x\"]\n",
        "\n",
        "ag_print(train_x.columns)\n",
        "ag_print(train_y.columns)"
      ]
    },
    {
      "cell_type": "code",
      "execution_count": null,
      "metadata": {
        "colab": {
          "base_uri": "https://localhost:8080/"
        },
        "execution": {
          "iopub.execute_input": "2023-10-13T16:32:23.755657Z",
          "iopub.status.busy": "2023-10-13T16:32:23.755657Z",
          "iopub.status.idle": "2023-10-13T16:32:25.098017Z",
          "shell.execute_reply": "2023-10-13T16:32:25.098017Z"
        },
        "id": "fZHHx9jQyDxk",
        "outputId": "619e8c6f-e170-4f6d-b39e-63fa6bb68cc8"
      },
      "outputs": [
        {
          "data": {
            "text/plain": [
              "{'total_epsilon_used': 0.0,\n",
              " 'total_delta_used': 0.0,\n",
              " 'library_costs': None,\n",
              " 'dataset_costs': None}"
            ]
          },
          "execution_count": 6,
          "metadata": {},
          "output_type": "execute_result"
        }
      ],
      "source": [
        "session.privacy_odometer()"
      ]
    },
    {
      "cell_type": "markdown",
      "metadata": {
        "id": "fNCialfj4QuK"
      },
      "source": [
        "## Data Preprocessing"
      ]
    },
    {
      "cell_type": "code",
      "execution_count": null,
      "metadata": {
        "colab": {
          "base_uri": "https://localhost:8080/"
        },
        "execution": {
          "iopub.execute_input": "2023-10-13T16:32:25.098017Z",
          "iopub.status.busy": "2023-10-13T16:32:25.098017Z",
          "iopub.status.idle": "2023-10-13T16:32:30.135483Z",
          "shell.execute_reply": "2023-10-13T16:32:30.135483Z"
        },
        "id": "7vJcEi9stNr2",
        "outputId": "6d675e59-6234-4aa6-9f45-d8c2394d3f71"
      },
      "outputs": [
        {
          "name": "stdout",
          "output_type": "stream",
          "text": [
            "{'buying': ['high', 'med', 'low', 'vhigh'], 'maint': ['high', 'low', 'vhigh', 'med'], 'doors': ['4', '2', '5more', '3'], 'persons': ['2', '4', 'more'], 'lug_boot': ['med', 'big', 'small'], 'safety': ['high', 'med', 'low']}\n",
            "\n"
          ]
        }
      ],
      "source": [
        "%%ag\n",
        "unique_categories = {}\n",
        "for column in test_x.columns:\n",
        "    unique_categories.update({column: test_x[column].unique().tolist()})\n",
        "ag_print(unique_categories)\n"
      ]
    },
    {
      "cell_type": "code",
      "execution_count": null,
      "metadata": {
        "colab": {
          "base_uri": "https://localhost:8080/"
        },
        "execution": {
          "iopub.execute_input": "2023-10-13T16:32:30.135483Z",
          "iopub.status.busy": "2023-10-13T16:32:30.135483Z",
          "iopub.status.idle": "2023-10-13T16:32:32.936828Z",
          "shell.execute_reply": "2023-10-13T16:32:32.935789Z"
        },
        "id": "VsrKEKXrGOou",
        "outputId": "72bd2b9c-87ad-4902-84a6-7e408cf6160e"
      },
      "outputs": [
        {
          "name": "stdout",
          "output_type": "stream",
          "text": [
            "{'buying': {'high': 0, 'med': 1, 'low': 2, 'vhigh': 3}, 'maint': {'high': 0, 'low': 1, 'vhigh': 2, 'med': 3}, 'doors': {'4': 0, '2': 1, '5more': 2, '3': 3}, 'persons': {'2': 0, '4': 1, 'more': 2}, 'lug_boot': {'med': 0, 'big': 1, 'small': 2}, 'safety': {'high': 0, 'med': 1, 'low': 2}}\n",
            "\n"
          ]
        }
      ],
      "source": [
        "%%ag\n",
        "encoding_scheme_train_x_gen = {}\n",
        "\n",
        "for column, values in unique_categories.items():\n",
        "    encoding_scheme_train_x_gen[column] = {value: idx for idx, value in zip(range(len(values)), values)}\n",
        "\n",
        "ag_print(encoding_scheme_train_x_gen)"
      ]
    },
    {
      "cell_type": "code",
      "execution_count": null,
      "metadata": {
        "execution": {
          "iopub.execute_input": "2023-10-13T16:32:32.939647Z",
          "iopub.status.busy": "2023-10-13T16:32:32.939647Z",
          "iopub.status.idle": "2023-10-13T16:32:35.499683Z",
          "shell.execute_reply": "2023-10-13T16:32:35.497695Z"
        },
        "id": "FJq8FYzttNr3"
      },
      "outputs": [],
      "source": [
        "%%ag\n",
        "encoding_scheme_train_x = {'buying': {'high': 2, 'med': 1, 'low': 0, 'vhigh': 3}, 'maint': {'high': 2, 'low': 0, 'vhigh': 3, 'med': 1}, 'doors': {'4': 2, '2': 0, '5more': 2, '3': 1}, 'persons': {'2': 0, '4': 1, 'more': 2}, 'lug_boot': {'med': 1, 'big': 2, 'small': 0}, 'safety': {'high': 2, 'med': 1, 'low': 0}}\n"
      ]
    },
    {
      "cell_type": "code",
      "execution_count": null,
      "metadata": {
        "colab": {
          "base_uri": "https://localhost:8080/"
        },
        "execution": {
          "iopub.execute_input": "2023-10-13T16:32:35.503629Z",
          "iopub.status.busy": "2023-10-13T16:32:35.503629Z",
          "iopub.status.idle": "2023-10-13T16:32:38.241754Z",
          "shell.execute_reply": "2023-10-13T16:32:38.241754Z"
        },
        "id": "Afa95TzBtNr3",
        "outputId": "8108e64c-a5a6-42b5-9aa8-0ab7844ad62b"
      },
      "outputs": [
        {
          "name": "stdout",
          "output_type": "stream",
          "text": [
            "{'buying': {'high': 2, 'med': 1, 'low': 0, 'vhigh': 3}, 'maint': {'high': 2, 'low': 0, 'vhigh': 3, 'med': 1}, 'doors': {'4': 2, '2': 0, '5more': 2, '3': 1}, 'persons': {'2': 0, '4': 1, 'more': 2}, 'lug_boot': {'med': 1, 'big': 2, 'small': 0}, 'safety': {'high': 2, 'med': 1, 'low': 0}}\n",
            "\n"
          ]
        }
      ],
      "source": [
        "%%ag\n",
        "ag_print(encoding_scheme_train_x)"
      ]
    },
    {
      "cell_type": "markdown",
      "metadata": {
        "id": "JhMHa0RZLnTX"
      },
      "source": [
        "Apply Encoding for train_x"
      ]
    },
    {
      "cell_type": "code",
      "execution_count": null,
      "metadata": {
        "execution": {
          "iopub.execute_input": "2023-10-13T16:32:38.241754Z",
          "iopub.status.busy": "2023-10-13T16:32:38.241754Z",
          "iopub.status.idle": "2023-10-13T16:32:45.312902Z",
          "shell.execute_reply": "2023-10-13T16:32:45.312902Z"
        },
        "id": "V8z-flWwtNr5"
      },
      "outputs": [],
      "source": [
        "%%ag\n",
        "for col, value in encoding_scheme_train_x.items():\n",
        "    train_x[col] = train_x[col].map(value, eps=.1)"
      ]
    },
    {
      "cell_type": "markdown",
      "metadata": {
        "id": "JaPgn8r0tNr5"
      },
      "source": [
        "Apply encoding train_y"
      ]
    },
    {
      "cell_type": "code",
      "execution_count": null,
      "metadata": {
        "execution": {
          "iopub.execute_input": "2023-10-13T16:32:48.376397Z",
          "iopub.status.busy": "2023-10-13T16:32:48.376397Z",
          "iopub.status.idle": "2023-10-13T16:32:50.914929Z",
          "shell.execute_reply": "2023-10-13T16:32:50.914929Z"
        },
        "id": "z0xck3sWtNr5"
      },
      "outputs": [],
      "source": [
        "%%ag\n",
        "train_y_schema = {\n",
        "    'unacc': 0,\n",
        "    'acc': 1,\n",
        "    'good': 2,\n",
        "    'vgood': 3\n",
        "}\n",
        "\n",
        "train_y[train_y.columns[0]] = train_y[train_y.columns[0]].map(train_y_schema, eps=.1)"
      ]
    },
    {
      "cell_type": "code",
      "execution_count": null,
      "metadata": {
        "colab": {
          "base_uri": "https://localhost:8080/"
        },
        "execution": {
          "iopub.execute_input": "2023-10-13T16:32:50.918931Z",
          "iopub.status.busy": "2023-10-13T16:32:50.917932Z",
          "iopub.status.idle": "2023-10-13T16:32:53.367411Z",
          "shell.execute_reply": "2023-10-13T16:32:53.367411Z"
        },
        "id": "MlijRxbttNr5",
        "outputId": "ae5539e4-e784-42b1-ce79-4bf15dee7f7d"
      },
      "outputs": [
        {
          "name": "stdout",
          "output_type": "stream",
          "text": [
            "             class\n",
            "count  1116.000000\n",
            "mean      0.593356\n",
            "std       1.023238\n",
            "min       0.000000\n",
            "25%       0.006903\n",
            "50%       1.180016\n",
            "75%       0.723280\n",
            "max       2.406134\n",
            "\n"
          ]
        }
      ],
      "source": [
        "%%ag\n",
        "ag_print(train_y.describe(eps=.1))"
      ]
    },
    {
      "cell_type": "markdown",
      "metadata": {
        "id": "SeFc52gBqgx6"
      },
      "source": [
        "## Data Visualization"
      ]
    },
    {
      "cell_type": "markdown",
      "metadata": {
        "id": "ld7cUv4q308d"
      },
      "source": [
        "Join two dataset train_x and train_y"
      ]
    },
    {
      "cell_type": "code",
      "execution_count": null,
      "metadata": {
        "execution": {
          "iopub.execute_input": "2023-10-13T16:32:53.367411Z",
          "iopub.status.busy": "2023-10-13T16:32:53.367411Z",
          "iopub.status.idle": "2023-10-13T16:32:58.239795Z",
          "shell.execute_reply": "2023-10-13T16:32:58.239795Z"
        },
        "id": "zAe77I2cKtm6"
      },
      "outputs": [],
      "source": [
        "%%ag\n",
        "train_data = train_x.join(train_y, how=\"inner\")"
      ]
    },
    {
      "cell_type": "code",
      "execution_count": null,
      "metadata": {
        "colab": {
          "base_uri": "https://localhost:8080/"
        },
        "execution": {
          "iopub.execute_input": "2023-10-13T16:32:58.239795Z",
          "iopub.status.busy": "2023-10-13T16:32:58.239795Z",
          "iopub.status.idle": "2023-10-13T16:33:00.912647Z",
          "shell.execute_reply": "2023-10-13T16:33:00.912647Z"
        },
        "id": "XjF8Pm9DVcHp",
        "outputId": "c81f4661-a1d6-4bca-c366-7520fe79a01d"
      },
      "outputs": [
        {
          "name": "stderr",
          "output_type": "stream",
          "text": [
            "/usr/local/lib/python3.10/site-packages/opendp/typing.py:28: DeprecationWarning: `np.bool8` is a deprecated alias for `np.bool_`.  (Deprecated NumPy 1.24)\n",
            "  np.bool8: 'bool',  # np.bool_\n",
            "\n"
          ]
        }
      ],
      "source": [
        "%%ag\n",
        "import op_snsql"
      ]
    },
    {
      "cell_type": "code",
      "execution_count": null,
      "metadata": {
        "execution": {
          "iopub.execute_input": "2023-10-13T16:33:00.912647Z",
          "iopub.status.busy": "2023-10-13T16:33:00.912647Z",
          "iopub.status.idle": "2023-10-13T16:33:05.651270Z",
          "shell.execute_reply": "2023-10-13T16:33:05.651270Z"
        },
        "id": "mBIq2xU4VYNk"
      },
      "outputs": [],
      "source": [
        "%%ag\n",
        "privacy = op_snsql.Privacy(epsilon=1.0)\n",
        "reader = op_snsql.from_df(df=train_data, privacy=privacy)"
      ]
    },
    {
      "cell_type": "code",
      "execution_count": null,
      "metadata": {
        "colab": {
          "base_uri": "https://localhost:8080/"
        },
        "execution": {
          "iopub.execute_input": "2023-10-13T16:33:05.651270Z",
          "iopub.status.busy": "2023-10-13T16:33:05.651270Z",
          "iopub.status.idle": "2023-10-13T16:33:10.467629Z",
          "shell.execute_reply": "2023-10-13T16:33:10.467629Z"
        },
        "id": "OoCGKBzoVnN5",
        "outputId": "79c4ad1d-481d-411d-9fc0-b55e1aed644b"
      },
      "outputs": [
        {
          "name": "stdout",
          "output_type": "stream",
          "text": [
            "Setting up exported variable in local environment: result\n"
          ]
        }
      ],
      "source": [
        "%%ag\n",
        "result = reader.execute(\"SELECT class, AVG(buying), AVG(maint), AVG(doors), AVG(persons), AVG(lug_boot), AVG(safety) FROM df.table GROUP BY class\")\n",
        "export(result, 'result')"
      ]
    },
    {
      "cell_type": "code",
      "execution_count": null,
      "metadata": {
        "colab": {
          "base_uri": "https://localhost:8080/"
        },
        "execution": {
          "iopub.execute_input": "2023-10-13T16:33:10.467629Z",
          "iopub.status.busy": "2023-10-13T16:33:10.467629Z",
          "iopub.status.idle": "2023-10-13T16:33:12.956105Z",
          "shell.execute_reply": "2023-10-13T16:33:12.956105Z"
        },
        "id": "ivHMIbUhWnj1",
        "outputId": "692d952f-31b0-4117-c76d-ce367c319321"
      },
      "outputs": [
        {
          "name": "stdout",
          "output_type": "stream",
          "text": [
            "Setting up exported variable in local environment: train_x_columns\n"
          ]
        }
      ],
      "source": [
        "%%ag\n",
        "export(train_x.columns, 'train_x_columns')"
      ]
    },
    {
      "cell_type": "code",
      "execution_count": null,
      "metadata": {
        "execution": {
          "iopub.execute_input": "2023-10-13T16:33:12.956105Z",
          "iopub.status.busy": "2023-10-13T16:33:12.956105Z",
          "iopub.status.idle": "2023-10-13T16:33:12.971775Z",
          "shell.execute_reply": "2023-10-13T16:33:12.971775Z"
        },
        "id": "Sn17I4zXWslV"
      },
      "outputs": [],
      "source": [
        "new_columns = ['class'] + train_x_columns\n",
        "df = pd.DataFrame(result[1:], columns=new_columns)"
      ]
    },
    {
      "cell_type": "code",
      "execution_count": null,
      "metadata": {
        "colab": {
          "base_uri": "https://localhost:8080/",
          "height": 175
        },
        "execution": {
          "iopub.execute_input": "2023-10-13T16:33:12.971775Z",
          "iopub.status.busy": "2023-10-13T16:33:12.971775Z",
          "iopub.status.idle": "2023-10-13T16:33:12.987326Z",
          "shell.execute_reply": "2023-10-13T16:33:12.987326Z"
        },
        "id": "v27o0inBW5TQ",
        "outputId": "e09bbbfc-597c-49d5-8f2a-a65cef67315c"
      },
      "outputs": [
        {
          "data": {
            "text/html": [
              "<div>\n",
              "<style scoped>\n",
              "    .dataframe tbody tr th:only-of-type {\n",
              "        vertical-align: middle;\n",
              "    }\n",
              "\n",
              "    .dataframe tbody tr th {\n",
              "        vertical-align: top;\n",
              "    }\n",
              "\n",
              "    .dataframe thead th {\n",
              "        text-align: right;\n",
              "    }\n",
              "</style>\n",
              "<table border=\"1\" class=\"dataframe\">\n",
              "  <thead>\n",
              "    <tr style=\"text-align: right;\">\n",
              "      <th></th>\n",
              "      <th>class</th>\n",
              "      <th>buying</th>\n",
              "      <th>maint</th>\n",
              "      <th>doors</th>\n",
              "      <th>persons</th>\n",
              "      <th>lug_boot</th>\n",
              "      <th>safety</th>\n",
              "    </tr>\n",
              "  </thead>\n",
              "  <tbody>\n",
              "    <tr>\n",
              "      <th>0</th>\n",
              "      <td>0</td>\n",
              "      <td>1.603077</td>\n",
              "      <td>1.649231</td>\n",
              "      <td>1.209446</td>\n",
              "      <td>0.809231</td>\n",
              "      <td>0.935318</td>\n",
              "      <td>0.742564</td>\n",
              "    </tr>\n",
              "    <tr>\n",
              "      <th>1</th>\n",
              "      <td>1</td>\n",
              "      <td>1.461794</td>\n",
              "      <td>1.387417</td>\n",
              "      <td>1.322259</td>\n",
              "      <td>1.535117</td>\n",
              "      <td>1.115512</td>\n",
              "      <td>1.514950</td>\n",
              "    </tr>\n",
              "    <tr>\n",
              "      <th>2</th>\n",
              "      <td>2</td>\n",
              "      <td>0.300000</td>\n",
              "      <td>0.275862</td>\n",
              "      <td>1.413793</td>\n",
              "      <td>1.333333</td>\n",
              "      <td>1.116667</td>\n",
              "      <td>1.474576</td>\n",
              "    </tr>\n",
              "    <tr>\n",
              "      <th>3</th>\n",
              "      <td>3</td>\n",
              "      <td>0.479167</td>\n",
              "      <td>0.812500</td>\n",
              "      <td>1.166667</td>\n",
              "      <td>1.408163</td>\n",
              "      <td>1.604167</td>\n",
              "      <td>1.900000</td>\n",
              "    </tr>\n",
              "  </tbody>\n",
              "</table>\n",
              "</div>"
            ],
            "text/plain": [
              "   class    buying     maint     doors   persons  lug_boot    safety\n",
              "0      0  1.603077  1.649231  1.209446  0.809231  0.935318  0.742564\n",
              "1      1  1.461794  1.387417  1.322259  1.535117  1.115512  1.514950\n",
              "2      2  0.300000  0.275862  1.413793  1.333333  1.116667  1.474576\n",
              "3      3  0.479167  0.812500  1.166667  1.408163  1.604167  1.900000"
            ]
          },
          "execution_count": 23,
          "metadata": {},
          "output_type": "execute_result"
        }
      ],
      "source": [
        "df"
      ]
    },
    {
      "cell_type": "code",
      "execution_count": null,
      "metadata": {
        "execution": {
          "iopub.execute_input": "2023-10-13T16:33:12.987326Z",
          "iopub.status.busy": "2023-10-13T16:33:12.987326Z",
          "iopub.status.idle": "2023-10-13T16:33:13.003018Z",
          "shell.execute_reply": "2023-10-13T16:33:13.003018Z"
        },
        "id": "iJYA_hM5tNr_"
      },
      "outputs": [],
      "source": [
        "df.drop(columns=['class'], inplace=True)"
      ]
    },
    {
      "cell_type": "code",
      "execution_count": null,
      "metadata": {
        "colab": {
          "base_uri": "https://localhost:8080/",
          "height": 447
        },
        "execution": {
          "iopub.execute_input": "2023-10-13T16:33:13.003018Z",
          "iopub.status.busy": "2023-10-13T16:33:13.003018Z",
          "iopub.status.idle": "2023-10-13T16:33:13.206303Z",
          "shell.execute_reply": "2023-10-13T16:33:13.206303Z"
        },
        "id": "AP3XpGlDtNr_",
        "outputId": "8fa81c10-2d58-47ba-b6f8-00189d1107dc"
      },
      "outputs": [
        {
          "data": {
            "text/plain": [
              "<Axes: >"
            ]
          },
          "execution_count": 25,
          "metadata": {},
          "output_type": "execute_result"
        },
        {
          "data": {
            "image/png": "[encoded data removed]",
            "text/plain": [
              "<Figure size 640x480 with 1 Axes>"
            ]
          },
          "metadata": {},
          "output_type": "display_data"
        }
      ],
      "source": [
        "# sns barplot\n",
        "sns.barplot(data=df, palette=\"Blues_d\")"
      ]
    },
    {
      "cell_type": "markdown",
      "metadata": {
        "id": "7NGG1ZEMtNr_"
      },
      "source": [
        "Observations:\n",
        "\n",
        "- **buying**: There are noticeable differences in the mean buying price among different classes.\n",
        "- **maint**: Similar to buying, maintenance cost also shows some variation.\n",
        "- **safety**: Safety shows clear variations, and looks like ***most important***.\n",
        "  \n",
        "The remaining features (**doors**, **persons**, **lug_boot**) exhibit less variation among classes."
      ]
    },
    {
      "cell_type": "code",
      "execution_count": null,
      "metadata": {
        "colab": {
          "base_uri": "https://localhost:8080/",
          "height": 564
        },
        "execution": {
          "iopub.execute_input": "2023-10-13T16:33:13.206303Z",
          "iopub.status.busy": "2023-10-13T16:33:13.206303Z",
          "iopub.status.idle": "2023-10-13T16:33:13.425002Z",
          "shell.execute_reply": "2023-10-13T16:33:13.425002Z"
        },
        "id": "Z4XzwOxJtNsA",
        "outputId": "05451d9f-40ef-4d60-8d07-cbaba65e37fa"
      },
      "outputs": [
        {
          "data": {
            "image/png": "[encoded data removed]",
            "text/plain": [
              "<Figure size 1200x600 with 1 Axes>"
            ]
          },
          "metadata": {},
          "output_type": "display_data"
        }
      ],
      "source": [
        "ax = df.plot(kind='bar', figsize=(12, 6), colormap='viridis')\n",
        "plt.title('Mean Values of Features per Class')\n",
        "plt.xlabel('Class')\n",
        "plt.ylabel('Mean Value')\n",
        "plt.xticks(ticks=[0, 1, 2, 3], labels=['unacc', 'acc', 'good', 'vgood'], rotation=0)\n",
        "plt.legend(title='Features')\n",
        "plt.grid(axis='y')"
      ]
    },
    {
      "cell_type": "markdown",
      "metadata": {
        "id": "1w3eg-crtNsA"
      },
      "source": [
        "## Observations:\n",
        "1. **Safety Considerations:**\n",
        "   - 'vgood' cars tend to have the highest mean safety rating, suggesting that safety is a crucial factor in determining the highest class of cars.\n",
        "   - 'unacc' (unacceptable) cars have the lowest mean safety rating, highlighting that lower safety ratings are a significant factor for classifying cars into this undesirable category.\n",
        "\n",
        "2. **Economic Aspects (Buying & Maintenance):**\n",
        "   - 'unacc' cars tend to have higher mean buying and maintenance costs, indicating that more expensive and high-maintenance cars are often deemed less acceptable.\n",
        "   - 'good' cars have the lowest mean buying and maintenance costs, hinting that more economically friendly cars are often classified in this category.\n",
        "\n",
        "3. **Luggage Boot Size:**\n",
        "   - 'vgood' cars have the highest mean luggage boot size, showing a potential preference for larger boot sizes in this class.\n",
        "   - The other classes do not show significant variations in the luggage boot size.\n",
        "\n",
        "4. **Capacity (Persons & Doors):**\n",
        "   - 'unacc' cars have a lower mean value for persons, suggesting that cars with lower seating capacity tend to be categorized as unacceptable.\n",
        "   - There isn't a clear pattern for the number of doors across classes, implying that this feature might not be as impactful in classifying cars.\n",
        "\n",
        "### Summary:\n",
        "\n",
        "- Safety is a pivotal factor across all classes, with higher safety ratings generally correlating with more favorable classes.\n",
        "- Economic aspects (buying and maintenance costs) appear to significantly impact the classification, especially distinguishing 'unacc' and 'good' cars.\n",
        "- Features like the number of doors might not be significant in determining car classes due to the lack of clear variation across different classes.\n",
        "\n",
        "This analysis could inform the feature selection or weighting in a predictive model, focusing on safety and economic aspects as potentially influential variables."
      ]
    },
    {
      "cell_type": "code",
      "execution_count": null,
      "metadata": {
        "colab": {
          "base_uri": "https://localhost:8080/"
        },
        "execution": {
          "iopub.execute_input": "2023-10-13T16:33:13.425002Z",
          "iopub.status.busy": "2023-10-13T16:33:13.425002Z",
          "iopub.status.idle": "2023-10-13T16:33:20.800242Z",
          "shell.execute_reply": "2023-10-13T16:33:20.800242Z"
        },
        "id": "1Py1x00wOjsd",
        "outputId": "311e76be-aaae-4e28-e3aa-6f9972b11bda"
      },
      "outputs": [
        {
          "name": "stdout",
          "output_type": "stream",
          "text": [
            "count    1421.000000\n",
            "mean        0.354594\n",
            "std         0.656077\n",
            "min         0.000000\n",
            "25%         0.000269\n",
            "50%         0.000478\n",
            "75%         0.815907\n",
            "max         2.870428\n",
            "Name: series, dtype: float64\n",
            "\n"
          ]
        }
      ],
      "source": [
        "%%ag\n",
        "ag_print(train_data['class'].describe(eps=.1))"
      ]
    },
    {
      "cell_type": "code",
      "execution_count": null,
      "metadata": {
        "colab": {
          "base_uri": "https://localhost:8080/"
        },
        "execution": {
          "iopub.execute_input": "2023-10-13T16:33:20.800242Z",
          "iopub.status.busy": "2023-10-13T16:33:20.800242Z",
          "iopub.status.idle": "2023-10-13T16:33:22.145678Z",
          "shell.execute_reply": "2023-10-13T16:33:22.144625Z"
        },
        "id": "v5f4VHHEwXPL",
        "outputId": "d373933e-8cd5-4da2-bb76-72a52a3ea6e4"
      },
      "outputs": [
        {
          "data": {
            "text/plain": [
              "{'total_epsilon_used': 21.1,\n",
              " 'total_delta_used': 1.5543122344752192e-15,\n",
              " 'library_costs': None,\n",
              " 'dataset_costs': None}"
            ]
          },
          "execution_count": 28,
          "metadata": {},
          "output_type": "execute_result"
        }
      ],
      "source": [
        "session.privacy_odometer()"
      ]
    },
    {
      "cell_type": "markdown",
      "metadata": {
        "id": "HNTtVzeSqydJ"
      },
      "source": [
        "## Rule based Model"
      ]
    },
    {
      "cell_type": "code",
      "execution_count": null,
      "metadata": {
        "execution": {
          "iopub.execute_input": "2023-10-13T16:33:22.149627Z",
          "iopub.status.busy": "2023-10-13T16:33:22.149627Z",
          "iopub.status.idle": "2023-10-13T16:33:30.952946Z",
          "shell.execute_reply": "2023-10-13T16:33:30.952064Z"
        },
        "id": "ifHyLprUFp8D"
      },
      "outputs": [],
      "source": [
        "%%ag\n",
        "# encode test x\n",
        "for col, value in encoding_scheme_train_x.items():\n",
        "    test_x[col] = test_x[col].map(value)"
      ]
    },
    {
      "cell_type": "code",
      "execution_count": null,
      "metadata": {
        "colab": {
          "base_uri": "https://localhost:8080/"
        },
        "execution": {
          "iopub.execute_input": "2023-10-13T16:33:30.957066Z",
          "iopub.status.busy": "2023-10-13T16:33:30.956067Z",
          "iopub.status.idle": "2023-10-13T16:33:36.009458Z",
          "shell.execute_reply": "2023-10-13T16:33:36.009458Z"
        },
        "id": "pZgKSCUXJFTZ",
        "outputId": "a272ee32-dbce-418e-d90b-e27eab27f5f9"
      },
      "outputs": [
        {
          "name": "stdout",
          "output_type": "stream",
          "text": [
            "     buying  maint  doors  persons  lug_boot  safety\n",
            "0         2      2      2        0         1       2\n",
            "1         1      0      0        1         1       1\n",
            "2         2      2      2        0         2       1\n",
            "3         0      2      2        1         1       1\n",
            "4         1      0      2        2         1       0\n",
            "..      ...    ...    ...      ...       ...     ...\n",
            "341       3      3      2        2         0       1\n",
            "342       3      1      2        0         1       1\n",
            "343       1      0      0        2         0       0\n",
            "344       3      3      2        2         0       2\n",
            "345       1      1      0        0         1       1\n",
            "\n",
            "[346 rows x 6 columns]\n",
            "\n"
          ]
        }
      ],
      "source": [
        "%%ag\n",
        "ag_print(test_x)"
      ]
    },
    {
      "cell_type": "code",
      "execution_count": null,
      "metadata": {
        "id": "sEOcF1IYQ1NF"
      },
      "outputs": [],
      "source": []
    },
    {
      "cell_type": "code",
      "execution_count": null,
      "metadata": {
        "execution": {
          "iopub.execute_input": "2023-10-13T16:33:36.009458Z",
          "iopub.status.busy": "2023-10-13T16:33:36.009458Z",
          "iopub.status.idle": "2023-10-13T16:33:38.503583Z",
          "shell.execute_reply": "2023-10-13T16:33:38.502294Z"
        },
        "id": "IUN3tuxLQ-W7"
      },
      "outputs": [],
      "source": [
        "%%ag\n",
        "result = reader.execute(\"SELECT count(class) FROM df.table GROUP BY class\")\n"
      ]
    },
    {
      "cell_type": "code",
      "execution_count": null,
      "metadata": {
        "colab": {
          "base_uri": "https://localhost:8080/"
        },
        "execution": {
          "iopub.execute_input": "2023-10-13T16:33:38.505587Z",
          "iopub.status.busy": "2023-10-13T16:33:38.505587Z",
          "iopub.status.idle": "2023-10-13T16:33:44.202525Z",
          "shell.execute_reply": "2023-10-13T16:33:44.201524Z"
        },
        "id": "X9ZINqAYRVMe",
        "outputId": "47467e53-d2be-4022-9f20-612d039e16e7"
      },
      "outputs": [
        {
          "name": "stdout",
          "output_type": "stream",
          "text": [
            "[['???'], [975], [302], [58], [46]]\n",
            "\n"
          ]
        }
      ],
      "source": [
        "%%ag\n",
        "ag_print(result)"
      ]
    },
    {
      "cell_type": "code",
      "execution_count": null,
      "metadata": {
        "colab": {
          "base_uri": "https://localhost:8080/"
        },
        "execution": {
          "iopub.execute_input": "2023-10-13T16:33:44.207619Z",
          "iopub.status.busy": "2023-10-13T16:33:44.207619Z",
          "iopub.status.idle": "2023-10-13T16:33:46.777472Z",
          "shell.execute_reply": "2023-10-13T16:33:46.776471Z"
        },
        "id": "Hpp0tL1ISUah",
        "outputId": "c3a2d967-4eed-44dd-d426-c37165e8a7fa"
      },
      "outputs": [
        {
          "name": "stdout",
          "output_type": "stream",
          "text": [
            "Setting up exported variable in local environment: result\n"
          ]
        }
      ],
      "source": [
        "%%ag\n",
        "export(result, 'result')"
      ]
    },
    {
      "cell_type": "code",
      "execution_count": null,
      "metadata": {
        "colab": {
          "base_uri": "https://localhost:8080/",
          "height": 607
        },
        "execution": {
          "iopub.execute_input": "2023-10-13T16:33:46.781625Z",
          "iopub.status.busy": "2023-10-13T16:33:46.780627Z",
          "iopub.status.idle": "2023-10-13T16:33:46.915728Z",
          "shell.execute_reply": "2023-10-13T16:33:46.914824Z"
        },
        "id": "I9nQ_A_pSRRG",
        "outputId": "b57cbb53-faa0-4417-8a52-e21ae514a451"
      },
      "outputs": [
        {
          "data": {
            "image/png": "[encoded data removed]",
            "text/plain": [
              "<Figure size 1000x600 with 1 Axes>"
            ]
          },
          "metadata": {},
          "output_type": "display_data"
        }
      ],
      "source": [
        "data_counts = [item[0] for item in result[1:]]\n",
        "labels = ['unacc', 'acc', 'good', 'vgood']\n",
        "\n",
        "total_count = sum(data_counts)\n",
        "\n",
        "# Calculate percentages\n",
        "percentages = [(count/total_count)*100 for count in data_counts]\n",
        "\n",
        "plt.figure(figsize=(10, 6))\n",
        "bars = plt.bar(labels, data_counts, color=['blue', 'green', 'orange', 'red'])\n",
        "\n",
        "for bar, percentage in zip(bars, percentages):\n",
        "    plt.text(bar.get_x() + bar.get_width() / 2 - 0.15, # position percentage at the top\n",
        "             bar.get_height() + 5,\n",
        "             f'{percentage:.2f}%',\n",
        "             fontsize=12)\n",
        "\n",
        "plt.title('Distribution of Classes with Percentages', fontsize=16)\n",
        "plt.xlabel('Class', fontsize=14)\n",
        "plt.ylabel('Count', fontsize=14)\n",
        "plt.xticks(fontsize=12)\n",
        "plt.yticks(fontsize=12)\n",
        "\n",
        "plt.tight_layout()\n",
        "plt.show()\n"
      ]
    },
    {
      "cell_type": "markdown",
      "metadata": {
        "id": "6cqfT0NmRhnp"
      },
      "source": [
        "### Observations:\n",
        "* The data is imbalanced, with the 'unacc' category dominating the distribution.\n",
        "* 'vgood' and 'good' categories are considerably very less frequent in the data.\n",
        "\n",
        "The class 'unacc' has the highest count and represents the majority of the data, hence can be default for rule based model"
      ]
    },
    {
      "cell_type": "code",
      "execution_count": null,
      "metadata": {
        "execution": {
          "iopub.execute_input": "2023-10-13T16:33:46.918726Z",
          "iopub.status.busy": "2023-10-13T16:33:46.917726Z",
          "iopub.status.idle": "2023-10-13T16:33:51.765756Z",
          "shell.execute_reply": "2023-10-13T16:33:51.764883Z"
        },
        "id": "_n-IOu0cztHd"
      },
      "outputs": [],
      "source": [
        "%%ag\n",
        "# simple rule based\n",
        "def rule_based_model(data):\n",
        "    predictions = []\n",
        "    for _, row in data.iterrows():\n",
        "        if row['safety'] == 0:\n",
        "            predictions.append('unacc')\n",
        "        elif row['buying'] == 0 and row['maint'] == 0:\n",
        "            predictions.append('acc')\n",
        "        else:\n",
        "            predictions.append('unacc')\n",
        "    return predictions"
      ]
    },
    {
      "cell_type": "code",
      "execution_count": null,
      "metadata": {
        "execution": {
          "iopub.execute_input": "2023-10-13T16:33:51.768754Z",
          "iopub.status.busy": "2023-10-13T16:33:51.767755Z",
          "iopub.status.idle": "2023-10-13T16:33:59.419041Z",
          "shell.execute_reply": "2023-10-13T16:33:59.418149Z"
        },
        "id": "hXfVG9yVz36j"
      },
      "outputs": [],
      "source": [
        "%%ag\n",
        "predictions = rule_based_model(test_x)"
      ]
    },
    {
      "cell_type": "code",
      "execution_count": null,
      "metadata": {
        "colab": {
          "base_uri": "https://localhost:8080/"
        },
        "execution": {
          "iopub.execute_input": "2023-10-13T16:33:59.422222Z",
          "iopub.status.busy": "2023-10-13T16:33:59.421220Z",
          "iopub.status.idle": "2023-10-13T16:34:04.494128Z",
          "shell.execute_reply": "2023-10-13T16:34:04.493226Z"
        },
        "id": "8pTnJDWl0ePB",
        "outputId": "f8ae6871-168b-4f1a-b481-e30eb4914b4f"
      },
      "outputs": [
        {
          "name": "stdout",
          "output_type": "stream",
          "text": [
            "error: (400, 'Dimensions of user provided data does not match with test data')\n",
            "\n"
          ]
        }
      ],
      "source": [
        "%%ag\n",
        "submit_predictions(pd.DataFrame(predictions))"
      ]
    },
    {
      "cell_type": "code",
      "execution_count": null,
      "metadata": {
        "colab": {
          "base_uri": "https://localhost:8080/"
        },
        "execution": {
          "iopub.execute_input": "2023-10-13T16:34:04.496228Z",
          "iopub.status.busy": "2023-10-13T16:34:04.496228Z",
          "iopub.status.idle": "2023-10-13T16:34:08.260386Z",
          "shell.execute_reply": "2023-10-13T16:34:08.259568Z"
        },
        "id": "conXyacCM7PJ",
        "outputId": "66209c48-be57-4807-dc3b-b3345df81ab1"
      },
      "outputs": [
        {
          "data": {
            "text/plain": [
              "{'status': 'ok'}"
            ]
          },
          "execution_count": 38,
          "metadata": {},
          "output_type": "execute_result"
        }
      ],
      "source": [
        "session.terminate_session()"
      ]
    }
  ],
  "metadata": {
    "colab": {
      "provenance": []
    },
    "kernelspec": {
      "display_name": "Python 3",
      "name": "python3"
    },
    "language_info": {
      "codemirror_mode": {
        "name": "ipython",
        "version": 3
      },
      "file_extension": ".py",
      "mimetype": "text/x-python",
      "name": "python",
      "nbconvert_exporter": "python",
      "pygments_lexer": "ipython3",
      "version": "3.8.1"
    }
  },
  "nbformat": 4,
  "nbformat_minor": 0
}
