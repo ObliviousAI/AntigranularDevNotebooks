{
 "cells": [
  {
   "attachments": {},
   "cell_type": "markdown",
   "metadata": {},
   "source": [
    "# Antigranular: Sample Notebook\n",
    "\n",
    "This notebook is a sample notebook for the Antigranular project. It demonstrates use of the antigranular client package to connect to antigranular enclave server running on network of Oblivious Enclaves. \n",
    "\n",
    "Running inside the enclave is a restricted python-like runtime managed as a Jupyter kernel. It uses static and dynamic analysis to enforce static typing, scoping constraints and a limited api to interfact with private or sensitive data sources. \n",
    "\n",
    "The two core technical components the enforce our privacy constraints for data scientists are:\n",
    "- Secure Enclaves (A form of input privacy)\n",
    "- Differential Privacy (A form of output privacy)\n",
    "\n",
    "### What are secure enclaves?\n",
    "\n",
    "Secure enclaves are isolated servers with two very powerful properties:\n",
    "\n",
    "They have extremely limitted IO and need explicit inbound and outbound connections to recieve and send data. No one can simply SSH into an enclave and see data as it is being processed, nor can data end up unexpectedly in log files.\n",
    "The underlying infrastructure \"attests\" what is running inside. So when we write some software to deploy into an enclave, the physical infrastructure will hash the software and environment and place these values into a document which it digitally signs. In short, the cloud infrastructure implicitly gaurentees to those connecting to the enclave the exact processing and behaviour of what is running inside the enclave.\n",
    "\n",
    "This is extremely powerful as we can use these charecteristics to clearly structure rules around what processes can decrypt what data (not what servers, or people - what actual computation is approved!). AS you can imagine, all of the major cloud providers have developed an enclave offering of one form or another (AWS, Azure, GPC, Alibaba Cloud, IBM, Oracle, OVH Cloud.... the list goes on) over the past few years and billions worth of investments have been poored into the domain.\n",
    "\n",
    "### What is Differential Privacy? \n",
    "  \n",
    "While this workshop focuses on synthetic data, there are different approaches to creating synthetic data. The only method which gives a theoretical privacy guarantee is called Differentially Private (DP) synthetic data.\n",
    "  \n",
    "Differential privacy, coined in [2006 by Cynthia Dwork, Frank McSherry, Kobbi Nissim and Adam D. Smith](https://link.springer.com/chapter/10.1007/11681878_14), is a theoretical statement about the guessing probability of data being present in a dataset given stochastic measurements/queries of the dataset (intuitively: any information gained that is derived from the dataset). Some processes may naturally create stochastic measurements; however, in most cases, calibrated noise is intentionally applied to a result of measurement such that the measurement will be differentially private. \n",
    "  \n",
    "This privacy framework ultimately relies on what you want the guessing probability to be, and there is a natural trade-off between the accuracy of a measurement and the guessing probability. Strictly speaking, this guessing probability is parameterised by a coefficient ε. If ε is 0, the measurement discloses no information about the data being in the dataset, so the guessing probability is uniform (50:50). If ε is infinite, then the measurement discloses with absolute certainty whether the data is present or not in the dataset.\n",
    "\n",
    "$$ \\epsilon \\geq \\ln \\left( \\frac{Pr[M(x) \\in S]}{Pr[M(x') \\in S]} \\right) $$\n",
    "  \n",
    "There is no golden rule in selecting an acceptable ε which you can deem \"safe”, and you will likely need to decide internally what you believe to be a reasonable risk.\n",
    "  \n",
    "Finally, the ε of multiple measurements/queries can interact in complicated ways. However, it is straightforward to upper bound the worst case ε by the sum of all of the ε: $\\epsilon = \\sum_{i=0}^{n} \\epsilon_i$"
   ]
  },
  {
   "attachments": {},
   "cell_type": "markdown",
   "metadata": {},
   "source": [
    "## Moving Privacy into the Code Block\n",
    "\n",
    "In order to combine input and output privacy, we provide a framework for remotecode execution the feels somewhat native to the data science user experience. The steps are essentially:\n",
    "\n",
    "- Connect to a enclave backend.\n",
    "- Use the `%%ag` magic to send blocks of code for remote execution.\n",
    "- Manipulate and query data in the safety of the enclave and export only public data (post-DP) to the client.\n",
    "\n",
    "To get started we import the antigranular package:"
   ]
  },
  {
   "cell_type": "code",
   "execution_count": 12,
   "metadata": {},
   "outputs": [],
   "source": [
    "import antigranular as ag"
   ]
  },
  {
   "attachments": {},
   "cell_type": "markdown",
   "metadata": {},
   "source": [
    "### Log In with OAuth\n",
    "\n",
    "We use standard OAuth to authenticate users despite doing the full attestation based handshake to authenticate the software running within the enclave. In the example below, you can ignore the temp_user/password, this is only in place for local testing and demos:"
   ]
  },
  {
   "cell_type": "code",
   "execution_count": 2,
   "metadata": {},
   "outputs": [
    {
     "name": "stdout",
     "output_type": "stream",
     "text": [
      "{'date': 'Wed, 19 Jul 2023 16:54:42 GMT', 'content-type': 'application/json', 'content-length': '440', 'x-request-id': 'http-req-bc98bca5-cfac-4757-b6cf-62209846487d', 'server': 'uvicorn'} <class 'oblv_client.OblvResp'>\n",
      "Connected to Antigranular server session id: 50f32db5-e29a-4dea-b32b-4a20802954d2\n",
      "Cell magic '%%ag' registered successfully, use `%%ag` in a notebook cell to execute your python code on Antigranular private python server\n"
     ]
    }
   ],
   "source": [
    "import antigranular as ag\n",
    "session = ag.login(<client_id>,<client_secret>, dataset = \"Iris Dataset\")"
   ]
  },
  {
   "cell_type": "code",
   "execution_count": 14,
   "metadata": {},
   "outputs": [
    {
     "name": "stdout",
     "output_type": "stream",
     "text": [
      "{'header': {'msg_id': '498a637b-a25a5aa1bc4a77d2b51b01ec_17306_0', 'msg_type': 'status', 'username': 'username', 'session': '498a637b-a25a5aa1bc4a77d2b51b01ec', 'date': '2023-07-15T17:05:37.057260+00:00', 'version': '5.3'}, 'msg_id': '498a637b-a25a5aa1bc4a77d2b51b01ec_17306_0', 'msg_type': 'status', 'parent_header': {}, 'metadata': {}, 'content': {'execution_state': 'starting'}, 'buffers': []}\n",
      "{'header': {'msg_id': '498a637b-a25a5aa1bc4a77d2b51b01ec_17306_1', 'msg_type': 'status', 'username': 'username', 'session': '498a637b-a25a5aa1bc4a77d2b51b01ec', 'date': '2023-07-15T17:06:24.365818+00:00', 'version': '5.3'}, 'msg_id': '498a637b-a25a5aa1bc4a77d2b51b01ec_17306_1', 'msg_type': 'status', 'parent_header': {'msg_id': 'ba14450c-8b1cff57f89fe1a5aff2c264_1005_0', 'msg_type': 'execute_request', 'username': 'username', 'session': 'ba14450c-8b1cff57f89fe1a5aff2c264', 'date': '2023-07-15T17:06:24.364170+00:00', 'version': '5.3'}, 'metadata': {}, 'content': {'execution_state': 'busy'}, 'buffers': []}\n",
      "{'header': {'msg_id': '498a637b-a25a5aa1bc4a77d2b51b01ec_17306_2', 'msg_type': 'execute_input', 'username': 'username', 'session': '498a637b-a25a5aa1bc4a77d2b51b01ec', 'date': '2023-07-15T17:06:24.366648+00:00', 'version': '5.3'}, 'msg_id': '498a637b-a25a5aa1bc4a77d2b51b01ec_17306_2', 'msg_type': 'execute_input', 'parent_header': {'msg_id': 'ba14450c-8b1cff57f89fe1a5aff2c264_1005_0', 'msg_type': 'execute_request', 'username': 'username', 'session': 'ba14450c-8b1cff57f89fe1a5aff2c264', 'date': '2023-07-15T17:06:24.364170+00:00', 'version': '5.3'}, 'metadata': {}, 'content': {'code': 'x = 6 \\n\\ndef func():\\n    global x\\n    x = 7 \\n', 'execution_count': 1}, 'buffers': []}\n",
      "{'header': {'msg_id': '498a637b-a25a5aa1bc4a77d2b51b01ec_17306_3', 'msg_type': 'stream', 'username': 'username', 'session': '498a637b-a25a5aa1bc4a77d2b51b01ec', 'date': '2023-07-15T17:06:25.450706+00:00', 'version': '5.3'}, 'msg_id': '498a637b-a25a5aa1bc4a77d2b51b01ec_17306_3', 'msg_type': 'stream', 'parent_header': {'msg_id': 'ba14450c-8b1cff57f89fe1a5aff2c264_1005_0', 'msg_type': 'execute_request', 'username': 'username', 'session': 'ba14450c-8b1cff57f89fe1a5aff2c264', 'date': '2023-07-15T17:06:24.364170+00:00', 'version': '5.3'}, 'metadata': {}, 'content': {'name': 'stderr', 'text': 'UsageError: Restricted, Cannot use <ast.Global object at 0x7f93e17ef760> in pripy\\n'}, 'buffers': []}\n",
      "{'header': {'msg_id': '498a637b-a25a5aa1bc4a77d2b51b01ec_17306_5', 'msg_type': 'status', 'username': 'username', 'session': '498a637b-a25a5aa1bc4a77d2b51b01ec', 'date': '2023-07-15T17:06:25.452636+00:00', 'version': '5.3'}, 'msg_id': '498a637b-a25a5aa1bc4a77d2b51b01ec_17306_5', 'msg_type': 'status', 'parent_header': {'msg_id': 'ba14450c-8b1cff57f89fe1a5aff2c264_1005_0', 'msg_type': 'execute_request', 'username': 'username', 'session': 'ba14450c-8b1cff57f89fe1a5aff2c264', 'date': '2023-07-15T17:06:24.364170+00:00', 'version': '5.3'}, 'metadata': {}, 'content': {'execution_state': 'idle'}, 'buffers': []}\n"
     ]
    },
    {
     "name": "stderr",
     "output_type": "stream",
     "text": [
      "UsageError: Restricted, Cannot use <ast.Global object at 0x7f93e17ef760> in pripy\n",
      "\n"
     ]
    }
   ],
   "source": [
    "%%ag\n",
    "x = 6 \n",
    "\n",
    "def func():\n",
    "    global x\n",
    "    x = 7 "
   ]
  },
  {
   "cell_type": "code",
   "execution_count": 15,
   "metadata": {},
   "outputs": [
    {
     "name": "stdout",
     "output_type": "stream",
     "text": [
      "https://auth-dev.antigranular.com/oauth/token\n"
     ]
    }
   ],
   "source": [
    "from antigranular import config\n",
    "print(config.config.AG_OAUTH_URL)"
   ]
  },
  {
   "attachments": {},
   "cell_type": "markdown",
   "metadata": {},
   "source": [
    "Once you've logged in you will have a session id associated with your interactions. This actually gets embedded into the ipynb metadata so when you share your notebook we can associate it with your score from a competition, or you metrics associated with analysing a dataset."
   ]
  },
  {
   "cell_type": "code",
   "execution_count": 20,
   "metadata": {},
   "outputs": [
    {
     "name": "stdout",
     "output_type": "stream",
     "text": [
      "{'header': {'msg_id': '498a637b-a25a5aa1bc4a77d2b51b01ec_17306_16', 'msg_type': 'status', 'username': 'username', 'session': '498a637b-a25a5aa1bc4a77d2b51b01ec', 'date': '2023-07-15T17:08:43.609448+00:00', 'version': '5.3'}, 'msg_id': '498a637b-a25a5aa1bc4a77d2b51b01ec_17306_16', 'msg_type': 'status', 'parent_header': {'msg_id': 'ba14450c-8b1cff57f89fe1a5aff2c264_1005_3', 'msg_type': 'execute_request', 'username': 'username', 'session': 'ba14450c-8b1cff57f89fe1a5aff2c264', 'date': '2023-07-15T17:08:43.608059+00:00', 'version': '5.3'}, 'metadata': {}, 'content': {'execution_state': 'busy'}, 'buffers': []}\n",
      "{'header': {'msg_id': '498a637b-a25a5aa1bc4a77d2b51b01ec_17306_17', 'msg_type': 'execute_input', 'username': 'username', 'session': '498a637b-a25a5aa1bc4a77d2b51b01ec', 'date': '2023-07-15T17:08:43.610052+00:00', 'version': '5.3'}, 'msg_id': '498a637b-a25a5aa1bc4a77d2b51b01ec_17306_17', 'msg_type': 'execute_input', 'parent_header': {'msg_id': 'ba14450c-8b1cff57f89fe1a5aff2c264_1005_3', 'msg_type': 'execute_request', 'username': 'username', 'session': 'ba14450c-8b1cff57f89fe1a5aff2c264', 'date': '2023-07-15T17:08:43.608059+00:00', 'version': '5.3'}, 'metadata': {}, 'content': {'code': 'from op_diffprivlib.models import LinearRegression\\nfrom typing import Any\\ndef fun()->Any:\\n    return LinearRegression()\\n', 'execution_count': 4}, 'buffers': []}\n",
      "{'header': {'msg_id': '498a637b-a25a5aa1bc4a77d2b51b01ec_17306_18', 'msg_type': 'stream', 'username': 'username', 'session': '498a637b-a25a5aa1bc4a77d2b51b01ec', 'date': '2023-07-15T17:08:49.850017+00:00', 'version': '5.3'}, 'msg_id': '498a637b-a25a5aa1bc4a77d2b51b01ec_17306_18', 'msg_type': 'stream', 'parent_header': {'msg_id': 'ba14450c-8b1cff57f89fe1a5aff2c264_1005_3', 'msg_type': 'execute_request', 'username': 'username', 'session': 'ba14450c-8b1cff57f89fe1a5aff2c264', 'date': '2023-07-15T17:08:43.608059+00:00', 'version': '5.3'}, 'metadata': {}, 'content': {'name': 'stderr', 'text': 'UsageError: mypy strict mode failed with error code: 1 error: <string>:8: \\x1b[1m\\x1b[31merror:\\x1b[m Skipping analyzing \\x1b[m\\x1b[1m\"op_diffprivlib.models\"\\x1b[m: module is installed, but missing library stubs or py.typed marker  \\x1b[m\\x1b[33m[import]\\x1b[m\\n<string>:8: \\x1b[34mnote:\\x1b[m See \\x1b[4mhttps://mypy.readthedocs.io/en/stable/running_mypy.html#missing-imports\\x1b[m\\x1b[m\\n\\x1b[1m\\x1b[31mFound 1 error in 1 file (checked 1 source file)\\x1b[m\\n\\n: x = 6\\nfrom ag_utils import export\\n8678\\nexport(2, \\'x\\')\\nfrom ag_utils import export\\n8678\\nexport(2, \\'xx\\')\\nfrom op_diffprivlib.models import LinearRegression\\n'}, 'buffers': []}\n",
      "{'header': {'msg_id': '498a637b-a25a5aa1bc4a77d2b51b01ec_17306_20', 'msg_type': 'status', 'username': 'username', 'session': '498a637b-a25a5aa1bc4a77d2b51b01ec', 'date': '2023-07-15T17:08:49.851660+00:00', 'version': '5.3'}, 'msg_id': '498a637b-a25a5aa1bc4a77d2b51b01ec_17306_20', 'msg_type': 'status', 'parent_header': {'msg_id': 'ba14450c-8b1cff57f89fe1a5aff2c264_1005_3', 'msg_type': 'execute_request', 'username': 'username', 'session': 'ba14450c-8b1cff57f89fe1a5aff2c264', 'date': '2023-07-15T17:08:43.608059+00:00', 'version': '5.3'}, 'metadata': {}, 'content': {'execution_state': 'idle'}, 'buffers': []}\n"
     ]
    },
    {
     "name": "stderr",
     "output_type": "stream",
     "text": [
      "UsageError: mypy strict mode failed with error code: 1 error: <string>:8: \u001b[1m\u001b[31merror:\u001b[m Skipping analyzing \u001b[m\u001b[1m\"op_diffprivlib.models\"\u001b[m: module is installed, but missing library stubs or py.typed marker  \u001b[m\u001b[33m[import]\u001b[m\n",
      "<string>:8: \u001b[34mnote:\u001b[m See \u001b[4mhttps://mypy.readthedocs.io/en/stable/running_mypy.html#missing-imports\u001b[m\u001b[m\n",
      "\u001b[1m\u001b[31mFound 1 error in 1 file (checked 1 source file)\u001b[m\n",
      "\n",
      ": x = 6\n",
      "from ag_utils import export\n",
      "8678\n",
      "export(2, 'x')\n",
      "from ag_utils import export\n",
      "8678\n",
      "export(2, 'xx')\n",
      "from op_diffprivlib.models import LinearRegression\n",
      "\n"
     ]
    }
   ],
   "source": [
    "%%ag\n",
    "from op_diffprivlib.models import LinearRegression\n",
    "from typing import Any\n",
    "def fun()->Any:\n",
    "    return LinearRegression()"
   ]
  },
  {
   "attachments": {},
   "cell_type": "markdown",
   "metadata": {},
   "source": [
    "### Executing Code with AG\n",
    "\n",
    "We have used magic `%%ag` to let user toggle between private python and regular. Simply, add it to the top of any cell and your code will be remotely executed. Any non-private data type (int, float, list, str, etc) can be exported back to your current Jupyter instance using the `export` method as seen below:"
   ]
  },
  {
   "cell_type": "code",
   "execution_count": 18,
   "metadata": {},
   "outputs": [
    {
     "name": "stdout",
     "output_type": "stream",
     "text": [
      "{'header': {'msg_id': '498a637b-a25a5aa1bc4a77d2b51b01ec_17306_11', 'msg_type': 'status', 'username': 'username', 'session': '498a637b-a25a5aa1bc4a77d2b51b01ec', 'date': '2023-07-15T17:08:07.824534+00:00', 'version': '5.3'}, 'msg_id': '498a637b-a25a5aa1bc4a77d2b51b01ec_17306_11', 'msg_type': 'status', 'parent_header': {'msg_id': 'ba14450c-8b1cff57f89fe1a5aff2c264_1005_2', 'msg_type': 'execute_request', 'username': 'username', 'session': 'ba14450c-8b1cff57f89fe1a5aff2c264', 'date': '2023-07-15T17:08:07.822949+00:00', 'version': '5.3'}, 'metadata': {}, 'content': {'execution_state': 'busy'}, 'buffers': []}\n",
      "{'header': {'msg_id': '498a637b-a25a5aa1bc4a77d2b51b01ec_17306_12', 'msg_type': 'execute_input', 'username': 'username', 'session': '498a637b-a25a5aa1bc4a77d2b51b01ec', 'date': '2023-07-15T17:08:07.825539+00:00', 'version': '5.3'}, 'msg_id': '498a637b-a25a5aa1bc4a77d2b51b01ec_17306_12', 'msg_type': 'execute_input', 'parent_header': {'msg_id': 'ba14450c-8b1cff57f89fe1a5aff2c264_1005_2', 'msg_type': 'execute_request', 'username': 'username', 'session': 'ba14450c-8b1cff57f89fe1a5aff2c264', 'date': '2023-07-15T17:08:07.822949+00:00', 'version': '5.3'}, 'metadata': {}, 'content': {'code': 'from ag_utils import export \\n8678\\nexport(2, \"xx\")\\n', 'execution_count': 3}, 'buffers': []}\n",
      "{'header': {'msg_id': '498a637b-a25a5aa1bc4a77d2b51b01ec_17306_13', 'msg_type': 'ag_export_value', 'username': 'username', 'session': '498a637b-a25a5aa1bc4a77d2b51b01ec', 'date': '2023-07-15T17:08:37.158692+00:00', 'version': '5.3'}, 'msg_id': '498a637b-a25a5aa1bc4a77d2b51b01ec_17306_13', 'msg_type': 'ag_export_value', 'parent_header': {'msg_id': 'ba14450c-8b1cff57f89fe1a5aff2c264_1005_2', 'msg_type': 'execute_request', 'username': 'username', 'session': 'ba14450c-8b1cff57f89fe1a5aff2c264', 'date': '2023-07-15T17:08:07.822949+00:00', 'version': '5.3'}, 'metadata': {}, 'content': {'xx': 'gARLAi4='}, 'buffers': []}\n",
      "Setting up exported variable in local environment: xx\n",
      "{'header': {'msg_id': '498a637b-a25a5aa1bc4a77d2b51b01ec_17306_15', 'msg_type': 'status', 'username': 'username', 'session': '498a637b-a25a5aa1bc4a77d2b51b01ec', 'date': '2023-07-15T17:08:37.161005+00:00', 'version': '5.3'}, 'msg_id': '498a637b-a25a5aa1bc4a77d2b51b01ec_17306_15', 'msg_type': 'status', 'parent_header': {'msg_id': 'ba14450c-8b1cff57f89fe1a5aff2c264_1005_2', 'msg_type': 'execute_request', 'username': 'username', 'session': 'ba14450c-8b1cff57f89fe1a5aff2c264', 'date': '2023-07-15T17:08:07.822949+00:00', 'version': '5.3'}, 'metadata': {}, 'content': {'execution_state': 'idle'}, 'buffers': []}\n"
     ]
    }
   ],
   "source": [
    "%%ag \n",
    "from ag_utils import export \n",
    "8678\n",
    "export(2, \"xx\")"
   ]
  },
  {
   "cell_type": "code",
   "execution_count": 19,
   "metadata": {},
   "outputs": [
    {
     "name": "stdout",
     "output_type": "stream",
     "text": [
      "2\n"
     ]
    }
   ],
   "source": [
    "print(xx)"
   ]
  },
  {
   "cell_type": "code",
   "execution_count": null,
   "metadata": {},
   "outputs": [
    {
     "name": "stdout",
     "output_type": "stream",
     "text": [
      "{'header': {'msg_id': '16d6682e-fa01c3ce9d1c29b2a133b373_8083_11', 'msg_type': 'status', 'username': 'username', 'session': '16d6682e-fa01c3ce9d1c29b2a133b373', 'date': '2023-07-15T16:14:11.203570+00:00', 'version': '5.3'}, 'msg_id': '16d6682e-fa01c3ce9d1c29b2a133b373_8083_11', 'msg_type': 'status', 'parent_header': {'msg_id': 'b8ebf5e4-730120f2faf658c202d7bd06_1005_2', 'msg_type': 'execute_request', 'username': 'username', 'session': 'b8ebf5e4-730120f2faf658c202d7bd06', 'date': '2023-07-15T16:14:11.202362+00:00', 'version': '5.3'}, 'metadata': {}, 'content': {'execution_state': 'busy'}, 'buffers': []}\n",
      "{'header': {'msg_id': '16d6682e-fa01c3ce9d1c29b2a133b373_8083_12', 'msg_type': 'execute_input', 'username': 'username', 'session': '16d6682e-fa01c3ce9d1c29b2a133b373', 'date': '2023-07-15T16:14:11.204447+00:00', 'version': '5.3'}, 'msg_id': '16d6682e-fa01c3ce9d1c29b2a133b373_8083_12', 'msg_type': 'execute_input', 'parent_header': {'msg_id': 'b8ebf5e4-730120f2faf658c202d7bd06_1005_2', 'msg_type': 'execute_request', 'username': 'username', 'session': 'b8ebf5e4-730120f2faf658c202d7bd06', 'date': '2023-07-15T16:14:11.202362+00:00', 'version': '5.3'}, 'metadata': {}, 'content': {'code': '\\ndef gh():\\n    y = 9\\n    x = y/0\\ngh()\\n', 'execution_count': 3}, 'buffers': []}\n",
      "{'header': {'msg_id': '16d6682e-fa01c3ce9d1c29b2a133b373_8083_13', 'msg_type': 'stream', 'username': 'username', 'session': '16d6682e-fa01c3ce9d1c29b2a133b373', 'date': '2023-07-15T16:14:22.363625+00:00', 'version': '5.3'}, 'msg_id': '16d6682e-fa01c3ce9d1c29b2a133b373_8083_13', 'msg_type': 'stream', 'parent_header': {'msg_id': 'b8ebf5e4-730120f2faf658c202d7bd06_1005_2', 'msg_type': 'execute_request', 'username': 'username', 'session': 'b8ebf5e4-730120f2faf658c202d7bd06', 'date': '2023-07-15T16:14:11.202362+00:00', 'version': '5.3'}, 'metadata': {}, 'content': {'name': 'stderr', 'text': 'UsageError: mypy strict mode failed with error code: 1 error: <string>:5: \\x1b[1m\\x1b[31merror:\\x1b[m Function is missing a return type annotation  \\x1b[m\\x1b[33m[no-untyped-def]\\x1b[m\\n<string>:5: \\x1b[34mnote:\\x1b[m Use \\x1b[m\\x1b[1m\"-> None\"\\x1b[m if function does not return a value\\x1b[m\\n\\x1b[1m\\x1b[31mFound 1 error in 1 file (checked 1 source file)\\x1b[m\\n\\n: x = 6\\nfrom ag_utils import export\\n8678\\nexport(2, \\'x\\')\\ndef gh():\\n    y = 9\\n    x = y / 0\\n'}, 'buffers': []}\n",
      "{'header': {'msg_id': '16d6682e-fa01c3ce9d1c29b2a133b373_8083_15', 'msg_type': 'status', 'username': 'username', 'session': '16d6682e-fa01c3ce9d1c29b2a133b373', 'date': '2023-07-15T16:14:22.365417+00:00', 'version': '5.3'}, 'msg_id': '16d6682e-fa01c3ce9d1c29b2a133b373_8083_15', 'msg_type': 'status', 'parent_header': {'msg_id': 'b8ebf5e4-730120f2faf658c202d7bd06_1005_2', 'msg_type': 'execute_request', 'username': 'username', 'session': 'b8ebf5e4-730120f2faf658c202d7bd06', 'date': '2023-07-15T16:14:11.202362+00:00', 'version': '5.3'}, 'metadata': {}, 'content': {'execution_state': 'idle'}, 'buffers': []}\n"
     ]
    },
    {
     "name": "stderr",
     "output_type": "stream",
     "text": [
      "UsageError: mypy strict mode failed with error code: 1 error: <string>:5: \u001b[1m\u001b[31merror:\u001b[m Function is missing a return type annotation  \u001b[m\u001b[33m[no-untyped-def]\u001b[m\n",
      "<string>:5: \u001b[34mnote:\u001b[m Use \u001b[m\u001b[1m\"-> None\"\u001b[m if function does not return a value\u001b[m\n",
      "\u001b[1m\u001b[31mFound 1 error in 1 file (checked 1 source file)\u001b[m\n",
      "\n",
      ": x = 6\n",
      "from ag_utils import export\n",
      "8678\n",
      "export(2, 'x')\n",
      "def gh():\n",
      "    y = 9\n",
      "    x = y / 0\n",
      "\n"
     ]
    }
   ],
   "source": [
    "%%ag\n",
    "\n",
    "def gh():\n",
    "    y = 9\n",
    "    x = y/0\n",
    "gh()"
   ]
  },
  {
   "cell_type": "code",
   "execution_count": null,
   "metadata": {},
   "outputs": [
    {
     "name": "stdout",
     "output_type": "stream",
     "text": [
      "{'header': {'msg_id': '16d6682e-fa01c3ce9d1c29b2a133b373_8083_16', 'msg_type': 'status', 'username': 'username', 'session': '16d6682e-fa01c3ce9d1c29b2a133b373', 'date': '2023-07-15T16:14:25.493621+00:00', 'version': '5.3'}, 'msg_id': '16d6682e-fa01c3ce9d1c29b2a133b373_8083_16', 'msg_type': 'status', 'parent_header': {'msg_id': 'b8ebf5e4-730120f2faf658c202d7bd06_1005_3', 'msg_type': 'execute_request', 'username': 'username', 'session': 'b8ebf5e4-730120f2faf658c202d7bd06', 'date': '2023-07-15T16:14:25.492019+00:00', 'version': '5.3'}, 'metadata': {}, 'content': {'execution_state': 'busy'}, 'buffers': []}\n",
      "{'header': {'msg_id': '16d6682e-fa01c3ce9d1c29b2a133b373_8083_17', 'msg_type': 'execute_input', 'username': 'username', 'session': '16d6682e-fa01c3ce9d1c29b2a133b373', 'date': '2023-07-15T16:14:25.494651+00:00', 'version': '5.3'}, 'msg_id': '16d6682e-fa01c3ce9d1c29b2a133b373_8083_17', 'msg_type': 'execute_input', 'parent_header': {'msg_id': 'b8ebf5e4-730120f2faf658c202d7bd06_1005_3', 'msg_type': 'execute_request', 'username': 'username', 'session': 'b8ebf5e4-730120f2faf658c202d7bd06', 'date': '2023-07-15T16:14:25.492019+00:00', 'version': '5.3'}, 'metadata': {}, 'content': {'code': '\\nimport os \\n', 'execution_count': 4}, 'buffers': []}\n",
      "{'header': {'msg_id': '16d6682e-fa01c3ce9d1c29b2a133b373_8083_18', 'msg_type': 'error', 'username': 'username', 'session': '16d6682e-fa01c3ce9d1c29b2a133b373', 'date': '2023-07-15T16:14:32.460201+00:00', 'version': '5.3'}, 'msg_id': '16d6682e-fa01c3ce9d1c29b2a133b373_8083_18', 'msg_type': 'error', 'parent_header': {'msg_id': 'b8ebf5e4-730120f2faf658c202d7bd06_1005_3', 'msg_type': 'execute_request', 'username': 'username', 'session': 'b8ebf5e4-730120f2faf658c202d7bd06', 'date': '2023-07-15T16:14:25.492019+00:00', 'version': '5.3'}, 'metadata': {}, 'content': {'traceback': ['\\x1b[0;31m---------------------------------------------------------------------------\\x1b[0m', '\\x1b[0;31mImportError\\x1b[0m                               Traceback (most recent call last)', 'Cell \\x1b[0;32mIn[4], line 1\\x1b[0m\\n\\x1b[0;32m----> 1\\x1b[0m \\x1b[38;5;28;01mimport\\x1b[39;00m \\x1b[38;5;21;01mos\\x1b[39;00m \\n', 'File \\x1b[0;32m/code/dependencies/ag_engine/ag_engine/restricted_python/custom_imports.py:14\\x1b[0m, in \\x1b[0;36mCustomImports.get_imports\\x1b[0;34m(self, name, _globals, _locals, fromlist, level)\\x1b[0m\\n\\x1b[1;32m     11\\x1b[0m target_level \\x1b[38;5;241m=\\x1b[39m \\x1b[38;5;28mself\\x1b[39m\\x1b[38;5;241m.\\x1b[39mtree\\x1b[38;5;241m.\\x1b[39mfind_node(name)\\n\\x1b[1;32m     13\\x1b[0m \\x1b[38;5;28;01mif\\x1b[39;00m target_level \\x1b[38;5;129;01mis\\x1b[39;00m \\x1b[38;5;28;01mNone\\x1b[39;00m:\\n\\x1b[0;32m---> 14\\x1b[0m     \\x1b[38;5;28;01mraise\\x1b[39;00m \\x1b[38;5;167;01mImportError\\x1b[39;00m(\\x1b[38;5;124mf\\x1b[39m\\x1b[38;5;124m\"\\x1b[39m\\x1b[38;5;124mRestricted import: \\x1b[39m\\x1b[38;5;132;01m{\\x1b[39;00mname\\x1b[38;5;132;01m}\\x1b[39;00m\\x1b[38;5;124m is not allowed\\x1b[39m\\x1b[38;5;124m\"\\x1b[39m)\\n\\x1b[1;32m     16\\x1b[0m \\x1b[38;5;66;03m# Filter access to those methods that are allowed in the imported module.\\x1b[39;00m\\n\\x1b[1;32m     17\\x1b[0m module \\x1b[38;5;241m=\\x1b[39m \\x1b[38;5;28m__import__\\x1b[39m(name, _globals, _locals, fromlist, level)\\n', '\\x1b[0;31mImportError\\x1b[0m: Restricted import: os is not allowed'], 'ename': 'ImportError', 'evalue': 'Restricted import: os is not allowed'}, 'buffers': []}\n",
      "\u001b[0;31m---------------------------------------------------------------------------\u001b[0m\u001b[0;31mImportError\u001b[0m                               Traceback (most recent call last)Cell \u001b[0;32mIn[4], line 1\u001b[0m\n",
      "\u001b[0;32m----> 1\u001b[0m \u001b[38;5;28;01mimport\u001b[39;00m \u001b[38;5;21;01mos\u001b[39;00m \n",
      "File \u001b[0;32m/code/dependencies/ag_engine/ag_engine/restricted_python/custom_imports.py:14\u001b[0m, in \u001b[0;36mCustomImports.get_imports\u001b[0;34m(self, name, _globals, _locals, fromlist, level)\u001b[0m\n",
      "\u001b[1;32m     11\u001b[0m target_level \u001b[38;5;241m=\u001b[39m \u001b[38;5;28mself\u001b[39m\u001b[38;5;241m.\u001b[39mtree\u001b[38;5;241m.\u001b[39mfind_node(name)\n",
      "\u001b[1;32m     13\u001b[0m \u001b[38;5;28;01mif\u001b[39;00m target_level \u001b[38;5;129;01mis\u001b[39;00m \u001b[38;5;28;01mNone\u001b[39;00m:\n",
      "\u001b[0;32m---> 14\u001b[0m     \u001b[38;5;28;01mraise\u001b[39;00m \u001b[38;5;167;01mImportError\u001b[39;00m(\u001b[38;5;124mf\u001b[39m\u001b[38;5;124m\"\u001b[39m\u001b[38;5;124mRestricted import: \u001b[39m\u001b[38;5;132;01m{\u001b[39;00mname\u001b[38;5;132;01m}\u001b[39;00m\u001b[38;5;124m is not allowed\u001b[39m\u001b[38;5;124m\"\u001b[39m)\n",
      "\u001b[1;32m     16\u001b[0m \u001b[38;5;66;03m# Filter access to those methods that are allowed in the imported module.\u001b[39;00m\n",
      "\u001b[1;32m     17\u001b[0m module \u001b[38;5;241m=\u001b[39m \u001b[38;5;28m__import__\u001b[39m(name, _globals, _locals, fromlist, level)\n",
      "\u001b[0;31mImportError\u001b[0m: Restricted import: os is not allowed\n"
     ]
    }
   ],
   "source": [
    "%%ag\n",
    "\n",
    "import os "
   ]
  },
  {
   "cell_type": "code",
   "execution_count": null,
   "metadata": {},
   "outputs": [
    {
     "name": "stdout",
     "output_type": "stream",
     "text": [
      "Look what's in x now in your local Jupyter session: 2\n"
     ]
    }
   ],
   "source": [
    "print(\"Look what's in x now in your local Jupyter session:\", x)"
   ]
  },
  {
   "attachments": {},
   "cell_type": "markdown",
   "metadata": {},
   "source": [
    "### Throwing Errors\n",
    "\n",
    "Errors can be thrown for a variety of reasons. Antigranular restrict many AST nodes, enforces strict mypy, limits the scopes of variable assignments and much more. If you try to do any of these you will be greated with an error message which is forwarded to your local runtime:"
   ]
  },
  {
   "cell_type": "code",
   "execution_count": null,
   "metadata": {},
   "outputs": [
    {
     "name": "stdout",
     "output_type": "stream",
     "text": [
      "{'header': {'msg_id': '16d6682e-fa01c3ce9d1c29b2a133b373_8083_21', 'msg_type': 'status', 'username': 'username', 'session': '16d6682e-fa01c3ce9d1c29b2a133b373', 'date': '2023-07-15T16:14:35.423331+00:00', 'version': '5.3'}, 'msg_id': '16d6682e-fa01c3ce9d1c29b2a133b373_8083_21', 'msg_type': 'status', 'parent_header': {'msg_id': 'b8ebf5e4-730120f2faf658c202d7bd06_1005_4', 'msg_type': 'execute_request', 'username': 'username', 'session': 'b8ebf5e4-730120f2faf658c202d7bd06', 'date': '2023-07-15T16:14:35.421976+00:00', 'version': '5.3'}, 'metadata': {}, 'content': {'execution_state': 'busy'}, 'buffers': []}\n",
      "{'header': {'msg_id': '16d6682e-fa01c3ce9d1c29b2a133b373_8083_22', 'msg_type': 'execute_input', 'username': 'username', 'session': '16d6682e-fa01c3ce9d1c29b2a133b373', 'date': '2023-07-15T16:14:35.424173+00:00', 'version': '5.3'}, 'msg_id': '16d6682e-fa01c3ce9d1c29b2a133b373_8083_22', 'msg_type': 'execute_input', 'parent_header': {'msg_id': 'b8ebf5e4-730120f2faf658c202d7bd06_1005_4', 'msg_type': 'execute_request', 'username': 'username', 'session': 'b8ebf5e4-730120f2faf658c202d7bd06', 'date': '2023-07-15T16:14:35.421976+00:00', 'version': '5.3'}, 'metadata': {}, 'content': {'code': '\\nraise ConnectionError(f\"Error calling /session_status: {str(\\'lalala\\')}\")\\n', 'execution_count': 5}, 'buffers': []}\n",
      "{'header': {'msg_id': '16d6682e-fa01c3ce9d1c29b2a133b373_8083_23', 'msg_type': 'stream', 'username': 'username', 'session': '16d6682e-fa01c3ce9d1c29b2a133b373', 'date': '2023-07-15T16:14:35.426864+00:00', 'version': '5.3'}, 'msg_id': '16d6682e-fa01c3ce9d1c29b2a133b373_8083_23', 'msg_type': 'stream', 'parent_header': {'msg_id': 'b8ebf5e4-730120f2faf658c202d7bd06_1005_4', 'msg_type': 'execute_request', 'username': 'username', 'session': 'b8ebf5e4-730120f2faf658c202d7bd06', 'date': '2023-07-15T16:14:35.421976+00:00', 'version': '5.3'}, 'metadata': {}, 'content': {'name': 'stderr', 'text': 'UsageError: Restricted, Cannot use <ast.Raise object at 0x7f32338ea980> in pripy\\n'}, 'buffers': []}\n",
      "{'header': {'msg_id': '16d6682e-fa01c3ce9d1c29b2a133b373_8083_25', 'msg_type': 'status', 'username': 'username', 'session': '16d6682e-fa01c3ce9d1c29b2a133b373', 'date': '2023-07-15T16:14:35.428493+00:00', 'version': '5.3'}, 'msg_id': '16d6682e-fa01c3ce9d1c29b2a133b373_8083_25', 'msg_type': 'status', 'parent_header': {'msg_id': 'b8ebf5e4-730120f2faf658c202d7bd06_1005_4', 'msg_type': 'execute_request', 'username': 'username', 'session': 'b8ebf5e4-730120f2faf658c202d7bd06', 'date': '2023-07-15T16:14:35.421976+00:00', 'version': '5.3'}, 'metadata': {}, 'content': {'execution_state': 'idle'}, 'buffers': []}\n"
     ]
    },
    {
     "name": "stderr",
     "output_type": "stream",
     "text": [
      "UsageError: Restricted, Cannot use <ast.Raise object at 0x7f32338ea980> in pripy\n",
      "\n"
     ]
    }
   ],
   "source": [
    "%%ag \n",
    "\n",
    "raise ConnectionError(f\"Error calling /session_status: {str('lalala')}\")"
   ]
  },
  {
   "attachments": {},
   "cell_type": "markdown",
   "metadata": {},
   "source": [
    "We limit the scope intensionally to limit the side effects of a method call"
   ]
  },
  {
   "cell_type": "code",
   "execution_count": null,
   "metadata": {},
   "outputs": [
    {
     "name": "stdout",
     "output_type": "stream",
     "text": [
      "{'header': {'msg_id': '16d6682e-fa01c3ce9d1c29b2a133b373_8083_26', 'msg_type': 'status', 'username': 'username', 'session': '16d6682e-fa01c3ce9d1c29b2a133b373', 'date': '2023-07-15T16:14:37.945345+00:00', 'version': '5.3'}, 'msg_id': '16d6682e-fa01c3ce9d1c29b2a133b373_8083_26', 'msg_type': 'status', 'parent_header': {'msg_id': 'b8ebf5e4-730120f2faf658c202d7bd06_1005_5', 'msg_type': 'execute_request', 'username': 'username', 'session': 'b8ebf5e4-730120f2faf658c202d7bd06', 'date': '2023-07-15T16:14:37.943874+00:00', 'version': '5.3'}, 'metadata': {}, 'content': {'execution_state': 'busy'}, 'buffers': []}\n",
      "{'header': {'msg_id': '16d6682e-fa01c3ce9d1c29b2a133b373_8083_27', 'msg_type': 'execute_input', 'username': 'username', 'session': '16d6682e-fa01c3ce9d1c29b2a133b373', 'date': '2023-07-15T16:14:37.946046+00:00', 'version': '5.3'}, 'msg_id': '16d6682e-fa01c3ce9d1c29b2a133b373_8083_27', 'msg_type': 'execute_input', 'parent_header': {'msg_id': 'b8ebf5e4-730120f2faf658c202d7bd06_1005_5', 'msg_type': 'execute_request', 'username': 'username', 'session': 'b8ebf5e4-730120f2faf658c202d7bd06', 'date': '2023-07-15T16:14:37.943874+00:00', 'version': '5.3'}, 'metadata': {}, 'content': {'code': 'r = 1\\nr = r + 1\\n\\ndef goofie() -> None:\\n    # same is true for any free, nonlocal, global vars\\n    # either implicitly or explicitly defined...\\n    global r\\n    r = 6\\n    \\ngoofie()\\n', 'execution_count': 6}, 'buffers': []}\n",
      "{'header': {'msg_id': '16d6682e-fa01c3ce9d1c29b2a133b373_8083_28', 'msg_type': 'stream', 'username': 'username', 'session': '16d6682e-fa01c3ce9d1c29b2a133b373', 'date': '2023-07-15T16:14:55.161237+00:00', 'version': '5.3'}, 'msg_id': '16d6682e-fa01c3ce9d1c29b2a133b373_8083_28', 'msg_type': 'stream', 'parent_header': {'msg_id': 'b8ebf5e4-730120f2faf658c202d7bd06_1005_5', 'msg_type': 'execute_request', 'username': 'username', 'session': 'b8ebf5e4-730120f2faf658c202d7bd06', 'date': '2023-07-15T16:14:37.943874+00:00', 'version': '5.3'}, 'metadata': {}, 'content': {'name': 'stderr', 'text': 'UsageError: Restricted, Cannot use <ast.Global object at 0x7f3233e07df0> in pripy\\n'}, 'buffers': []}\n",
      "{'header': {'msg_id': '16d6682e-fa01c3ce9d1c29b2a133b373_8083_30', 'msg_type': 'status', 'username': 'username', 'session': '16d6682e-fa01c3ce9d1c29b2a133b373', 'date': '2023-07-15T16:14:55.162806+00:00', 'version': '5.3'}, 'msg_id': '16d6682e-fa01c3ce9d1c29b2a133b373_8083_30', 'msg_type': 'status', 'parent_header': {'msg_id': 'b8ebf5e4-730120f2faf658c202d7bd06_1005_5', 'msg_type': 'execute_request', 'username': 'username', 'session': 'b8ebf5e4-730120f2faf658c202d7bd06', 'date': '2023-07-15T16:14:37.943874+00:00', 'version': '5.3'}, 'metadata': {}, 'content': {'execution_state': 'idle'}, 'buffers': []}\n"
     ]
    },
    {
     "name": "stderr",
     "output_type": "stream",
     "text": [
      "UsageError: Restricted, Cannot use <ast.Global object at 0x7f3233e07df0> in pripy\n",
      "\n"
     ]
    }
   ],
   "source": [
    "%%ag \n",
    "r = 1\n",
    "r = r + 1\n",
    "\n",
    "def goofie() -> None:\n",
    "    # same is true for any free, nonlocal, global vars\n",
    "    # either implicitly or explicitly defined...\n",
    "    global r\n",
    "    r = 6\n",
    "    \n",
    "goofie()"
   ]
  },
  {
   "cell_type": "code",
   "execution_count": null,
   "metadata": {},
   "outputs": [
    {
     "name": "stderr",
     "output_type": "stream",
     "text": [
      "Kernel interrupted successfully\n"
     ]
    }
   ],
   "source": [
    "%%ag\n",
    "\n",
    "x = 6\n",
    "\n",
    "export(2, \"x\")"
   ]
  },
  {
   "attachments": {},
   "cell_type": "markdown",
   "metadata": {},
   "source": [
    "### Private DataFrames \n",
    "\n",
    "Usually the dataset you are looking for will already be present in the session you connect into, however we'll show you how these are constructed first and then how we can use most of the common pandas interfaces in a differentially private mannor to gain insights into the underlying dataset:"
   ]
  },
  {
   "cell_type": "code",
   "execution_count": 6,
   "metadata": {},
   "outputs": [
    {
     "name": "stdout",
     "output_type": "stream",
     "text": [
      "{'header': {'msg_id': '8d8ad082-690ef26cf0ca27bd23ed865a_10049_11', 'msg_type': 'status', 'username': 'username', 'session': '8d8ad082-690ef26cf0ca27bd23ed865a', 'date': '2023-07-15T16:22:49.665067+00:00', 'version': '5.3'}, 'msg_id': '8d8ad082-690ef26cf0ca27bd23ed865a_10049_11', 'msg_type': 'status', 'parent_header': {'msg_id': 'c87d2b1e-65cc015d86b1c3ac883b76ec_1005_2', 'msg_type': 'execute_request', 'username': 'username', 'session': 'c87d2b1e-65cc015d86b1c3ac883b76ec', 'date': '2023-07-15T16:22:49.663481+00:00', 'version': '5.3'}, 'metadata': {}, 'content': {'execution_state': 'busy'}, 'buffers': []}\n",
      "{'header': {'msg_id': '8d8ad082-690ef26cf0ca27bd23ed865a_10049_12', 'msg_type': 'execute_input', 'username': 'username', 'session': '8d8ad082-690ef26cf0ca27bd23ed865a', 'date': '2023-07-15T16:22:49.666030+00:00', 'version': '5.3'}, 'msg_id': '8d8ad082-690ef26cf0ca27bd23ed865a_10049_12', 'msg_type': 'execute_input', 'parent_header': {'msg_id': 'c87d2b1e-65cc015d86b1c3ac883b76ec_1005_2', 'msg_type': 'execute_request', 'username': 'username', 'session': 'c87d2b1e-65cc015d86b1c3ac883b76ec', 'date': '2023-07-15T16:22:49.663481+00:00', 'version': '5.3'}, 'metadata': {}, 'content': {'code': 'import numpy as np\\nimport pandas as pd\\nfrom op_pandas import PrivateDataFrame\\n\\n# create the priate dataframe. This is usually done for you.\\ndf = pd.DataFrame(np.random.randint(10, size=(1000, 2)), columns=[\"Example\", \"Example2\"])\\npdf = PrivateDataFrame(df, metadata={\"Example\": (0, 10), \"Example2\": (0, 10)}, _id=1234567890)\\n', 'execution_count': 3}, 'buffers': []}\n",
      "{'header': {'msg_id': '8d8ad082-690ef26cf0ca27bd23ed865a_10049_13', 'msg_type': 'error', 'username': 'username', 'session': '8d8ad082-690ef26cf0ca27bd23ed865a', 'date': '2023-07-15T16:23:39.162753+00:00', 'version': '5.3'}, 'msg_id': '8d8ad082-690ef26cf0ca27bd23ed865a_10049_13', 'msg_type': 'error', 'parent_header': {'msg_id': 'c87d2b1e-65cc015d86b1c3ac883b76ec_1005_2', 'msg_type': 'execute_request', 'username': 'username', 'session': 'c87d2b1e-65cc015d86b1c3ac883b76ec', 'date': '2023-07-15T16:22:49.663481+00:00', 'version': '5.3'}, 'metadata': {}, 'content': {'traceback': ['\\x1b[0;31m---------------------------------------------------------------------------\\x1b[0m', '\\x1b[0;31mTypeError\\x1b[0m                                 Traceback (most recent call last)', 'Cell \\x1b[0;32mIn[3], line 1\\x1b[0m\\n\\x1b[0;32m----> 1\\x1b[0m \\x1b[38;5;28;01mimport\\x1b[39;00m \\x1b[38;5;21;01mnumpy\\x1b[39;00m \\x1b[38;5;28;01mas\\x1b[39;00m \\x1b[38;5;21;01mnp\\x1b[39;00m\\n\\x1b[1;32m      2\\x1b[0m \\x1b[38;5;28;01mimport\\x1b[39;00m \\x1b[38;5;21;01mpandas\\x1b[39;00m \\x1b[38;5;28;01mas\\x1b[39;00m \\x1b[38;5;21;01mpd\\x1b[39;00m\\n\\x1b[1;32m      3\\x1b[0m \\x1b[38;5;28;01mfrom\\x1b[39;00m \\x1b[38;5;21;01mop_pandas\\x1b[39;00m \\x1b[38;5;28;01mimport\\x1b[39;00m PrivateDataFrame\\n', \"\\x1b[0;31mTypeError\\x1b[0m: PrivateDataFrame.__init__() got an unexpected keyword argument '_id'\"], 'ename': 'TypeError', 'evalue': \"PrivateDataFrame.__init__() got an unexpected keyword argument '_id'\"}, 'buffers': []}\n",
      "\u001b[0;31m---------------------------------------------------------------------------\u001b[0m\u001b[0;31mTypeError\u001b[0m                                 Traceback (most recent call last)Cell \u001b[0;32mIn[3], line 1\u001b[0m\n",
      "\u001b[0;32m----> 1\u001b[0m \u001b[38;5;28;01mimport\u001b[39;00m \u001b[38;5;21;01mnumpy\u001b[39;00m \u001b[38;5;28;01mas\u001b[39;00m \u001b[38;5;21;01mnp\u001b[39;00m\n",
      "\u001b[1;32m      2\u001b[0m \u001b[38;5;28;01mimport\u001b[39;00m \u001b[38;5;21;01mpandas\u001b[39;00m \u001b[38;5;28;01mas\u001b[39;00m \u001b[38;5;21;01mpd\u001b[39;00m\n",
      "\u001b[1;32m      3\u001b[0m \u001b[38;5;28;01mfrom\u001b[39;00m \u001b[38;5;21;01mop_pandas\u001b[39;00m \u001b[38;5;28;01mimport\u001b[39;00m PrivateDataFrame\n",
      "\u001b[0;31mTypeError\u001b[0m: PrivateDataFrame.__init__() got an unexpected keyword argument '_id'\n"
     ]
    }
   ],
   "source": [
    "%%ag\n",
    "import numpy as np\n",
    "import pandas as pd\n",
    "from op_pandas import PrivateDataFrame\n",
    "\n",
    "# create the priate dataframe. This is usually done for you.\n",
    "df = pd.DataFrame(np.random.randint(10, size=(1000, 2)), columns=[\"Example\", \"Example2\"])\n",
    "pdf = PrivateDataFrame(df, metadata={\"Example\": (0, 10), \"Example2\": (0, 10)}, _id=1234567890)\n"
   ]
  },
  {
   "cell_type": "code",
   "execution_count": 7,
   "metadata": {},
   "outputs": [
    {
     "name": "stdout",
     "output_type": "stream",
     "text": [
      "{'header': {'msg_id': '8d8ad082-690ef26cf0ca27bd23ed865a_10049_16', 'msg_type': 'status', 'username': 'username', 'session': '8d8ad082-690ef26cf0ca27bd23ed865a', 'date': '2023-07-15T16:24:37.077930+00:00', 'version': '5.3'}, 'msg_id': '8d8ad082-690ef26cf0ca27bd23ed865a_10049_16', 'msg_type': 'status', 'parent_header': {'msg_id': 'c87d2b1e-65cc015d86b1c3ac883b76ec_1005_3', 'msg_type': 'execute_request', 'username': 'username', 'session': 'c87d2b1e-65cc015d86b1c3ac883b76ec', 'date': '2023-07-15T16:24:37.076266+00:00', 'version': '5.3'}, 'metadata': {}, 'content': {'execution_state': 'busy'}, 'buffers': []}\n",
      "{'header': {'msg_id': '8d8ad082-690ef26cf0ca27bd23ed865a_10049_17', 'msg_type': 'execute_input', 'username': 'username', 'session': '8d8ad082-690ef26cf0ca27bd23ed865a', 'date': '2023-07-15T16:24:37.078371+00:00', 'version': '5.3'}, 'msg_id': '8d8ad082-690ef26cf0ca27bd23ed865a_10049_17', 'msg_type': 'execute_input', 'parent_header': {'msg_id': 'c87d2b1e-65cc015d86b1c3ac883b76ec_1005_3', 'msg_type': 'execute_request', 'username': 'username', 'session': 'c87d2b1e-65cc015d86b1c3ac883b76ec', 'date': '2023-07-15T16:24:37.076266+00:00', 'version': '5.3'}, 'metadata': {}, 'content': {'code': '\\nfrom ag_utils import load_dataset\\n\\ndata = load_dataset(\"Iris Dataset\")\\n\\nexport(type(data), \"data\")\\nexport(type(data[\\'train_x\\']), \"datax\")\\n', 'execution_count': 4}, 'buffers': []}\n",
      "{'header': {'msg_id': '8d8ad082-690ef26cf0ca27bd23ed865a_10049_19', 'msg_type': 'ag_export_value', 'username': 'username', 'session': '8d8ad082-690ef26cf0ca27bd23ed865a', 'date': '2023-07-15T16:25:01.255896+00:00', 'version': '5.3'}, 'msg_id': '8d8ad082-690ef26cf0ca27bd23ed865a_10049_19', 'msg_type': 'ag_export_value', 'parent_header': {'msg_id': 'c87d2b1e-65cc015d86b1c3ac883b76ec_1005_3', 'msg_type': 'execute_request', 'username': 'username', 'session': 'c87d2b1e-65cc015d86b1c3ac883b76ec', 'date': '2023-07-15T16:24:37.076266+00:00', 'version': '5.3'}, 'metadata': {}, 'content': {'data': 'gASVFQAAAAAAAACMCGJ1aWx0aW5zlIwEZGljdJSTlC4='}, 'buffers': []}\n",
      "Setting up exported variable in local environment: data\n",
      "{'header': {'msg_id': '8d8ad082-690ef26cf0ca27bd23ed865a_10049_20', 'msg_type': 'ag_export_value', 'username': 'username', 'session': '8d8ad082-690ef26cf0ca27bd23ed865a', 'date': '2023-07-15T16:25:12.150442+00:00', 'version': '5.3'}, 'msg_id': '8d8ad082-690ef26cf0ca27bd23ed865a_10049_20', 'msg_type': 'ag_export_value', 'parent_header': {'msg_id': 'c87d2b1e-65cc015d86b1c3ac883b76ec_1005_3', 'msg_type': 'execute_request', 'username': 'username', 'session': 'c87d2b1e-65cc015d86b1c3ac883b76ec', 'date': '2023-07-15T16:24:37.076266+00:00', 'version': '5.3'}, 'metadata': {}, 'content': {'datax': 'gASVNAAAAAAAAACMG29wX3BhbmRhcy5wcml2YXRlX2RhdGFmcmFtZZSMEFByaXZhdGVEYXRhRnJhbWWUk5Qu'}, 'buffers': []}\n"
     ]
    },
    {
     "ename": "ValueError",
     "evalue": "Error while parsing export values message: No module named 'op_pandas'",
     "output_type": "error",
     "traceback": [
      "\u001b[1;31m---------------------------------------------------------------------------\u001b[0m",
      "\u001b[1;31mModuleNotFoundError\u001b[0m                       Traceback (most recent call last)",
      "File \u001b[1;32m~\\AntigranularClient\\antigranular\\magics\\magics.py:160\u001b[0m, in \u001b[0;36mAGMagic.get_output\u001b[1;34m(self)\u001b[0m\n\u001b[0;32m    159\u001b[0m \u001b[39mfor\u001b[39;00m name, value \u001b[39min\u001b[39;00m data\u001b[39m.\u001b[39mitems():\n\u001b[1;32m--> 160\u001b[0m     user_ns[name] \u001b[39m=\u001b[39m pickle\u001b[39m.\u001b[39;49mloads(base64\u001b[39m.\u001b[39;49mb64decode(value))\n\u001b[0;32m    161\u001b[0m     \u001b[39mprint\u001b[39m(\n\u001b[0;32m    162\u001b[0m         \u001b[39m\"\u001b[39m\u001b[39mSetting up exported variable in local environment:\u001b[39m\u001b[39m\"\u001b[39m,\n\u001b[0;32m    163\u001b[0m         name,\n\u001b[0;32m    164\u001b[0m     )\n",
      "\u001b[1;31mModuleNotFoundError\u001b[0m: No module named 'op_pandas'",
      "\nDuring handling of the above exception, another exception occurred:\n",
      "\u001b[1;31mValueError\u001b[0m                                Traceback (most recent call last)",
      "Cell \u001b[1;32mIn[7], line 1\u001b[0m\n\u001b[1;32m----> 1\u001b[0m get_ipython()\u001b[39m.\u001b[39;49mrun_cell_magic(\u001b[39m'\u001b[39;49m\u001b[39mag\u001b[39;49m\u001b[39m'\u001b[39;49m, \u001b[39m'\u001b[39;49m\u001b[39m'\u001b[39;49m, \u001b[39m'\u001b[39;49m\u001b[39m\\n\u001b[39;49;00m\u001b[39mfrom ag_utils import load_dataset\u001b[39;49m\u001b[39m\\n\u001b[39;49;00m\u001b[39m\\n\u001b[39;49;00m\u001b[39mdata = load_dataset(\u001b[39;49m\u001b[39m\"\u001b[39;49m\u001b[39mIris Dataset\u001b[39;49m\u001b[39m\"\u001b[39;49m\u001b[39m)\u001b[39;49m\u001b[39m\\n\u001b[39;49;00m\u001b[39m\\n\u001b[39;49;00m\u001b[39mexport(type(data), \u001b[39;49m\u001b[39m\"\u001b[39;49m\u001b[39mdata\u001b[39;49m\u001b[39m\"\u001b[39;49m\u001b[39m)\u001b[39;49m\u001b[39m\\n\u001b[39;49;00m\u001b[39mexport(type(data[\u001b[39;49m\u001b[39m\\'\u001b[39;49;00m\u001b[39mtrain_x\u001b[39;49m\u001b[39m\\'\u001b[39;49;00m\u001b[39m]), \u001b[39;49m\u001b[39m\"\u001b[39;49m\u001b[39mdatax\u001b[39;49m\u001b[39m\"\u001b[39;49m\u001b[39m)\u001b[39;49m\u001b[39m\\n\u001b[39;49;00m\u001b[39m'\u001b[39;49m)\n",
      "File \u001b[1;32mc:\\Users\\bhasw\\AntigranularClient\\venv\\lib\\site-packages\\IPython\\core\\interactiveshell.py:2478\u001b[0m, in \u001b[0;36mInteractiveShell.run_cell_magic\u001b[1;34m(self, magic_name, line, cell)\u001b[0m\n\u001b[0;32m   2476\u001b[0m \u001b[39mwith\u001b[39;00m \u001b[39mself\u001b[39m\u001b[39m.\u001b[39mbuiltin_trap:\n\u001b[0;32m   2477\u001b[0m     args \u001b[39m=\u001b[39m (magic_arg_s, cell)\n\u001b[1;32m-> 2478\u001b[0m     result \u001b[39m=\u001b[39m fn(\u001b[39m*\u001b[39margs, \u001b[39m*\u001b[39m\u001b[39m*\u001b[39mkwargs)\n\u001b[0;32m   2480\u001b[0m \u001b[39m# The code below prevents the output from being displayed\u001b[39;00m\n\u001b[0;32m   2481\u001b[0m \u001b[39m# when using magics with decodator @output_can_be_silenced\u001b[39;00m\n\u001b[0;32m   2482\u001b[0m \u001b[39m# when the last Python token in the expression is a ';'.\u001b[39;00m\n\u001b[0;32m   2483\u001b[0m \u001b[39mif\u001b[39;00m \u001b[39mgetattr\u001b[39m(fn, magic\u001b[39m.\u001b[39mMAGIC_OUTPUT_CAN_BE_SILENCED, \u001b[39mFalse\u001b[39;00m):\n",
      "File \u001b[1;32m~\\AntigranularClient\\antigranular\\magics\\magics.py:56\u001b[0m, in \u001b[0;36mAGMagic.ag\u001b[1;34m(self, line, cell)\u001b[0m\n\u001b[0;32m     54\u001b[0m \u001b[39melse\u001b[39;00m:\n\u001b[0;32m     55\u001b[0m     \u001b[39mtry\u001b[39;00m:\n\u001b[1;32m---> 56\u001b[0m         \u001b[39mself\u001b[39;49m\u001b[39m.\u001b[39;49mexecute(cell)\n\u001b[0;32m     57\u001b[0m     \u001b[39m# except any exception\u001b[39;00m\n\u001b[0;32m     58\u001b[0m     \u001b[39mexcept\u001b[39;00m \u001b[39mKeyboardInterrupt\u001b[39;00m:\n",
      "File \u001b[1;32m~\\AntigranularClient\\antigranular\\magics\\magics.py:89\u001b[0m, in \u001b[0;36mAGMagic.execute\u001b[1;34m(self, code)\u001b[0m\n\u001b[0;32m     85\u001b[0m \u001b[39mif\u001b[39;00m res\u001b[39m.\u001b[39mstatus_code \u001b[39m!=\u001b[39m \u001b[39m200\u001b[39m:\n\u001b[0;32m     86\u001b[0m     \u001b[39mraise\u001b[39;00m HTTPError(\n\u001b[0;32m     87\u001b[0m         \u001b[39mf\u001b[39m\u001b[39m\"\u001b[39m\u001b[39mError while requesting AG server to execute the code, HTTP status code: \u001b[39m\u001b[39m{\u001b[39;00mres\u001b[39m.\u001b[39mstatus_code\u001b[39m}\u001b[39;00m\u001b[39m, message: \u001b[39m\u001b[39m{\u001b[39;00mres\u001b[39m.\u001b[39mtext\u001b[39m}\u001b[39;00m\u001b[39m\"\u001b[39m\n\u001b[0;32m     88\u001b[0m     )\n\u001b[1;32m---> 89\u001b[0m \u001b[39mself\u001b[39;49m\u001b[39m.\u001b[39;49mget_output()\n",
      "File \u001b[1;32m~\\AntigranularClient\\antigranular\\magics\\magics.py:167\u001b[0m, in \u001b[0;36mAGMagic.get_output\u001b[1;34m(self)\u001b[0m\n\u001b[0;32m    161\u001b[0m                 \u001b[39mprint\u001b[39m(\n\u001b[0;32m    162\u001b[0m                     \u001b[39m\"\u001b[39m\u001b[39mSetting up exported variable in local environment:\u001b[39m\u001b[39m\"\u001b[39m,\n\u001b[0;32m    163\u001b[0m                     name,\n\u001b[0;32m    164\u001b[0m                 )\n\u001b[0;32m    166\u001b[0m         \u001b[39mexcept\u001b[39;00m \u001b[39mException\u001b[39;00m \u001b[39mas\u001b[39;00m err:\n\u001b[1;32m--> 167\u001b[0m             \u001b[39mraise\u001b[39;00m \u001b[39mValueError\u001b[39;00m(\n\u001b[0;32m    168\u001b[0m                 \u001b[39mf\u001b[39m\u001b[39m\"\u001b[39m\u001b[39mError while parsing export values message: \u001b[39m\u001b[39m{\u001b[39;00m\u001b[39mstr\u001b[39m(err)\u001b[39m}\u001b[39;00m\u001b[39m\"\u001b[39m\n\u001b[0;32m    169\u001b[0m             )\n\u001b[0;32m    170\u001b[0m time\u001b[39m.\u001b[39msleep(\u001b[39m1\u001b[39m)\n\u001b[0;32m    171\u001b[0m count \u001b[39m+\u001b[39m\u001b[39m=\u001b[39m \u001b[39m1\u001b[39m\n",
      "\u001b[1;31mValueError\u001b[0m: Error while parsing export values message: No module named 'op_pandas'"
     ]
    }
   ],
   "source": [
    "%%ag\n",
    "\n",
    "from ag_utils import load_dataset\n",
    "\n",
    "data = load_dataset(\"Iris Dataset\")\n",
    "\n",
    "export(type(data), \"data\")\n",
    "export(type(data['train_x']), \"datax\")"
   ]
  },
  {
   "cell_type": "code",
   "execution_count": 8,
   "metadata": {},
   "outputs": [
    {
     "name": "stdout",
     "output_type": "stream",
     "text": [
      "<class 'dict'>\n"
     ]
    }
   ],
   "source": []
  },
  {
   "attachments": {},
   "cell_type": "markdown",
   "metadata": {},
   "source": [
    "Now we can ask statistical questions from the private dataframe by spending some of our privacy budget:"
   ]
  },
  {
   "cell_type": "code",
   "execution_count": null,
   "metadata": {},
   "outputs": [],
   "source": [
    "%%ag\n",
    "export(pdf.sum(1), \"sum_\")\n",
    "export(pdf.mean(1), \"mean_\")\n",
    "export(pdf.std(1), \"std_\")\n",
    "export(pdf.count(1), \"count_\")\n",
    "export(pdf.var(1), \"var_\")\n",
    "export(pdf.median(1), \"median_\")\n",
    "export(pdf.quantile(0.25), \"quantile_\")"
   ]
  },
  {
   "attachments": {},
   "cell_type": "markdown",
   "metadata": {},
   "source": [
    "Once exported we can plot them, print them, whatever you want:"
   ]
  },
  {
   "cell_type": "code",
   "execution_count": null,
   "metadata": {},
   "outputs": [],
   "source": [
    "print(\"The sum was:\", sum_)\n",
    "print(\"The mean was:\", mean_)\n",
    "print(\"The std was:\", std_)\n",
    "print(\"The count was:\", count_)\n",
    "print(\"The var was:\", var_)\n",
    "print(\"The median was:\", median_)\n",
    "print(\"The quantile was:\", quantile_)"
   ]
  },
  {
   "attachments": {},
   "cell_type": "markdown",
   "metadata": {},
   "source": [
    "### SciKit Learn with DiffPrivLib \n",
    "\n",
    "One of the beauties of of the python ecosystem is the rich landscape of frameworks for data science. Fortunately, there are drop in replacements for a number of these which preserve differential privacy. One convenient one is DiffPrivLib written by Naoise Holohan at IBM Research. \n",
    "\n",
    "Let's go ahead and train a random forest with differential privacy, for example, on our dataset and download the resulting model to our local machine."
   ]
  },
  {
   "cell_type": "code",
   "execution_count": null,
   "metadata": {},
   "outputs": [],
   "source": [
    "%%ag\n",
    "from op_pandas import PrivateDataFrame , PrivateSeries"
   ]
  },
  {
   "cell_type": "code",
   "execution_count": 10,
   "metadata": {},
   "outputs": [
    {
     "ename": "AttributeError",
     "evalue": "module 'oblv_client' has no attribute '__version__'",
     "output_type": "error",
     "traceback": [
      "\u001b[1;31m---------------------------------------------------------------------------\u001b[0m",
      "\u001b[1;31mAttributeError\u001b[0m                            Traceback (most recent call last)",
      "Cell \u001b[1;32mIn[10], line 1\u001b[0m\n\u001b[1;32m----> 1\u001b[0m \u001b[39mimport\u001b[39;00m \u001b[39moblv_client\u001b[39;00m; \u001b[39mprint\u001b[39m(oblv_client\u001b[39m.\u001b[39;49m__version__)\n",
      "\u001b[1;31mAttributeError\u001b[0m: module 'oblv_client' has no attribute '__version__'"
     ]
    }
   ],
   "source": [
    "import oblv_client; print(oblv_client.__version__)"
   ]
  },
  {
   "cell_type": "code",
   "execution_count": null,
   "metadata": {},
   "outputs": [],
   "source": []
  },
  {
   "cell_type": "code",
   "execution_count": null,
   "metadata": {},
   "outputs": [],
   "source": [
    "%%ag\n",
    "import pandas as pd\n",
    "s = pd.Series([1,5,8,2,9])\n",
    "priv_s = PrivateSeries(series=s,metadata=(0,10))"
   ]
  },
  {
   "cell_type": "code",
   "execution_count": null,
   "metadata": {},
   "outputs": [],
   "source": [
    "%%ag\n",
    "import pandas as pd\n",
    "data = {\n",
    "    'Age':[20,30,40,25],\n",
    "    'Salary':[35000,60000,100000,55000],\n",
    "    'Sex':['M','F','M','F']\n",
    "}\n",
    "metadata = {\n",
    "    'Age':(18,65),\n",
    "    'Salary':(20000,200000)\n",
    "}\n",
    "df = pd.DataFrame(data)\n",
    "priv_df = PrivateDataFrame(df=df , metadata=metadata)"
   ]
  },
  {
   "cell_type": "code",
   "execution_count": null,
   "metadata": {},
   "outputs": [],
   "source": [
    "%%ag\n",
    "from op_pandas import PrivateDataFrame , PrivateSeries\n",
    "import numpy as np\n",
    "import pandas as pd\n",
    "random_data = {\n",
    "    'Age': np.random.randint(18, 60, size=100000),\n",
    "    'Salary': np.random.randint(40000, 200000, size=100000),\n",
    "    'DOB': pd.date_range('1970-01-01', periods=100000, freq='D').strftime('%Y-%m-%d')\n",
    "}\n",
    "df = pd.DataFrame(random_data)\n",
    "priv_df = PrivateDataFrame(df,metadata={'Age':(18,60) , 'Salary':(40000,200000)})"
   ]
  },
  {
   "cell_type": "code",
   "execution_count": null,
   "metadata": {},
   "outputs": [],
   "source": [
    "%%ag\n",
    "from ag_utils import export\n",
    "priv_describe = priv_df.describe(eps=1)\n",
    "# Export information from remote ag kernel to local jupyter server.\n",
    "export(priv_describe , 'df_info')"
   ]
  },
  {
   "cell_type": "code",
   "execution_count": null,
   "metadata": {},
   "outputs": [],
   "source": [
    "%%ag\n",
    "from ag_utils import export\n",
    "priv_s = priv_df[\"Age\"]\n",
    "export(priv_s.describe(eps=1) , \"Age_series\")"
   ]
  },
  {
   "cell_type": "code",
   "execution_count": null,
   "metadata": {},
   "outputs": [],
   "source": [
    "print(Age_series)\n"
   ]
  },
  {
   "cell_type": "code",
   "execution_count": null,
   "metadata": {},
   "outputs": [],
   "source": [
    "%%ag\n",
    "\n",
    "from ag_utils import export\n",
    "# maps string to its length if not numerical else divides it by 2.\n",
    "def func(x: str | int | float) -> float:\n",
    "    if isinstance(x, str):\n",
    "        return len(x)\n",
    "    elif isinstance(x, (int, float)):\n",
    "        return x / 2\n",
    "    return 0.0\n",
    "\n",
    "\n",
    "result = priv_df.applymap(func,eps=1)\n",
    "export(result.describe(eps=1),'private_result')\n",
    "result = df.applymap(func)\n",
    "export(result.describe(),'original_result')"
   ]
  },
  {
   "cell_type": "code",
   "execution_count": null,
   "metadata": {},
   "outputs": [],
   "source": [
    "print(private_result)\n"
   ]
  },
  {
   "cell_type": "code",
   "execution_count": null,
   "metadata": {},
   "outputs": [],
   "source": [
    "%%ag\n",
    "from ag_utils import export\n",
    "age_series = priv_df['Age']\n",
    "def series_map(x:float)->float:\n",
    "    return x/2\n",
    "\n",
    "result = age_series.map(series_map,eps=1,na_action='ignore')\n",
    "export( result.describe(eps=1), 'private_result')\n",
    "export( df['Age'].map(series_map,na_action='ignore') , 'original_result')"
   ]
  },
  {
   "cell_type": "code",
   "execution_count": null,
   "metadata": {},
   "outputs": [],
   "source": [
    "%%ag\n",
    "from ag_utils import export\n",
    "export(priv_df[['Age','Salary']].describe(eps=1) , 'original')\n",
    "export((-priv_df[['Age','Salary']]).describe(eps=1) , 'negative')"
   ]
  },
  {
   "cell_type": "code",
   "execution_count": null,
   "metadata": {},
   "outputs": [],
   "source": [
    "negative.columns = [\"Age_neg\",\"Salary_neg\"]\n",
    "print(original.join(negative , how=\"left\"))"
   ]
  },
  {
   "cell_type": "code",
   "execution_count": null,
   "metadata": {},
   "outputs": [],
   "source": [
    "%%ag\n",
    "from ag_utils import export\n",
    "pdf = priv_df[['Age','Salary']]\n",
    "result1 = pdf + (10*pdf)  # expected min-max => Age:(198,660) ,  Salary:(44000,220000)\n",
    "result2 = result1/1000 # expected min-max => Age:(0.198,0.66) ,  Salary:(44,220)\n",
    "export(result1.describe(eps=1) , 'result1')\n",
    "export(result2.describe(eps=1) , 'result2')"
   ]
  },
  {
   "cell_type": "code",
   "execution_count": null,
   "metadata": {},
   "outputs": [],
   "source": [
    "result2.columns = [\"Age2\",\"Salary2\"]\n",
    "result1.columns = [\"Age1\",\"Salary1\"]\n",
    "print(result1.join(result2 , how=\"left\"))"
   ]
  },
  {
   "cell_type": "code",
   "execution_count": null,
   "metadata": {},
   "outputs": [],
   "source": [
    "%%ag\n",
    "import pandas as pd\n",
    "import numpy as np\n",
    "from ag_utils import export\n",
    "# series1 and series2 should have mean roughly equal to 0.5\n",
    "series1 = PrivateSeries(pd.Series(np.random.randint(0,2,size=100000)),metadata=(0,1))\n",
    "series2 = PrivateSeries(pd.Series(np.random.randint(0,2,size=100000)),metadata=(0,1))\n",
    "or_result = series1 | series2 # should have mean around 0.75\n",
    "export(or_result.describe(eps=0.1),'or_result')"
   ]
  },
  {
   "cell_type": "code",
   "execution_count": null,
   "metadata": {},
   "outputs": [],
   "source": [
    "%%ag\n",
    "import pandas as pd\n",
    "import numpy as np\n",
    "from ag_utils import export\n",
    "# dataframes & series\n",
    "df = pd.DataFrame(np.random.randint(0, 100, size=(1000, 4)), columns=['A','B','C','D'],\n",
    "                      index=np.random.randint(-10, 10, size=1000))\n",
    "df2 = pd.DataFrame(np.random.randint(-100, 100, size=(1000, 2)), columns=['E','F'],\n",
    "                   index=np.random.randint(-10, 10, size=1000))\n",
    "s = pd.Series(np.random.randint(0, 100, size=1000), name='SER')\n",
    "\n",
    "# corresponding Private dataframes & private series\n",
    "pdf = PrivateDataFrame(df, metadata={'A': (0, 100), 'B': (0, 100), 'C': (0, 100), 'D': (0, 100)})\n",
    "pdf2 = PrivateDataFrame(df2, metadata={'E': (-100, 100), 'F': (-100, 100)})\n",
    "ps = PrivateSeries(s)"
   ]
  },
  {
   "cell_type": "code",
   "execution_count": null,
   "metadata": {},
   "outputs": [],
   "source": [
    "%%ag #join with dataframe\n",
    "result = pdf.join(pdf2,how=\"outer\")\n",
    "export(result.describe(eps=1),'private_result')\n",
    "result = df.join(df2,how=\"outer\")\n",
    "export(result.describe(),'original_result')\n"
   ]
  },
  {
   "cell_type": "code",
   "execution_count": null,
   "metadata": {},
   "outputs": [],
   "source": [
    "%%ag # join with series\n",
    "result = pdf.join(ps,how=\"inner\")\n",
    "export(result.describe(eps=1),'private_result')\n",
    "result = df.join(s,how=\"inner\")\n",
    "export(result.describe(),'original_result')"
   ]
  },
  {
   "cell_type": "code",
   "execution_count": 11,
   "metadata": {},
   "outputs": [
    {
     "ename": "HTTPError",
     "evalue": "Error while requesting AG server to execute the code, HTTP status code: 400, message: {\"detail\":\"Session not found. Please try logging in again.\"}",
     "output_type": "error",
     "traceback": [
      "\u001b[1;31m---------------------------------------------------------------------------\u001b[0m",
      "\u001b[1;31mHTTPError\u001b[0m                                 Traceback (most recent call last)",
      "Cell \u001b[1;32mIn[11], line 1\u001b[0m\n\u001b[1;32m----> 1\u001b[0m get_ipython()\u001b[39m.\u001b[39;49mrun_cell_magic(\u001b[39m'\u001b[39;49m\u001b[39mag\u001b[39;49m\u001b[39m'\u001b[39;49m, \u001b[39m'\u001b[39;49m\u001b[39m'\u001b[39;49m, \u001b[39m'\u001b[39;49m\u001b[39mfrom op_diffprivlib.models import LinearRegression\u001b[39;49m\u001b[39m\\n\u001b[39;49;00m\u001b[39mfrom typing import Any\u001b[39;49m\u001b[39m\\n\u001b[39;49;00m\u001b[39mdef fun()->Any:\u001b[39;49m\u001b[39m\\n\u001b[39;49;00m\u001b[39m    return LinearRegression()\u001b[39;49m\u001b[39m\\n\u001b[39;49;00m\u001b[39m'\u001b[39;49m)\n",
      "File \u001b[1;32mc:\\Users\\bhasw\\AntigranularClient\\venv\\lib\\site-packages\\IPython\\core\\interactiveshell.py:2478\u001b[0m, in \u001b[0;36mInteractiveShell.run_cell_magic\u001b[1;34m(self, magic_name, line, cell)\u001b[0m\n\u001b[0;32m   2476\u001b[0m \u001b[39mwith\u001b[39;00m \u001b[39mself\u001b[39m\u001b[39m.\u001b[39mbuiltin_trap:\n\u001b[0;32m   2477\u001b[0m     args \u001b[39m=\u001b[39m (magic_arg_s, cell)\n\u001b[1;32m-> 2478\u001b[0m     result \u001b[39m=\u001b[39m fn(\u001b[39m*\u001b[39margs, \u001b[39m*\u001b[39m\u001b[39m*\u001b[39mkwargs)\n\u001b[0;32m   2480\u001b[0m \u001b[39m# The code below prevents the output from being displayed\u001b[39;00m\n\u001b[0;32m   2481\u001b[0m \u001b[39m# when using magics with decodator @output_can_be_silenced\u001b[39;00m\n\u001b[0;32m   2482\u001b[0m \u001b[39m# when the last Python token in the expression is a ';'.\u001b[39;00m\n\u001b[0;32m   2483\u001b[0m \u001b[39mif\u001b[39;00m \u001b[39mgetattr\u001b[39m(fn, magic\u001b[39m.\u001b[39mMAGIC_OUTPUT_CAN_BE_SILENCED, \u001b[39mFalse\u001b[39;00m):\n",
      "File \u001b[1;32m~\\AntigranularClient\\antigranular\\magics\\magics.py:56\u001b[0m, in \u001b[0;36mAGMagic.ag\u001b[1;34m(self, line, cell)\u001b[0m\n\u001b[0;32m     54\u001b[0m \u001b[39melse\u001b[39;00m:\n\u001b[0;32m     55\u001b[0m     \u001b[39mtry\u001b[39;00m:\n\u001b[1;32m---> 56\u001b[0m         \u001b[39mself\u001b[39;49m\u001b[39m.\u001b[39;49mexecute(cell)\n\u001b[0;32m     57\u001b[0m     \u001b[39m# except any exception\u001b[39;00m\n\u001b[0;32m     58\u001b[0m     \u001b[39mexcept\u001b[39;00m \u001b[39mKeyboardInterrupt\u001b[39;00m:\n",
      "File \u001b[1;32m~\\AntigranularClient\\antigranular\\magics\\magics.py:86\u001b[0m, in \u001b[0;36mAGMagic.execute\u001b[1;34m(self, code)\u001b[0m\n\u001b[0;32m     84\u001b[0m \u001b[39melse\u001b[39;00m:\n\u001b[0;32m     85\u001b[0m     \u001b[39mif\u001b[39;00m res\u001b[39m.\u001b[39mstatus_code \u001b[39m!=\u001b[39m \u001b[39m200\u001b[39m:\n\u001b[1;32m---> 86\u001b[0m         \u001b[39mraise\u001b[39;00m HTTPError(\n\u001b[0;32m     87\u001b[0m             \u001b[39mf\u001b[39m\u001b[39m\"\u001b[39m\u001b[39mError while requesting AG server to execute the code, HTTP status code: \u001b[39m\u001b[39m{\u001b[39;00mres\u001b[39m.\u001b[39mstatus_code\u001b[39m}\u001b[39;00m\u001b[39m, message: \u001b[39m\u001b[39m{\u001b[39;00mres\u001b[39m.\u001b[39mtext\u001b[39m}\u001b[39;00m\u001b[39m\"\u001b[39m\n\u001b[0;32m     88\u001b[0m         )\n\u001b[0;32m     89\u001b[0m     \u001b[39mself\u001b[39m\u001b[39m.\u001b[39mget_output()\n",
      "\u001b[1;31mHTTPError\u001b[0m: Error while requesting AG server to execute the code, HTTP status code: 400, message: {\"detail\":\"Session not found. Please try logging in again.\"}"
     ]
    }
   ],
   "source": []
  },
  {
   "cell_type": "code",
   "execution_count": null,
   "metadata": {},
   "outputs": [],
   "source": [
    "%%ag\n",
    "result = pdf.where(pdf > 0)\n",
    "export(result.describe(eps=1),'private_result')\n",
    "result = df.where(df > 0)\n",
    "export(result.describe(),'original_result')"
   ]
  },
  {
   "cell_type": "code",
   "execution_count": null,
   "metadata": {},
   "outputs": [],
   "source": [
    "%%ag\n",
    "from op_pandas import PrivateDataFrame , PrivateSeries\n",
    "import numpy as np\n",
    "import pandas as pd\n",
    "random_data = {\n",
    "    'Age': np.random.randint(18, 60, size=100000),\n",
    "    'Salary': np.random.randint(40000, 200000, size=100000),\n",
    "    'DOB': pd.date_range('1970-01-01', periods=100000, freq='D').strftime('%Y-%m-%d')\n",
    "}\n",
    "df = pd.DataFrame(random_data)\n",
    "priv_df = PrivateDataFrame(df,metadata={'Age':(18,60) , 'Salary':(40000,200000)})"
   ]
  },
  {
   "cell_type": "code",
   "execution_count": null,
   "metadata": {},
   "outputs": [],
   "source": [
    "%%ag\n",
    "from ag_utils import export\n",
    "age_series = priv_df[\"Age\"]\n",
    "export(age_series.var(eps=0.1) , 'var')\n",
    "export(age_series.count(eps=0.1) , 'count')"
   ]
  },
  {
   "cell_type": "code",
   "execution_count": null,
   "metadata": {},
   "outputs": [],
   "source": [
    "%%ag\n",
    "from ag_utils import export\n",
    "age_series = priv_df[\"Age\"]\n",
    "export(age_series.percentile(eps=0.1 ,p = 0) , 'min')\n",
    "export(age_series.percentile(eps=0.1 , p =100) , 'max')"
   ]
  },
  {
   "cell_type": "code",
   "execution_count": null,
   "metadata": {},
   "outputs": [],
   "source": [
    "%%ag\n",
    "from ag_utils import export\n",
    "result = priv_df.corr(eps=2)\n",
    "export(result,'private_result')\n",
    "result = df.corr(numeric_only=True)\n",
    "export(result,'original_result')"
   ]
  },
  {
   "cell_type": "code",
   "execution_count": null,
   "metadata": {},
   "outputs": [],
   "source": [
    "%%ag\n",
    "from ag_utils import export\n",
    "age = priv_df[\"Age\"]\n",
    "salary = priv_df[\"Salary\"]\n",
    "export(age.cov(salary , eps=1),'private_result')\n",
    "export(df['Age'].cov(df['Salary']),'original_result')"
   ]
  },
  {
   "cell_type": "code",
   "execution_count": null,
   "metadata": {},
   "outputs": [],
   "source": [
    "%%ag\n",
    "from ag_utils import export\n",
    "hist_data = priv_df.hist(column='Salary',eps=0.1)\n",
    "export(hist_data , 'hist_data')"
   ]
  },
  {
   "cell_type": "code",
   "execution_count": null,
   "metadata": {},
   "outputs": [],
   "source": [
    "!pip install matplotlib"
   ]
  },
  {
   "cell_type": "code",
   "execution_count": null,
   "metadata": {},
   "outputs": [],
   "source": [
    "import matplotlib.pyplot as plt\n",
    "dp_hist , dp_bins = hist_data\n",
    "plt.bar(dp_bins[:-1], dp_hist, width=(dp_bins[1] - dp_bins[0]) * 0.5)\n",
    "plt.show()"
   ]
  },
  {
   "cell_type": "code",
   "execution_count": null,
   "metadata": {},
   "outputs": [],
   "source": [
    "%%ag\n",
    "from op_pandas import PrivateDataFrame , PrivateSeries\n",
    "import numpy as np\n",
    "import pandas as pd\n",
    "\n",
    "# randomly distributing nans in two columns with prob = 0.5\n",
    "# prob of a record not having nan = 0.25 \n",
    "# Hence expected count after dropna should be around 2500.\n",
    "choice = [1,2,np.nan]\n",
    "a = np.random.choice(choice,10000,p=[0.25,0.25,0.5])\n",
    "b = np.random.choice(choice,10000,p=[0.25,0.25,0.5])\n",
    "priv_df = PrivateDataFrame(pd.DataFrame({'a':a , 'b':b}),metadata={'a':(1,2),'b':(1,2)})\n",
    "\n",
    "\n",
    "export(priv_df.dropna(axis=0).describe(eps=1), 'result')"
   ]
  },
  {
   "cell_type": "code",
   "execution_count": null,
   "metadata": {},
   "outputs": [],
   "source": [
    "print(result)"
   ]
  },
  {
   "cell_type": "code",
   "execution_count": null,
   "metadata": {},
   "outputs": [],
   "source": [
    "%ag "
   ]
  },
  {
   "cell_type": "code",
   "execution_count": null,
   "metadata": {},
   "outputs": [],
   "source": [
    "# Comm\n",
    "%%bash\n"
   ]
  },
  {
   "cell_type": "code",
   "execution_count": null,
   "metadata": {},
   "outputs": [],
   "source": [
    "yyy = 5 \n",
    "\n",
    "def yf():\n",
    "    te = 4\n",
    "    fr = te/0"
   ]
  },
  {
   "cell_type": "code",
   "execution_count": null,
   "metadata": {},
   "outputs": [],
   "source": [
    "vvv = 45\n",
    "\n",
    "ggg = 45/0"
   ]
  },
  {
   "cell_type": "code",
   "execution_count": null,
   "metadata": {},
   "outputs": [],
   "source": [
    "vvv"
   ]
  },
  {
   "cell_type": "code",
   "execution_count": null,
   "metadata": {},
   "outputs": [],
   "source": [
    "u = 777\n",
    "g = u/0"
   ]
  },
  {
   "cell_type": "code",
   "execution_count": null,
   "metadata": {},
   "outputs": [],
   "source": [
    "print(u)"
   ]
  },
  {
   "cell_type": "code",
   "execution_count": null,
   "metadata": {},
   "outputs": [],
   "source": [
    "global u \n",
    "u = 777\n",
    "g = u/0\n",
    "\n",
    "def loc():\n",
    "    global u \n",
    "    u = 9999 \n",
    "    # some = 56/0\n",
    "\n",
    "loc()"
   ]
  },
  {
   "cell_type": "code",
   "execution_count": null,
   "metadata": {},
   "outputs": [],
   "source": [
    "u"
   ]
  },
  {
   "cell_type": "code",
   "execution_count": null,
   "metadata": {},
   "outputs": [],
   "source": [
    "try:\n",
    "    mypy.run()\n",
    "\n",
    "except Exception as e:\n",
    "    print(\" Type Check Error \")\n",
    "    print(e)"
   ]
  }
 ],
 "metadata": {
  "kernelspec": {
   "display_name": "Python 3 (ipykernel)",
   "language": "python",
   "name": "python3"
  },
  "language_info": {
   "codemirror_mode": {
    "name": "ipython",
    "version": 3
   },
   "file_extension": ".py",
   "mimetype": "text/x-python",
   "name": "python",
   "nbconvert_exporter": "python",
   "pygments_lexer": "ipython3",
   "version": "3.9.7"
  }
 },
 "nbformat": 4,
 "nbformat_minor": 2
}
