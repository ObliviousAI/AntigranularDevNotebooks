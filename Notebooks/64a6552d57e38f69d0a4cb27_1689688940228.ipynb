{
 "cells": [
  {
   "cell_type": "code",
   "execution_count": 1,
   "metadata": {},
   "outputs": [
    {
     "name": "stdout",
     "output_type": "stream",
     "text": [
      "Connected to Antigranular server session id: ef657c41-8104-4a7d-9cb4-66adc95cad83\n",
      "Cell magic '%%ag' registered successfully, use `%%ag` in a notebook cell to execute your python code on Antigranular private python server\n"
     ]
    }
   ],
   "source": [
    "# import antigranular as ag\n",
    "# ag_client = ag.login(<client_id>,<client_secret>, dataset = \"Adult Population Dataset\")\n",
    "import antigranular as ag\n",
    "session = ag.login(<client_id>,<client_secret>, dataset = \"Iris Dataset\")"
   ]
  },
  {
   "cell_type": "code",
   "execution_count": 2,
   "metadata": {},
   "outputs": [],
   "source": [
    "%%ag\n",
    "from ag_utils import load_dataset, export\n",
    "dataset = load_dataset(\"Iris Dataset\")\n",
    "train_x = dataset[\"train_x\"]\n",
    "train_y = dataset[\"train_y\"]\n",
    "test_x = dataset[\"test_x\"]"
   ]
  },
  {
   "cell_type": "code",
   "execution_count": 3,
   "metadata": {},
   "outputs": [
    {
     "name": "stdout",
     "output_type": "stream",
     "text": [
      "\u001b[0;31m---------------------------------------------------------------------------\u001b[0m\u001b[0;31mAttributeError\u001b[0m                            Traceback (most recent call last)Cell \u001b[0;32mIn[2], line 1\u001b[0m\n",
      "\u001b[0;32m----> 1\u001b[0m \u001b[38;5;28;01mfrom\u001b[39;00m \u001b[38;5;21;01mop_pandas\u001b[39;00m \u001b[38;5;28;01mimport\u001b[39;00m PrivateDataFrame\n",
      "\u001b[1;32m      2\u001b[0m \u001b[38;5;28;01mimport\u001b[39;00m \u001b[38;5;21;01mop_snsynth\u001b[39;00m\n",
      "\u001b[1;32m      4\u001b[0m label_transformer \u001b[38;5;241m=\u001b[39m op_snsynth\u001b[38;5;241m.\u001b[39mLabelTransformer()\n",
      "File \u001b[0;32m/code/dependencies/ag_engine/ag_engine/restricted_python/custom_hooks.py:13\u001b[0m, in \u001b[0;36mCustomHooks.get_attribute\u001b[0;34m(self, obj, attr)\u001b[0m\n",
      "\u001b[1;32m     11\u001b[0m \u001b[38;5;28;01mdef\u001b[39;00m \u001b[38;5;21mget_attribute\u001b[39m(\u001b[38;5;28mself\u001b[39m, obj, attr):  \u001b[38;5;66;03m# methods\u001b[39;00m\n",
      "\u001b[1;32m     12\u001b[0m     \u001b[38;5;28;01mif\u001b[39;00m \u001b[38;5;28mself\u001b[39m\u001b[38;5;241m.\u001b[39mattribute_set\u001b[38;5;241m.\u001b[39mfind_attr(obj, attr):\n",
      "\u001b[0;32m---> 13\u001b[0m         \u001b[38;5;28;01mreturn\u001b[39;00m \u001b[38;5;28;43mgetattr\u001b[39;49m\u001b[43m(\u001b[49m\u001b[43mobj\u001b[49m\u001b[43m,\u001b[49m\u001b[43m \u001b[49m\u001b[43mattr\u001b[49m\u001b[43m)\u001b[49m\n",
      "\u001b[1;32m     14\u001b[0m     \u001b[38;5;28;01melse\u001b[39;00m:\n",
      "\u001b[1;32m     15\u001b[0m         \u001b[38;5;28;01mif\u001b[39;00m obj\u001b[38;5;241m.\u001b[39m\u001b[38;5;18m__class__\u001b[39m\u001b[38;5;241m.\u001b[39m\u001b[38;5;18m__name__\u001b[39m \u001b[38;5;129;01min\u001b[39;00m default_config\u001b[38;5;241m.\u001b[39mtype_methods\u001b[38;5;241m.\u001b[39mkeys():\n",
      "\u001b[0;31mAttributeError\u001b[0m: module 'op_snsynth' has no attribute 'LabelTransformer'\n"
     ]
    }
   ],
   "source": [
    "%%ag\n",
    "from op_pandas import PrivateDataFrame\n",
    "import op_snsynth\n",
    "\n",
    "label_transformer = op_snsynth.LabelTransformer()\n",
    "label_transformer.fit(train_y['species'])"
   ]
  },
  {
   "cell_type": "code",
   "execution_count": null,
   "metadata": {},
   "outputs": [],
   "source": [
    "%%ag\n",
    "dp_transformed_labels = label_transformer.transform(df['species'], epsilon=1.0)"
   ]
  },
  {
   "cell_type": "code",
   "execution_count": null,
   "metadata": {},
   "outputs": [],
   "source": [
    "%%ag\n",
    "dp_transformed_categories = label_transformer.inverse_transform(dp_transformed_labels)"
   ]
  },
  {
   "cell_type": "code",
   "execution_count": null,
   "metadata": {},
   "outputs": [],
   "source": [
    "%%ag\n",
    "dp_df = PrivateDataFrame({'species': dp_transformed_categories})"
   ]
  }
 ],
 "metadata": {
  "kernelspec": {
   "display_name": "env",
   "language": "python",
   "name": "python3"
  },
  "language_info": {
   "codemirror_mode": {
    "name": "ipython",
    "version": 3
   },
   "file_extension": ".py",
   "mimetype": "text/x-python",
   "name": "python",
   "nbconvert_exporter": "python",
   "pygments_lexer": "ipython3",
   "version": "3.9.7"
  },
  "orig_nbformat": 4
 },
 "nbformat": 4,
 "nbformat_minor": 2
}
