{
 "cells": [
  {
   "cell_type": "code",
   "execution_count": 3,
   "metadata": {},
   "outputs": [],
   "source": [
    "import antigranular as ag"
   ]
  },
  {
   "cell_type": "code",
   "execution_count": 1,
   "metadata": {},
   "outputs": [
    {
     "data": {
      "text/html": [],
      "text/plain": [
       "<IPython.core.display.HTML object>"
      ]
     },
     "metadata": {},
     "output_type": "display_data"
    },
    {
     "name": "stderr",
     "output_type": "stream",
     "text": [
      "/Users/anshu/dev/projects/notebooks/notebook_venv/lib/python3.12/site-packages/antigranular/client.py:145: UserWarning: Antigranular client version 0.3.0 not in supported clients list shared by the server, please update antigranular client to the latest version.\n",
      "  warnings.warn(\n"
     ]
    },
    {
     "name": "stdout",
     "output_type": "stream",
     "text": [
      "local_host_port: 82435a14-8102-4bd1-834a-6d69fe8da3c1\n",
      "server_hostname: ip-10-20-16-47.us-east-2.compute.internal\n",
      "tls_cert_name: ip-10-20-16-47.us-east-2.compute.internal_82435a14-8102-4bd1-834a-6d69fe8da3c1\n",
      "Dataset \"The Wine Dataset\" loaded to the kernel as \u001b[92mthe_wine_dataset\u001b[0m\n",
      "Key Name                       Value Type     \n",
      "---------------------------------------------\n",
      "train_x                        PrivateDataFrame\n",
      "train_y                        PrivateDataFrame\n",
      "test_x                         DataFrame      \n",
      "\n",
      "Connected to Antigranular server session id: 73d03e22-62c2-4f81-bd28-aca1ac190f6c, the session will time out if idle for 26 minutes\n",
      "Cell magic '%%ag' registered successfully, use `%%ag` in a notebook cell to execute your python code on Antigranular private python server\n",
      "🚀 Everything's set up and ready to roll!\n"
     ]
    }
   ],
   "source": [
    "import antigranular as ag\n",
    "session = ag.login(<client_id>,<client_secret>, dataset = \"The Wine Dataset\")"
   ]
  },
  {
   "cell_type": "code",
   "execution_count": 8,
   "metadata": {},
   "outputs": [
    {
     "name": "stdout",
     "output_type": "stream",
     "text": [
      "+----+------------------------------+-------------+---------------+---------+----------------+\n",
      "|    | Column                       | numerical   | categorical   | dtype   | bounds         |\n",
      "|----+------------------------------+-------------+---------------+---------+----------------|\n",
      "|  0 | alcohol                      | True        | False         | float64 | (11.03, 14.83) |\n",
      "|  1 | malic_acid                   | True        | False         | float64 | (0.89, 5.8)    |\n",
      "|  2 | ash                          | True        | False         | float64 | (1.36, 3.23)   |\n",
      "|  3 | alcalinity_of_ash            | True        | False         | float64 | (10.6, 30.0)   |\n",
      "|  4 | magnesium                    | True        | False         | int64   | (70, 162)      |\n",
      "|  5 | total_phenols                | True        | False         | float64 | (0.98, 3.88)   |\n",
      "|  6 | flavanoids                   | True        | False         | float64 | (0.34, 5.08)   |\n",
      "|  7 | nonflavanoid_phenols         | True        | False         | float64 | (0.13, 0.66)   |\n",
      "|  8 | proanthocyanins              | True        | False         | float64 | (0.42, 3.58)   |\n",
      "|  9 | color_intensity              | True        | False         | float64 | (1.74, 13.0)   |\n",
      "| 10 | hue                          | True        | False         | float64 | (0.48, 1.71)   |\n",
      "| 11 | 0D280_0D315_of_diluted_wines | True        | False         | float64 | (1.27, 4.0)    |\n",
      "| 12 | proline                      | True        | False         | int64   | (278, 1547)    |\n",
      "+----+------------------------------+-------------+---------------+---------+----------------+\n",
      "\n"
     ]
    }
   ],
   "source": [
    "%%ag\n",
    "the_wine_dataset['train_x'].info()"
   ]
  },
  {
   "cell_type": "code",
   "execution_count": null,
   "metadata": {},
   "outputs": [],
   "source": []
  }
 ],
 "metadata": {
  "kernelspec": {
   "display_name": "notebook_venv",
   "language": "python",
   "name": "python3"
  },
  "language_info": {
   "codemirror_mode": {
    "name": "ipython",
    "version": 3
   },
   "file_extension": ".py",
   "mimetype": "text/x-python",
   "name": "python",
   "nbconvert_exporter": "python",
   "pygments_lexer": "ipython3",
   "version": "3.12.4"
  }
 },
 "nbformat": 4,
 "nbformat_minor": 2
}
