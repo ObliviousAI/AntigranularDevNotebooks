{
  "nbformat": 4,
  "nbformat_minor": 0,
  "metadata": {
    "colab": {
      "provenance": []
    },
    "kernelspec": {
      "name": "python3",
      "display_name": "Python 3"
    },
    "language_info": {
      "name": "python"
    }
  },
  "cells": [
    {
      "cell_type": "code",
      "source": [
        "import antigranular as ag\n",
        "session = ag.login(\"CDl6m0dfjtOPYzZUkvSDznKMKWVaEGCg\", \"Gsw1EODXdHXXIpnJFqKAmsjGSU2FCelIW1c4zOi/6PZg5ITEWMHPfXahM/RCHiS0\", dataset = \"The Wine Dataset\")"
      ],
      "metadata": {
        "colab": {
          "base_uri": "https://localhost:8080/",
          "height": 146
        },
        "id": "KvEmwA3L9KKj",
        "outputId": "b515e581-5e3a-4059-bae5-815c81a0d6bd"
      },
      "execution_count": 9,
      "outputs": [
        {
          "output_type": "display_data",
          "data": {
            "text/plain": [
              "<IPython.core.display.HTML object>"
            ],
            "text/html": []
          },
          "metadata": {}
        },
        {
          "output_type": "stream",
          "name": "stderr",
          "text": [
            "/usr/local/lib/python3.10/dist-packages/antigranular/client.py:142: UserWarning: Antigranular client version 0.2.9 not in supported clients list shared by the server, please update antigranular client to the latest version.\n",
            "  warnings.warn(\n"
          ]
        },
        {
          "output_type": "stream",
          "name": "stdout",
          "text": [
            "Loading dataset \"The Wine Dataset\" to the kernel...\n",
            "Dataset \"The Wine Dataset\" loaded to the kernel as the_wine_dataset\n",
            "Connected to Antigranular server session id: 115480b4-81dc-42b6-b316-e61b1c450e2e, the session will time out if idle for 60 minutes\n",
            "Cell magic '%%ag' registered successfully, use `%%ag` in a notebook cell to execute your python code on Antigranular private python server\n",
            "🚀 Everything's set up and ready to roll!\n"
          ]
        }
      ]
    },
    {
      "cell_type": "code",
      "source": [
        "session.terminate_session()"
      ],
      "metadata": {
        "colab": {
          "base_uri": "https://localhost:8080/"
        },
        "id": "wRQX6kqU9Vho",
        "outputId": "128c152a-89be-4628-bbac-19efcd96166b"
      },
      "execution_count": 10,
      "outputs": [
        {
          "output_type": "execute_result",
          "data": {
            "text/plain": [
              "{'status': 'ok'}"
            ]
          },
          "metadata": {},
          "execution_count": 10
        }
      ]
    },
    {
      "cell_type": "code",
      "source": [],
      "metadata": {
        "id": "ratn_JIS97XE"
      },
      "execution_count": null,
      "outputs": []
    }
  ]
}